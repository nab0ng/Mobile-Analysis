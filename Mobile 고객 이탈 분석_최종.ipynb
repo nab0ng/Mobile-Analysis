{
 "cells": [
  {
   "cell_type": "markdown",
   "metadata": {
    "id": "mTt7qGUTCcFs"
   },
   "source": [
    "# Mobile 고객 이탈 분석"
   ]
  },
  {
   "cell_type": "markdown",
   "metadata": {
    "id": "cdQaCT5I0IL_"
   },
   "source": [
    "* 약정기간이 끝난 고객이 번호이동(이탈)해 가는 문제를 해결하기 위해 어떤 고객이 번호이동(이탈)해 가는지 데이터분석을 해보려한다.\n",
    "* 고객 이탈여부(CHURN)에 영향을 주는 요인을 찾아 보자."
   ]
  },
  {
   "cell_type": "markdown",
   "metadata": {
    "id": "0wuYJKZHjA3d"
   },
   "source": [
    "![](https://d18lkz4dllo6v2.cloudfront.net/cumulus_uploads/entry/23964/mobile%20phones.png)"
   ]
  },
  {
   "cell_type": "markdown",
   "metadata": {
    "id": "AHmt88Q5EVsj"
   },
   "source": [
    "## 0.환경설정"
   ]
  },
  {
   "cell_type": "markdown",
   "metadata": {
    "id": "KnzVh2LmkLDU"
   },
   "source": [
    "### 1) 라이브러리 로딩"
   ]
  },
  {
   "cell_type": "code",
   "execution_count": 1,
   "metadata": {
    "id": "3rsQerEaELwI"
   },
   "outputs": [],
   "source": [
    "import pandas as pd\n",
    "import numpy as np\n",
    "import matplotlib.pyplot as plt\n",
    "import seaborn as sns\n",
    "\n",
    "from statsmodels.graphics.mosaicplot import mosaic\n",
    "from scipy import stats as spst\n",
    "import statsmodels.api as sm"
   ]
  },
  {
   "cell_type": "code",
   "execution_count": 2,
   "metadata": {},
   "outputs": [],
   "source": [
    "from sklearn.model_selection import train_test_split\n",
    "import warnings\n",
    "warnings.filterwarnings('ignore')"
   ]
  },
  {
   "cell_type": "markdown",
   "metadata": {
    "id": "5Qh5KYWokO_N"
   },
   "source": [
    "### 2) 데이터 로딩"
   ]
  },
  {
   "cell_type": "code",
   "execution_count": 3,
   "metadata": {},
   "outputs": [
    {
     "data": {
      "text/html": [
       "<div>\n",
       "<style scoped>\n",
       "    .dataframe tbody tr th:only-of-type {\n",
       "        vertical-align: middle;\n",
       "    }\n",
       "\n",
       "    .dataframe tbody tr th {\n",
       "        vertical-align: top;\n",
       "    }\n",
       "\n",
       "    .dataframe thead th {\n",
       "        text-align: right;\n",
       "    }\n",
       "</style>\n",
       "<table border=\"1\" class=\"dataframe\">\n",
       "  <thead>\n",
       "    <tr style=\"text-align: right;\">\n",
       "      <th></th>\n",
       "      <th>id</th>\n",
       "      <th>COLLEGE</th>\n",
       "      <th>INCOME</th>\n",
       "      <th>OVERAGE</th>\n",
       "      <th>LEFTOVER</th>\n",
       "      <th>HOUSE</th>\n",
       "      <th>HANDSET_PRICE</th>\n",
       "      <th>OVER_15MINS_CALLS_PER_MONTH</th>\n",
       "      <th>AVERAGE_CALL_DURATION</th>\n",
       "      <th>REPORTED_SATISFACTION</th>\n",
       "      <th>REPORTED_USAGE_LEVEL</th>\n",
       "      <th>CONSIDERING_CHANGE_OF_PLAN</th>\n",
       "      <th>CHURN</th>\n",
       "    </tr>\n",
       "  </thead>\n",
       "  <tbody>\n",
       "    <tr>\n",
       "      <th>0</th>\n",
       "      <td>544</td>\n",
       "      <td>1</td>\n",
       "      <td>47711</td>\n",
       "      <td>183</td>\n",
       "      <td>17</td>\n",
       "      <td>730589.0</td>\n",
       "      <td>192</td>\n",
       "      <td>19</td>\n",
       "      <td>5</td>\n",
       "      <td>unsat</td>\n",
       "      <td>little</td>\n",
       "      <td>considering</td>\n",
       "      <td>0</td>\n",
       "    </tr>\n",
       "    <tr>\n",
       "      <th>1</th>\n",
       "      <td>689</td>\n",
       "      <td>0</td>\n",
       "      <td>74132</td>\n",
       "      <td>191</td>\n",
       "      <td>43</td>\n",
       "      <td>535092.0</td>\n",
       "      <td>349</td>\n",
       "      <td>15</td>\n",
       "      <td>2</td>\n",
       "      <td>unsat</td>\n",
       "      <td>very_little</td>\n",
       "      <td>no</td>\n",
       "      <td>1</td>\n",
       "    </tr>\n",
       "    <tr>\n",
       "      <th>2</th>\n",
       "      <td>3134</td>\n",
       "      <td>1</td>\n",
       "      <td>150419</td>\n",
       "      <td>0</td>\n",
       "      <td>14</td>\n",
       "      <td>204004.0</td>\n",
       "      <td>682</td>\n",
       "      <td>0</td>\n",
       "      <td>6</td>\n",
       "      <td>unsat</td>\n",
       "      <td>very_high</td>\n",
       "      <td>considering</td>\n",
       "      <td>0</td>\n",
       "    </tr>\n",
       "    <tr>\n",
       "      <th>3</th>\n",
       "      <td>12523</td>\n",
       "      <td>0</td>\n",
       "      <td>159567</td>\n",
       "      <td>0</td>\n",
       "      <td>58</td>\n",
       "      <td>281969.0</td>\n",
       "      <td>634</td>\n",
       "      <td>1</td>\n",
       "      <td>1</td>\n",
       "      <td>very_unsat</td>\n",
       "      <td>very_high</td>\n",
       "      <td>never_thought</td>\n",
       "      <td>0</td>\n",
       "    </tr>\n",
       "    <tr>\n",
       "      <th>4</th>\n",
       "      <td>2374</td>\n",
       "      <td>1</td>\n",
       "      <td>23392</td>\n",
       "      <td>0</td>\n",
       "      <td>0</td>\n",
       "      <td>216707.0</td>\n",
       "      <td>233</td>\n",
       "      <td>0</td>\n",
       "      <td>15</td>\n",
       "      <td>unsat</td>\n",
       "      <td>very_little</td>\n",
       "      <td>no</td>\n",
       "      <td>1</td>\n",
       "    </tr>\n",
       "  </tbody>\n",
       "</table>\n",
       "</div>"
      ],
      "text/plain": [
       "      id  COLLEGE  INCOME  OVERAGE  LEFTOVER     HOUSE  HANDSET_PRICE  \\\n",
       "0    544        1   47711      183        17  730589.0            192   \n",
       "1    689        0   74132      191        43  535092.0            349   \n",
       "2   3134        1  150419        0        14  204004.0            682   \n",
       "3  12523        0  159567        0        58  281969.0            634   \n",
       "4   2374        1   23392        0         0  216707.0            233   \n",
       "\n",
       "   OVER_15MINS_CALLS_PER_MONTH  AVERAGE_CALL_DURATION REPORTED_SATISFACTION  \\\n",
       "0                           19                      5                 unsat   \n",
       "1                           15                      2                 unsat   \n",
       "2                            0                      6                 unsat   \n",
       "3                            1                      1            very_unsat   \n",
       "4                            0                     15                 unsat   \n",
       "\n",
       "  REPORTED_USAGE_LEVEL CONSIDERING_CHANGE_OF_PLAN  CHURN  \n",
       "0               little                considering      0  \n",
       "1          very_little                         no      1  \n",
       "2            very_high                considering      0  \n",
       "3            very_high              never_thought      0  \n",
       "4          very_little                         no      1  "
      ]
     },
     "execution_count": 3,
     "metadata": {},
     "output_type": "execute_result"
    }
   ],
   "source": [
    "# mobile data\n",
    "data_path = \"https://raw.githubusercontent.com/DA4BAM/dataset/master/mobile_NA2.csv\"\n",
    "mobile = pd.read_csv(data_path)\n",
    "mobile.head()"
   ]
  },
  {
   "cell_type": "markdown",
   "metadata": {
    "id": "JtiF310fjmJy"
   },
   "source": [
    "|변수 명|내용|구분|\n",
    "|\t----\t|\t----\t|\t----\t|\n",
    "|\tCOLLEGE\t|\t대학졸업 여부(1,0)\t|\t\t|\n",
    "|\tINCOME\t|\t연 수입액(달러)\t|\t\t|\n",
    "|\tOVERAGE\t|\t월 초과사용 시간(분)\t|\t\t|\n",
    "|\tLEFTOVER\t|\t월 사용 잔여시간(%)\t|\t\t|\n",
    "|\tHOUSE\t|\t집 가격(달러)\t|\t\t|\n",
    "|\tHANDSET_PRICE\t|\t핸드폰 가격(달러)\t|\t\t|\n",
    "|\tAVERAGE_CALL_DURATION\t|\t평균 통화시간(분)\t|\t\t|\n",
    "|\tREPORTED_SATISFACTION\t|\t만족도 설문('very_unsat', 'unsat', 'avg', 'sat', 'very_sat' )\t|\t\t|\n",
    "|\tCONSIDERING_CHANGE_OF_PLAN\t|\t변경 계획 설문('never_thought', 'no', 'perhaps', 'considering',   'actively_looking_into_it')\t|\t\t|\n",
    "|\t**CHURN**\t|\t이탈여부(1 : 이탈, 0 : 잔류)\t|\tLabel\t|\n"
   ]
  },
  {
   "cell_type": "markdown",
   "metadata": {
    "id": "bKimk8qVm8oC"
   },
   "source": [
    "----"
   ]
  },
  {
   "cell_type": "markdown",
   "metadata": {
    "id": "0bouXLxGkSSd"
   },
   "source": [
    "## 1.데이터 탐색"
   ]
  },
  {
   "cell_type": "markdown",
   "metadata": {
    "id": "1hYPpnplEedX"
   },
   "source": [
    "## 1-1.단변량 분석"
   ]
  },
  {
   "cell_type": "markdown",
   "metadata": {
    "id": "BP8iBi7We3AI"
   },
   "source": [
    "### 1) OVERAGE : 월 초과사용 시간(분)"
   ]
  },
  {
   "cell_type": "code",
   "execution_count": 52,
   "metadata": {},
   "outputs": [],
   "source": [
    "feature = 'OVERAGE'"
   ]
  },
  {
   "cell_type": "code",
   "execution_count": 54,
   "metadata": {
    "id": "n53LBx0fEMMs"
   },
   "outputs": [
    {
     "data": {
      "text/plain": [
       "0"
      ]
     },
     "execution_count": 54,
     "metadata": {},
     "output_type": "execute_result"
    }
   ],
   "source": [
    "mobile[feature].isna().sum()"
   ]
  },
  {
   "cell_type": "code",
   "execution_count": 55,
   "metadata": {
    "id": "M-dKqpwTEMJe"
   },
   "outputs": [
    {
     "data": {
      "text/plain": [
       "count    18000.000000\n",
       "mean        86.014833\n",
       "std         85.963981\n",
       "min         -2.000000\n",
       "25%          0.000000\n",
       "50%         59.000000\n",
       "75%        179.000000\n",
       "max        335.000000\n",
       "Name: OVERAGE, dtype: float64"
      ]
     },
     "execution_count": 55,
     "metadata": {},
     "output_type": "execute_result"
    }
   ],
   "source": [
    "mobile[feature].describe()"
   ]
  },
  {
   "cell_type": "code",
   "execution_count": 56,
   "metadata": {
    "id": "-67MJSNHEMF6"
   },
   "outputs": [
    {
     "data": {
      "image/png": "[encoded data removed]",
      "text/plain": [
       "<Figure size 864x288 with 2 Axes>"
      ]
     },
     "metadata": {
      "needs_background": "light"
     },
     "output_type": "display_data"
    }
   ],
   "source": [
    "plt.figure(figsize=(12,4))\n",
    "plt.subplot(1,2,1)\n",
    "sns.histplot(mobile[feature], bins=50)\n",
    "\n",
    "plt.subplot(1,2,2)\n",
    "sns.boxplot(mobile[feature])\n",
    "\n",
    "plt.tight_layout()\n",
    "plt.show()"
   ]
  },
  {
   "cell_type": "markdown",
   "metadata": {},
   "source": [
    "* 분석 \n",
    "    * 0 구간 압도적으로 크다 > 이용자는 자신의 요금제에 알맞게 사용한다.\n",
    "\n",
    "    * 초과사용 시간이 25-100, 140-250분에 수치가 더 나타난다.\n",
    "    \n",
    "- 보통 제공되는 양으로 사용하다가 개인적인 전화나 업무용으로 길어지면\n",
    "  오버될 가능성이 높다."
   ]
  },
  {
   "cell_type": "markdown",
   "metadata": {},
   "source": [
    "추가분석 ) 구간을 0,30-100,150-250 구분해서 분석해 볼 필요 있음"
   ]
  },
  {
   "cell_type": "markdown",
   "metadata": {
    "id": "cYkgwG47evaF"
   },
   "source": [
    "### 2) INCOME : 연 수입액(달러)"
   ]
  },
  {
   "cell_type": "code",
   "execution_count": 18,
   "metadata": {
    "id": "bUzXvik-Ka88"
   },
   "outputs": [],
   "source": [
    "feature = 'INCOME'"
   ]
  },
  {
   "cell_type": "code",
   "execution_count": 11,
   "metadata": {
    "id": "IURgySMwEPNJ"
   },
   "outputs": [
    {
     "data": {
      "text/plain": [
       "0"
      ]
     },
     "execution_count": 11,
     "metadata": {},
     "output_type": "execute_result"
    }
   ],
   "source": [
    "mobile[feature].isna().sum()"
   ]
  },
  {
   "cell_type": "code",
   "execution_count": 12,
   "metadata": {
    "id": "wSHuLg0GEPJ0"
   },
   "outputs": [
    {
     "data": {
      "text/plain": [
       "count     18000.000000\n",
       "mean      80314.400278\n",
       "std       41703.420130\n",
       "min       20007.000000\n",
       "25%       42151.500000\n",
       "50%       75501.500000\n",
       "75%      116082.250000\n",
       "max      159983.000000\n",
       "Name: INCOME, dtype: float64"
      ]
     },
     "execution_count": 12,
     "metadata": {},
     "output_type": "execute_result"
    }
   ],
   "source": [
    "mobile[feature].describe()"
   ]
  },
  {
   "cell_type": "code",
   "execution_count": 19,
   "metadata": {},
   "outputs": [
    {
     "data": {
      "image/png": "[encoded data removed]",
      "text/plain": [
       "<Figure size 864x288 with 2 Axes>"
      ]
     },
     "metadata": {
      "needs_background": "light"
     },
     "output_type": "display_data"
    }
   ],
   "source": [
    "plt.figure(figsize=(12,4))\n",
    "plt.subplot(1,2,1)\n",
    "sns.histplot(mobile[feature], bins=18)\n",
    "\n",
    "plt.subplot(1,2,2)\n",
    "sns.boxplot(mobile[feature])\n",
    "\n",
    "plt.tight_layout()\n",
    "plt.show()"
   ]
  },
  {
   "cell_type": "markdown",
   "metadata": {},
   "source": [
    "* 분석\n",
    "    * 2만 달러(약 2400만원)-5만달러(약6000만원)의 수치가 크게 나옴\n",
    "    * 5만달러-10만달러, 11만달러-16만달러 구간별로 비슷한것같다.\n",
    "    * 평균은8만달러쯤\n",
    "    "
   ]
  },
  {
   "cell_type": "markdown",
   "metadata": {
    "id": "UNgJNBEIfB1p"
   },
   "source": [
    "### 3) HANDSET_PRICE : 핸드폰 가격(달러)"
   ]
  },
  {
   "cell_type": "code",
   "execution_count": 20,
   "metadata": {
    "id": "7FsVbJ_mKi15"
   },
   "outputs": [],
   "source": [
    "feature = 'HANDSET_PRICE'"
   ]
  },
  {
   "cell_type": "code",
   "execution_count": 16,
   "metadata": {
    "id": "aELmCKGSERed"
   },
   "outputs": [
    {
     "data": {
      "text/plain": [
       "0"
      ]
     },
     "execution_count": 16,
     "metadata": {},
     "output_type": "execute_result"
    }
   ],
   "source": [
    "mobile[feature].isna().sum()"
   ]
  },
  {
   "cell_type": "code",
   "execution_count": 17,
   "metadata": {
    "id": "EOpUeelrERbJ"
   },
   "outputs": [
    {
     "data": {
      "text/plain": [
       "count    18000.000000\n",
       "mean       390.096667\n",
       "std        214.239639\n",
       "min        130.000000\n",
       "25%        219.000000\n",
       "50%        326.000000\n",
       "75%        536.000000\n",
       "max        899.000000\n",
       "Name: HANDSET_PRICE, dtype: float64"
      ]
     },
     "execution_count": 17,
     "metadata": {},
     "output_type": "execute_result"
    }
   ],
   "source": [
    "mobile[feature].describe()"
   ]
  },
  {
   "cell_type": "code",
   "execution_count": 21,
   "metadata": {},
   "outputs": [
    {
     "data": {
      "image/png": "[encoded data removed]",
      "text/plain": [
       "<Figure size 864x288 with 2 Axes>"
      ]
     },
     "metadata": {
      "needs_background": "light"
     },
     "output_type": "display_data"
    }
   ],
   "source": [
    "plt.figure(figsize=(12,4))\n",
    "plt.subplot(1,2,1)\n",
    "sns.histplot(mobile[feature], bins=18)\n",
    "\n",
    "plt.subplot(1,2,2)\n",
    "sns.boxplot(mobile[feature])\n",
    "\n",
    "plt.tight_layout()\n",
    "plt.show()"
   ]
  },
  {
   "cell_type": "markdown",
   "metadata": {},
   "source": [
    "* 분석\n",
    "    * 130-270,270-400,400~ 크게 세구간으로 보임\n",
    "    특정 구간에 휴대폰을 구입하면 제공되는 혜택이 있을까?\n",
    "    * 평균 390달러(한화 46만원)\n",
    "    \n",
    "> 사람들이 일단 요금을 줄이기 위해 기기값을 최대한 적게 사용할 것임\n",
    "그런데 수치가 400이후 줄지 않고 비슷한 값으로 유지되는 것을 확인해봐야할것"
   ]
  },
  {
   "cell_type": "markdown",
   "metadata": {},
   "source": [
    "추가분석 :  400이후 판매량이 비슷한 이유!프로모션이 있나?"
   ]
  },
  {
   "cell_type": "markdown",
   "metadata": {
    "id": "e3QPEq8efB1r"
   },
   "source": [
    "### 4) REPORTED_SATISFACTION \n",
    "만족도 설문('very_unsat', 'unsat', 'avg', 'sat', 'very_sat' )"
   ]
  },
  {
   "cell_type": "code",
   "execution_count": 31,
   "metadata": {
    "id": "H4Oa5BnzKme9"
   },
   "outputs": [],
   "source": [
    "feature='REPORTED_SATISFACTION'"
   ]
  },
  {
   "cell_type": "code",
   "execution_count": 21,
   "metadata": {
    "id": "fzR3w0yaEUWY"
   },
   "outputs": [
    {
     "data": {
      "text/plain": [
       "38"
      ]
     },
     "execution_count": 21,
     "metadata": {},
     "output_type": "execute_result"
    }
   ],
   "source": [
    "mobile[feature].isna().sum()"
   ]
  },
  {
   "cell_type": "code",
   "execution_count": 26,
   "metadata": {},
   "outputs": [],
   "source": [
    "mob=mobile.loc[mobile[feature].notnull()]"
   ]
  },
  {
   "cell_type": "code",
   "execution_count": 22,
   "metadata": {},
   "outputs": [
    {
     "data": {
      "text/plain": [
       "array(['unsat', 'very_unsat', 'very_sat', 'sat', nan, 'avg'], dtype=object)"
      ]
     },
     "execution_count": 22,
     "metadata": {},
     "output_type": "execute_result"
    }
   ],
   "source": [
    "mobile[feature].unique()"
   ]
  },
  {
   "cell_type": "code",
   "execution_count": 29,
   "metadata": {
    "id": "nb1zmTAgEUS3"
   },
   "outputs": [
    {
     "name": "stdout",
     "output_type": "stream",
     "text": [
      "very_unsat    0.393720\n",
      "very_sat      0.253981\n",
      "unsat         0.199866\n",
      "avg           0.100546\n",
      "sat           0.051887\n",
      "Name: REPORTED_SATISFACTION, dtype: float64\n"
     ]
    }
   ],
   "source": [
    "tmp=mob[feature].value_counts()/len(mob[feature])\n",
    "tmp1=mob[feature].value_counts()\n",
    "print(tmp)"
   ]
  },
  {
   "cell_type": "code",
   "execution_count": 32,
   "metadata": {},
   "outputs": [
    {
     "data": {
      "image/png": "[encoded data removed]",
      "text/plain": [
       "<Figure size 432x288 with 1 Axes>"
      ]
     },
     "metadata": {
      "needs_background": "light"
     },
     "output_type": "display_data"
    }
   ],
   "source": [
    "sns.countplot(data=mobile, x=feature, palette=\"Set2\")\n",
    "plt.show()"
   ]
  },
  {
   "cell_type": "markdown",
   "metadata": {},
   "source": [
    "* 불만족 수치가 매우큼 > 기기변경할 확률이 높다\n",
    "\n",
    "대체적으로 불만족하는 수치가 만족보다 크다 >어떤 이유때문에 불만족스러운지 분석.\n",
    "월 초과사용이 많은지, 핸드폰가격이 비싼지 등을 같이 분석"
   ]
  },
  {
   "cell_type": "markdown",
   "metadata": {
    "id": "E5rB6CiofI_d"
   },
   "source": [
    "### 5) CONSIDERING_CHANGE_OF_PLAN\n",
    "변경 계획 설문('never_thought', 'no', 'perhaps', 'considering', 'actively_looking_into_it')"
   ]
  },
  {
   "cell_type": "code",
   "execution_count": 24,
   "metadata": {
    "id": "BoOX0VRsKped"
   },
   "outputs": [],
   "source": [
    "feature='CONSIDERING_CHANGE_OF_PLAN'"
   ]
  },
  {
   "cell_type": "code",
   "execution_count": 38,
   "metadata": {
    "id": "TNcmlLfHEWjg"
   },
   "outputs": [
    {
     "data": {
      "text/plain": [
       "0"
      ]
     },
     "execution_count": 38,
     "metadata": {},
     "output_type": "execute_result"
    }
   ],
   "source": [
    "mobile[feature].isna().sum()"
   ]
  },
  {
   "cell_type": "code",
   "execution_count": 39,
   "metadata": {
    "id": "e0BoQmeOEWgF"
   },
   "outputs": [
    {
     "data": {
      "text/plain": [
       "array(['considering', 'no', 'never_thought', 'actively_looking_into_it',\n",
       "       'perhaps'], dtype=object)"
      ]
     },
     "execution_count": 39,
     "metadata": {},
     "output_type": "execute_result"
    }
   ],
   "source": [
    "mobile[feature].unique()"
   ]
  },
  {
   "cell_type": "code",
   "execution_count": 40,
   "metadata": {},
   "outputs": [
    {
     "name": "stdout",
     "output_type": "stream",
     "text": [
      "considering                 0.396722\n",
      "actively_looking_into_it    0.247389\n",
      "no                          0.202444\n",
      "never_thought               0.100222\n",
      "perhaps                     0.053222\n",
      "Name: CONSIDERING_CHANGE_OF_PLAN, dtype: float64\n"
     ]
    }
   ],
   "source": [
    "tmp=mobile[feature].value_counts()/len(mobile[feature])\n",
    "tmp1=mobile[feature].value_counts()\n",
    "print(tmp)"
   ]
  },
  {
   "cell_type": "code",
   "execution_count": 29,
   "metadata": {},
   "outputs": [
    {
     "data": {
      "image/png": "[encoded data removed]",
      "text/plain": [
       "<Figure size 648x288 with 1 Axes>"
      ]
     },
     "metadata": {
      "needs_background": "light"
     },
     "output_type": "display_data"
    }
   ],
   "source": [
    "plt.figure(figsize=(9,4))\n",
    "sns.countplot(data=mobile, x=feature, palette=\"Set2\")\n",
    "plt.show()"
   ]
  },
  {
   "cell_type": "markdown",
   "metadata": {},
   "source": [
    "* 고려해본다는게 가장 높고\n",
    "  그다음 높은 수치는 적극적으로 변경한다는 수치이다.\n",
    "    >고려해본다는 고객의 마음을 잡아야 이탈을 방지할 수 있음(다양한 서비스제공이 필요)\n",
    "* 이 변수는 기기변경에 대한 중요한 정보를 제공해준다."
   ]
  },
  {
   "cell_type": "markdown",
   "metadata": {
    "id": "Es3rqfErEb4L"
   },
   "source": [
    "### 6) COLLEGE : 대학졸업 여부(1,0)"
   ]
  },
  {
   "cell_type": "code",
   "execution_count": 36,
   "metadata": {
    "id": "CokPil3nLCc7"
   },
   "outputs": [],
   "source": [
    "feature='COLLEGE'"
   ]
  },
  {
   "cell_type": "code",
   "execution_count": 48,
   "metadata": {
    "id": "3WRPvPWsEY2A"
   },
   "outputs": [
    {
     "data": {
      "text/plain": [
       "0"
      ]
     },
     "execution_count": 48,
     "metadata": {},
     "output_type": "execute_result"
    }
   ],
   "source": [
    "mobile[feature].isna().sum()"
   ]
  },
  {
   "cell_type": "code",
   "execution_count": 49,
   "metadata": {
    "id": "bURrEvizEYy6"
   },
   "outputs": [
    {
     "name": "stdout",
     "output_type": "stream",
     "text": [
      "1    0.502722\n",
      "0    0.497278\n",
      "Name: COLLEGE, dtype: float64\n"
     ]
    }
   ],
   "source": [
    "tmp=mobile[feature].value_counts()/len(mobile[feature])\n",
    "tmp1=mobile[feature].value_counts()\n",
    "print(tmp)"
   ]
  },
  {
   "cell_type": "code",
   "execution_count": 37,
   "metadata": {},
   "outputs": [
    {
     "data": {
      "image/png": "[encoded data removed]",
      "text/plain": [
       "<Figure size 432x288 with 1 Axes>"
      ]
     },
     "metadata": {
      "needs_background": "light"
     },
     "output_type": "display_data"
    }
   ],
   "source": [
    "sns.countplot(data=mobile, x=feature, palette=\"Set2\")\n",
    "plt.show()"
   ]
  },
  {
   "cell_type": "markdown",
   "metadata": {},
   "source": [
    "* 비율적으로 거의 반반이다"
   ]
  },
  {
   "cell_type": "markdown",
   "metadata": {
    "id": "78iry0XpLCc0"
   },
   "source": [
    "### 7) CHURN(target) : 이탈여부"
   ]
  },
  {
   "cell_type": "code",
   "execution_count": 40,
   "metadata": {
    "id": "XJ0YIFJrEb4R"
   },
   "outputs": [],
   "source": [
    "target='CHURN'"
   ]
  },
  {
   "cell_type": "code",
   "execution_count": 51,
   "metadata": {
    "id": "_J4LqspjEb4R"
   },
   "outputs": [
    {
     "data": {
      "text/plain": [
       "0"
      ]
     },
     "execution_count": 51,
     "metadata": {},
     "output_type": "execute_result"
    }
   ],
   "source": [
    "mobile[feature].isna().sum()"
   ]
  },
  {
   "cell_type": "code",
   "execution_count": 52,
   "metadata": {
    "id": "L5_tBDWkEb4R"
   },
   "outputs": [
    {
     "name": "stdout",
     "output_type": "stream",
     "text": [
      "1    0.502722\n",
      "0    0.497278\n",
      "Name: COLLEGE, dtype: float64\n"
     ]
    }
   ],
   "source": [
    "tmp=mobile[feature].value_counts()/len(mobile[feature])\n",
    "tmp1=mobile[feature].value_counts()\n",
    "print(tmp)"
   ]
  },
  {
   "cell_type": "code",
   "execution_count": 42,
   "metadata": {},
   "outputs": [
    {
     "data": {
      "image/png": "[encoded data removed]",
      "text/plain": [
       "<Figure size 432x288 with 1 Axes>"
      ]
     },
     "metadata": {
      "needs_background": "light"
     },
     "output_type": "display_data"
    }
   ],
   "source": [
    "sns.countplot(data=mobile, x=target, palette=\"Set2\")\n",
    "plt.show()"
   ]
  },
  {
   "cell_type": "markdown",
   "metadata": {},
   "source": [
    "* 이탈률이 50.27% => 굉장히 높은 수치이다."
   ]
  },
  {
   "cell_type": "markdown",
   "metadata": {
    "id": "ZghJJ7yLEpDA"
   },
   "source": [
    "## 1-2.이변량 분석 "
   ]
  },
  {
   "cell_type": "code",
   "execution_count": 66,
   "metadata": {
    "id": "qiWKeotjGkLp"
   },
   "outputs": [],
   "source": [
    "target = 'CHURN'"
   ]
  },
  {
   "cell_type": "markdown",
   "metadata": {
    "id": "fap08wfEMqtY"
   },
   "source": [
    "### (1) 범주형 Feature --> CHURN"
   ]
  },
  {
   "cell_type": "markdown",
   "metadata": {
    "id": "Dh2UW7_S-yoq"
   },
   "source": [
    "#### 1)COLLEGE --> CHURN"
   ]
  },
  {
   "cell_type": "code",
   "execution_count": 43,
   "metadata": {
    "id": "EWXtZEr_X0ok"
   },
   "outputs": [],
   "source": [
    "feature='COLLEGE'"
   ]
  },
  {
   "cell_type": "code",
   "execution_count": 44,
   "metadata": {
    "id": "T1VEUO2DFQZd"
   },
   "outputs": [
    {
     "data": {
      "text/html": [
       "<div>\n",
       "<style scoped>\n",
       "    .dataframe tbody tr th:only-of-type {\n",
       "        vertical-align: middle;\n",
       "    }\n",
       "\n",
       "    .dataframe tbody tr th {\n",
       "        vertical-align: top;\n",
       "    }\n",
       "\n",
       "    .dataframe thead th {\n",
       "        text-align: right;\n",
       "    }\n",
       "</style>\n",
       "<table border=\"1\" class=\"dataframe\">\n",
       "  <thead>\n",
       "    <tr style=\"text-align: right;\">\n",
       "      <th>COLLEGE</th>\n",
       "      <th>0</th>\n",
       "      <th>1</th>\n",
       "    </tr>\n",
       "    <tr>\n",
       "      <th>CHURN</th>\n",
       "      <th></th>\n",
       "      <th></th>\n",
       "    </tr>\n",
       "  </thead>\n",
       "  <tbody>\n",
       "    <tr>\n",
       "      <th>0</th>\n",
       "      <td>0.515697</td>\n",
       "      <td>0.49895</td>\n",
       "    </tr>\n",
       "    <tr>\n",
       "      <th>1</th>\n",
       "      <td>0.484303</td>\n",
       "      <td>0.50105</td>\n",
       "    </tr>\n",
       "  </tbody>\n",
       "</table>\n",
       "</div>"
      ],
      "text/plain": [
       "COLLEGE         0        1\n",
       "CHURN                     \n",
       "0        0.515697  0.49895\n",
       "1        0.484303  0.50105"
      ]
     },
     "execution_count": 44,
     "metadata": {},
     "output_type": "execute_result"
    }
   ],
   "source": [
    "pd.crosstab(mobile[target], mobile[feature], normalize='columns')"
   ]
  },
  {
   "cell_type": "code",
   "execution_count": 45,
   "metadata": {
    "id": "iRNinsgWFQGF"
   },
   "outputs": [
    {
     "data": {
      "image/png": "[encoded data removed]",
      "text/plain": [
       "<Figure size 432x288 with 1 Axes>"
      ]
     },
     "metadata": {
      "needs_background": "light"
     },
     "output_type": "display_data"
    }
   ],
   "source": [
    "target_mean=mobile[target].mean()\n",
    "temp = pd.crosstab(mobile[feature], mobile[target], normalize = 'index') #집계\n",
    "temp.plot.bar(stacked=True)\n",
    "plt.axhline(1-target_mean, color = 'r')\n",
    "plt.show()"
   ]
  },
  {
   "cell_type": "code",
   "execution_count": 46,
   "metadata": {
    "id": "rnJwF8-dFQCg"
   },
   "outputs": [
    {
     "data": {
      "image/png": "[encoded data removed]",
      "text/plain": [
       "<Figure size 432x288 with 3 Axes>"
      ]
     },
     "metadata": {
      "needs_background": "light"
     },
     "output_type": "display_data"
    }
   ],
   "source": [
    "mosaic(mobile, [ feature, target])\n",
    "plt.axhline(1- target_mean, color = 'r')\n",
    "plt.show()"
   ]
  },
  {
   "cell_type": "code",
   "execution_count": 50,
   "metadata": {
    "id": "Ch0ZeVooFP-g"
   },
   "outputs": [
    {
     "name": "stdout",
     "output_type": "stream",
     "text": [
      "교차표\n",
      " COLLEGE     0     1\n",
      "CHURN              \n",
      "0        4616  4515\n",
      "1        4335  4534\n",
      "----------------------------------------------------------------------------------------------------\n",
      "카이제곱통계량 : 4.9821\n",
      "p-value : 0.0256\n",
      "자유도 : 1\n"
     ]
    }
   ],
   "source": [
    "kai=pd.crosstab(mobile[target], mobile[feature])\n",
    "print('교차표\\n', kai)\n",
    "print('-' * 100)\n",
    "\n",
    "result = spst.chi2_contingency(kai)\n",
    "print('카이제곱통계량 :', round(result[0],4))\n",
    "print('p-value :', round(result[1],4))\n",
    "print('자유도 :', result[2])"
   ]
  },
  {
   "cell_type": "markdown",
   "metadata": {},
   "source": [
    "* 카이제곱통계량이 자유도의 2~3배 이상이고, p-value도 0.05보다 작다.\n",
    "\n",
    "  하지만 그래프상 평균값과 두가지의 범주가 큰 차이가 없어서 중간 관계를 가질 것으로 생각된다."
   ]
  },
  {
   "cell_type": "markdown",
   "metadata": {},
   "source": [
    ">그래프상\n",
    "졸업자의 이탈률이 미묘하게 더 크다.\n",
    "대학을 졸업하면 보통 경제적으로 독립을 하기 때문에 휴대폰요금을 본인이 낼 것이다..\n",
    "그래서 대학졸업자는 본인이 관리하기 때문에 좀 더 저렴하게 이용할수 있는 서비스를 찾을 것같다.\n",
    "그 과정에서 약정이 끝난 후 더 좋은 조건이 있는 통신사로 이동 할 것이라고 예상했다"
   ]
  },
  {
   "cell_type": "markdown",
   "metadata": {},
   "source": [
    "추가분석으로 연 수입액과 졸업여부를 판단하여 이직률을 알아봐도 좋을 것 같다."
   ]
  },
  {
   "cell_type": "code",
   "execution_count": 108,
   "metadata": {},
   "outputs": [
    {
     "data": {
      "text/html": [
       "<div>\n",
       "<style scoped>\n",
       "    .dataframe tbody tr th:only-of-type {\n",
       "        vertical-align: middle;\n",
       "    }\n",
       "\n",
       "    .dataframe tbody tr th {\n",
       "        vertical-align: top;\n",
       "    }\n",
       "\n",
       "    .dataframe thead th {\n",
       "        text-align: right;\n",
       "    }\n",
       "</style>\n",
       "<table border=\"1\" class=\"dataframe\">\n",
       "  <thead>\n",
       "    <tr style=\"text-align: right;\">\n",
       "      <th></th>\n",
       "      <th>COLLEGE</th>\n",
       "      <th>INCOME</th>\n",
       "    </tr>\n",
       "  </thead>\n",
       "  <tbody>\n",
       "    <tr>\n",
       "      <th>0</th>\n",
       "      <td>0</td>\n",
       "      <td>79906.901352</td>\n",
       "    </tr>\n",
       "    <tr>\n",
       "      <th>1</th>\n",
       "      <td>1</td>\n",
       "      <td>80717.486021</td>\n",
       "    </tr>\n",
       "  </tbody>\n",
       "</table>\n",
       "</div>"
      ],
      "text/plain": [
       "   COLLEGE        INCOME\n",
       "0        0  79906.901352\n",
       "1        1  80717.486021"
      ]
     },
     "execution_count": 108,
     "metadata": {},
     "output_type": "execute_result"
    }
   ],
   "source": [
    "mobile.groupby(feature, as_index=False)['INCOME'].mean()"
   ]
  },
  {
   "cell_type": "markdown",
   "metadata": {
    "id": "4Xeo68yeLU98"
   },
   "source": [
    "#### 2) REPORTED_SATISFACTION --> CHURN"
   ]
  },
  {
   "cell_type": "code",
   "execution_count": 181,
   "metadata": {
    "id": "rA7_WcWzLU-E"
   },
   "outputs": [],
   "source": [
    "feature='REPORTED_SATISFACTION'"
   ]
  },
  {
   "cell_type": "code",
   "execution_count": 74,
   "metadata": {
    "id": "3ZYBcWJ8FSNv"
   },
   "outputs": [
    {
     "data": {
      "text/html": [
       "<div>\n",
       "<style scoped>\n",
       "    .dataframe tbody tr th:only-of-type {\n",
       "        vertical-align: middle;\n",
       "    }\n",
       "\n",
       "    .dataframe tbody tr th {\n",
       "        vertical-align: top;\n",
       "    }\n",
       "\n",
       "    .dataframe thead th {\n",
       "        text-align: right;\n",
       "    }\n",
       "</style>\n",
       "<table border=\"1\" class=\"dataframe\">\n",
       "  <thead>\n",
       "    <tr style=\"text-align: right;\">\n",
       "      <th>REPORTED_SATISFACTION</th>\n",
       "      <th>avg</th>\n",
       "      <th>sat</th>\n",
       "      <th>unsat</th>\n",
       "      <th>very_sat</th>\n",
       "      <th>very_unsat</th>\n",
       "    </tr>\n",
       "    <tr>\n",
       "      <th>CHURN</th>\n",
       "      <th></th>\n",
       "      <th></th>\n",
       "      <th></th>\n",
       "      <th></th>\n",
       "      <th></th>\n",
       "    </tr>\n",
       "  </thead>\n",
       "  <tbody>\n",
       "    <tr>\n",
       "      <th>0</th>\n",
       "      <td>0.527132</td>\n",
       "      <td>0.527897</td>\n",
       "      <td>0.499164</td>\n",
       "      <td>0.511618</td>\n",
       "      <td>0.50099</td>\n",
       "    </tr>\n",
       "    <tr>\n",
       "      <th>1</th>\n",
       "      <td>0.472868</td>\n",
       "      <td>0.472103</td>\n",
       "      <td>0.500836</td>\n",
       "      <td>0.488382</td>\n",
       "      <td>0.49901</td>\n",
       "    </tr>\n",
       "  </tbody>\n",
       "</table>\n",
       "</div>"
      ],
      "text/plain": [
       "REPORTED_SATISFACTION       avg       sat     unsat  very_sat  very_unsat\n",
       "CHURN                                                                    \n",
       "0                      0.527132  0.527897  0.499164  0.511618     0.50099\n",
       "1                      0.472868  0.472103  0.500836  0.488382     0.49901"
      ]
     },
     "execution_count": 74,
     "metadata": {},
     "output_type": "execute_result"
    }
   ],
   "source": [
    "pd.crosstab(mobile[target], mobile[feature], normalize='columns')"
   ]
  },
  {
   "cell_type": "code",
   "execution_count": 75,
   "metadata": {
    "id": "H8r6fiOjFSKP"
   },
   "outputs": [
    {
     "data": {
      "image/png": "[encoded data removed]",
      "text/plain": [
       "<Figure size 432x288 with 1 Axes>"
      ]
     },
     "metadata": {
      "needs_background": "light"
     },
     "output_type": "display_data"
    }
   ],
   "source": [
    "temp = pd.crosstab(mobile[feature], mobile[target], normalize = 'index') #집계\n",
    "temp.plot.bar(stacked=True)\n",
    "plt.axhline(1-target_mean, color = 'r')\n",
    "plt.show()"
   ]
  },
  {
   "cell_type": "code",
   "execution_count": 76,
   "metadata": {
    "id": "-lZ7bHbDFSG-"
   },
   "outputs": [
    {
     "data": {
      "image/png": "[encoded data removed]",
      "text/plain": [
       "<Figure size 432x288 with 3 Axes>"
      ]
     },
     "metadata": {
      "needs_background": "light"
     },
     "output_type": "display_data"
    }
   ],
   "source": [
    "mosaic(mobile, [ feature, target])\n",
    "plt.axhline(1- target_mean, color = 'r')\n",
    "plt.show()"
   ]
  },
  {
   "cell_type": "code",
   "execution_count": 77,
   "metadata": {
    "id": "zMUj1rePFSDg"
   },
   "outputs": [
    {
     "name": "stdout",
     "output_type": "stream",
     "text": [
      "교차표\n",
      " REPORTED_SATISFACTION  avg  sat  unsat  very_sat  very_unsat\n",
      "CHURN                                                       \n",
      "0                      952  492   1792      2334        3543\n",
      "1                      854  440   1798      2228        3529\n",
      "----------------------------------------------------------------------------------------------------\n",
      "카이제곱통계량 6.8411009572056445\n",
      "p-value 0.14452738878905066\n",
      "자유도 4\n"
     ]
    }
   ],
   "source": [
    "kai=pd.crosstab(mobile[target], mobile[feature])\n",
    "print('교차표\\n', kai)\n",
    "print('-' * 100)\n",
    "\n",
    "result = spst.chi2_contingency(kai)\n",
    "print('카이제곱통계량', result[0])\n",
    "print('p-value', result[1])\n",
    "print('자유도', result[2])"
   ]
  },
  {
   "cell_type": "markdown",
   "metadata": {},
   "source": [
    "* 수치상으로는 카이제곱통계량과 p-value 모두 관계가 없다라고 나옴"
   ]
  },
  {
   "cell_type": "markdown",
   "metadata": {},
   "source": [
    "* 그래프상 \n",
    "    보통, 만족 -> 평균보다 이탈률이 조금 낮음\n",
    "* 하지만,\n",
    "    데이터 양으로 따져봤을때 불만족인 고객이 50%정도가 넘고 평균보다 이탈률이 조금 \n",
    "    높은 것으로 보아\n",
    "    잠재적으로 이탈가능성 고객이 많을 것이라고 분석한다.\n",
    "\n",
    ">어떤 이유때문에 불만족스러운지 추가 분석.\n",
    "월 초과사용이 많은지, 핸드폰가격이 비싼지 등을 같이 분석"
   ]
  },
  {
   "cell_type": "markdown",
   "metadata": {
    "id": "bdWZCugILZAz"
   },
   "source": [
    "#### 3) CONSIDERING_CHANGE_OF_PLAN --> CHURN"
   ]
  },
  {
   "cell_type": "code",
   "execution_count": 78,
   "metadata": {
    "id": "H7UDK6CKLZAz"
   },
   "outputs": [],
   "source": [
    "feature='CONSIDERING_CHANGE_OF_PLAN'"
   ]
  },
  {
   "cell_type": "code",
   "execution_count": 79,
   "metadata": {
    "id": "yzB6q17JFUu2"
   },
   "outputs": [
    {
     "data": {
      "text/html": [
       "<div>\n",
       "<style scoped>\n",
       "    .dataframe tbody tr th:only-of-type {\n",
       "        vertical-align: middle;\n",
       "    }\n",
       "\n",
       "    .dataframe tbody tr th {\n",
       "        vertical-align: top;\n",
       "    }\n",
       "\n",
       "    .dataframe thead th {\n",
       "        text-align: right;\n",
       "    }\n",
       "</style>\n",
       "<table border=\"1\" class=\"dataframe\">\n",
       "  <thead>\n",
       "    <tr style=\"text-align: right;\">\n",
       "      <th>CONSIDERING_CHANGE_OF_PLAN</th>\n",
       "      <th>actively_looking_into_it</th>\n",
       "      <th>considering</th>\n",
       "      <th>never_thought</th>\n",
       "      <th>no</th>\n",
       "      <th>perhaps</th>\n",
       "    </tr>\n",
       "    <tr>\n",
       "      <th>CHURN</th>\n",
       "      <th></th>\n",
       "      <th></th>\n",
       "      <th></th>\n",
       "      <th></th>\n",
       "      <th></th>\n",
       "    </tr>\n",
       "  </thead>\n",
       "  <tbody>\n",
       "    <tr>\n",
       "      <th>0</th>\n",
       "      <td>0.511565</td>\n",
       "      <td>0.510853</td>\n",
       "      <td>0.513304</td>\n",
       "      <td>0.500274</td>\n",
       "      <td>0.475992</td>\n",
       "    </tr>\n",
       "    <tr>\n",
       "      <th>1</th>\n",
       "      <td>0.488435</td>\n",
       "      <td>0.489147</td>\n",
       "      <td>0.486696</td>\n",
       "      <td>0.499726</td>\n",
       "      <td>0.524008</td>\n",
       "    </tr>\n",
       "  </tbody>\n",
       "</table>\n",
       "</div>"
      ],
      "text/plain": [
       "CONSIDERING_CHANGE_OF_PLAN  actively_looking_into_it  considering  \\\n",
       "CHURN                                                               \n",
       "0                                           0.511565     0.510853   \n",
       "1                                           0.488435     0.489147   \n",
       "\n",
       "CONSIDERING_CHANGE_OF_PLAN  never_thought        no   perhaps  \n",
       "CHURN                                                          \n",
       "0                                0.513304  0.500274  0.475992  \n",
       "1                                0.486696  0.499726  0.524008  "
      ]
     },
     "execution_count": 79,
     "metadata": {},
     "output_type": "execute_result"
    }
   ],
   "source": [
    "pd.crosstab(mobile[target], mobile[feature], normalize='columns')"
   ]
  },
  {
   "cell_type": "code",
   "execution_count": 80,
   "metadata": {
    "id": "yruN2nAbFUhU"
   },
   "outputs": [
    {
     "data": {
      "image/png": "[encoded data removed]",
      "text/plain": [
       "<Figure size 432x288 with 1 Axes>"
      ]
     },
     "metadata": {
      "needs_background": "light"
     },
     "output_type": "display_data"
    }
   ],
   "source": [
    "temp = pd.crosstab(mobile[feature], mobile[target], normalize = 'index') #집계\n",
    "temp.plot.bar(stacked=True)\n",
    "plt.axhline(1-target_mean, color = 'r')\n",
    "plt.show()"
   ]
  },
  {
   "cell_type": "code",
   "execution_count": 81,
   "metadata": {
    "id": "a0RGyObLFUdu"
   },
   "outputs": [
    {
     "data": {
      "image/png": "[encoded data removed]",
      "text/plain": [
       "<Figure size 432x288 with 3 Axes>"
      ]
     },
     "metadata": {
      "needs_background": "light"
     },
     "output_type": "display_data"
    }
   ],
   "source": [
    "mosaic(mobile, [ feature, target])\n",
    "plt.axhline(1- target_mean, color = 'r')\n",
    "plt.show()"
   ]
  },
  {
   "cell_type": "markdown",
   "metadata": {},
   "source": [
    "그래프 분석\n",
    "이 변수는 기존 고객 유지에 중요한 변수라고 생각한다.\n",
    "* perhaps 의 이직률이 평균보다 높다\n",
    " > 경쟁사의 요금제나 더 흥미로운 패키지 등\n",
    "    다양한 이유를 통해 기기변경 했을 거라고 생각한다.\n",
    "\n",
    "* 'considering', 'actively_looking_into_it' 데이터가 크다\n",
    " > 이 항목을 응답한 사용자의 이탈을 막아야 전체 이탈률을 줄일 수 있다. \n",
    "    경쟁사보다 솔깃한 제안을 할 필요가 있다. \n",
    "    많은 이벤트나 프로모션, 맞춤 요금제 서비스 등을 제공해야한다.."
   ]
  },
  {
   "cell_type": "code",
   "execution_count": 82,
   "metadata": {
    "id": "vWedSkNoFUak"
   },
   "outputs": [
    {
     "name": "stdout",
     "output_type": "stream",
     "text": [
      "교차표\n",
      " CONSIDERING_CHANGE_OF_PLAN  actively_looking_into_it  considering  \\\n",
      "CHURN                                                               \n",
      "0                                               2278         3648   \n",
      "1                                               2175         3493   \n",
      "\n",
      "CONSIDERING_CHANGE_OF_PLAN  never_thought    no  perhaps  \n",
      "CHURN                                                     \n",
      "0                                     926  1823      456  \n",
      "1                                     878  1821      502  \n",
      "----------------------------------------------------------------------------------------------------\n",
      "카이제곱통계량 5.421434419620689\n",
      "p-value 0.2467222586679969\n",
      "자유도 4\n"
     ]
    }
   ],
   "source": [
    "kai=pd.crosstab(mobile[target], mobile[feature])\n",
    "print('교차표\\n', kai)\n",
    "print('-' * 100)\n",
    "\n",
    "result = spst.chi2_contingency(kai)\n",
    "print('카이제곱통계량', result[0])\n",
    "print('p-value', result[1])\n",
    "print('자유도', result[2])"
   ]
  },
  {
   "cell_type": "markdown",
   "metadata": {},
   "source": [
    "* 카이제곱검정\n",
    " 수치상으론 관계없다고 나옴"
   ]
  },
  {
   "cell_type": "markdown",
   "metadata": {
    "id": "lUsQ0iBHMqte"
   },
   "source": [
    "### (2) 숫자형 Feature --> CHURN"
   ]
  },
  {
   "cell_type": "markdown",
   "metadata": {
    "id": "F_Mugk3f_y3X"
   },
   "source": [
    "#### 1) OVERAGE --> CHURN\n"
   ]
  },
  {
   "cell_type": "code",
   "execution_count": 110,
   "metadata": {
    "id": "8ROLKtUueHSn"
   },
   "outputs": [],
   "source": [
    "feature='OVERAGE'"
   ]
  },
  {
   "cell_type": "code",
   "execution_count": 91,
   "metadata": {
    "id": "pRhxayOcFdXb"
   },
   "outputs": [
    {
     "data": {
      "image/png": "[encoded data removed]",
      "text/plain": [
       "<Figure size 432x288 with 1 Axes>"
      ]
     },
     "metadata": {
      "needs_background": "light"
     },
     "output_type": "display_data"
    }
   ],
   "source": [
    "sns.histplot(x=feature, data = mobile, hue = target, multiple = 'fill', bins = 30)\n",
    "plt.axhline(target_mean, color = 'r')\n",
    "plt.show()"
   ]
  },
  {
   "cell_type": "code",
   "execution_count": 85,
   "metadata": {
    "id": "V716mlpmFdUE"
   },
   "outputs": [
    {
     "data": {
      "image/png": "[encoded data removed]",
      "text/plain": [
       "<Figure size 432x288 with 1 Axes>"
      ]
     },
     "metadata": {
      "needs_background": "light"
     },
     "output_type": "display_data"
    }
   ],
   "source": [
    "sns.kdeplot(x=feature, data = mobile, hue =target, common_norm=False)\n",
    "plt.show()"
   ]
  },
  {
   "cell_type": "markdown",
   "metadata": {},
   "source": [
    "* 그래프 분석\n",
    "그래프를 볼때 90분 이상 초과한 사람들부터 이탈하는 비율이 증가하였다\n",
    "마지막 300이상 사용한 사람은 그냥 이탈100%(이상치 같음)\n",
    "월초과사용시간이 0인 사람들은 잔류하는 사람의 수가 압도적으로 크다\n",
    ">100분이 넘는 사람들은 그만큼 추가 요금이 붙어 요금이 많이 나갈것이다\n",
    "  그러면 통화가 무제한인 요금제를 찾을 것이고 여러 통신사를 비교하다가 더 좋은 조건이\n",
    "  있다면 이탈할 확률이 높다."
   ]
  },
  {
   "cell_type": "code",
   "execution_count": 86,
   "metadata": {
    "id": "RGQGnk8JFdQf"
   },
   "outputs": [
    {
     "name": "stdout",
     "output_type": "stream",
     "text": [
      "Optimization terminated successfully.\n",
      "         Current function value: 0.680553\n",
      "         Iterations 4\n",
      "OVERAGE    3.521095e-97\n",
      "dtype: float64\n"
     ]
    }
   ],
   "source": [
    "model = sm.Logit(mobile[target], mobile[feature])\n",
    "result = model.fit()\n",
    "print(result.pvalues)"
   ]
  },
  {
   "cell_type": "markdown",
   "metadata": {
    "id": "8z58caznFdNU"
   },
   "source": [
    "* 로지스틱회귀 \n",
    " 강한관계"
   ]
  },
  {
   "cell_type": "markdown",
   "metadata": {},
   "source": [
    "* 추가분석\n",
    "\n",
    "구간을 0,30-100,150-250 구분해서 분석해 볼 필요 있음"
   ]
  },
  {
   "cell_type": "markdown",
   "metadata": {
    "id": "QwikcGXELsny"
   },
   "source": [
    "#### 2) INCOME --> CHURN\n"
   ]
  },
  {
   "cell_type": "code",
   "execution_count": 95,
   "metadata": {
    "id": "bGWLTAg9Lsny"
   },
   "outputs": [],
   "source": [
    "feature='INCOME'"
   ]
  },
  {
   "cell_type": "code",
   "execution_count": 100,
   "metadata": {
    "id": "R4crpBV9FfAM"
   },
   "outputs": [
    {
     "data": {
      "image/png": "[encoded data removed]",
      "text/plain": [
       "<Figure size 432x288 with 1 Axes>"
      ]
     },
     "metadata": {
      "needs_background": "light"
     },
     "output_type": "display_data"
    }
   ],
   "source": [
    "sns.histplot(x=feature, data = mobile, hue = target, multiple = 'fill', bins = 20)\n",
    "plt.axhline(target_mean, color = 'r')\n",
    "plt.show()"
   ]
  },
  {
   "cell_type": "code",
   "execution_count": 97,
   "metadata": {
    "id": "Wk4QkkXyFe8_"
   },
   "outputs": [
    {
     "data": {
      "image/png": "[encoded data removed]",
      "text/plain": [
       "<Figure size 432x288 with 1 Axes>"
      ]
     },
     "metadata": {
      "needs_background": "light"
     },
     "output_type": "display_data"
    }
   ],
   "source": [
    "sns.kdeplot(x=feature, data = mobile, hue =target, common_norm=False)\n",
    "plt.show()"
   ]
  },
  {
   "cell_type": "markdown",
   "metadata": {},
   "source": [
    "* 그래프상\n",
    "10만 좀 안되는 값에서 이탈변화가 생긴다\n",
    "10만달러를 기준으로 그 전은 잔류하고 그 후는 이탈하는 비율이 높게 나왔다.\n",
    "연수입 10만 달러(약 1억2천만원) 를 기준으로 바뀌는 이유가 있을까?\n",
    "\n",
    "> 경제적으로 여유가 있으면 신상제품이 나왔을때 새로 구입하여 사는 과정에서 이탈 할 것같다."
   ]
  },
  {
   "cell_type": "code",
   "execution_count": 98,
   "metadata": {
    "id": "V-ohsvLDFe5f"
   },
   "outputs": [
    {
     "name": "stdout",
     "output_type": "stream",
     "text": [
      "Optimization terminated successfully.\n",
      "         Current function value: 0.692683\n",
      "         Iterations 2\n",
      "INCOME    0.000044\n",
      "dtype: float64\n"
     ]
    }
   ],
   "source": [
    "model = sm.Logit(mobile[target], mobile[feature])\n",
    "result = model.fit()\n",
    "print(result.pvalues)"
   ]
  },
  {
   "cell_type": "markdown",
   "metadata": {
    "id": "Ol5A6fIwFe2L"
   },
   "source": [
    "* 0.05보다 작으므로 관계가 있다.\n",
    "> 범주를 10만 기준으로 나눠 카이검정으로 확인해보자"
   ]
  },
  {
   "cell_type": "markdown",
   "metadata": {
    "id": "KkyjTXOqLsyK"
   },
   "source": [
    "#### 3) HANDSET_PRICE --> CHURN\n"
   ]
  },
  {
   "cell_type": "code",
   "execution_count": 101,
   "metadata": {
    "id": "ZNHDXzGALsyK"
   },
   "outputs": [],
   "source": [
    "feature='HANDSET_PRICE'"
   ]
  },
  {
   "cell_type": "code",
   "execution_count": 103,
   "metadata": {
    "id": "zdX0gPMOFggG"
   },
   "outputs": [
    {
     "data": {
      "image/png": "[encoded data removed]",
      "text/plain": [
       "<Figure size 432x288 with 1 Axes>"
      ]
     },
     "metadata": {
      "needs_background": "light"
     },
     "output_type": "display_data"
    }
   ],
   "source": [
    "sns.histplot(x=feature, data = mobile, hue = target, multiple = 'fill', bins = 20)\n",
    "plt.axhline(target_mean, color = 'r')\n",
    "plt.show()"
   ]
  },
  {
   "cell_type": "code",
   "execution_count": 104,
   "metadata": {
    "id": "Fb_Y9eIsFgc-"
   },
   "outputs": [
    {
     "data": {
      "image/png": "[encoded data removed]",
      "text/plain": [
       "<Figure size 432x288 with 1 Axes>"
      ]
     },
     "metadata": {
      "needs_background": "light"
     },
     "output_type": "display_data"
    }
   ],
   "source": [
    "sns.kdeplot(x=feature, data = mobile, hue =target, common_norm=False)\n",
    "plt.show()"
   ]
  },
  {
   "cell_type": "markdown",
   "metadata": {},
   "source": [
    "*그래프 분석\n",
    "400달러 전후로 이탈률이 달라진다(전-잔류, 후-이탈)\n",
    "보통 휴대폰 구입시 요금제와 기기값을 같이 납부하게 되는데 기기값이 비싸다면 \n",
    "싼 요금제를 찾게 된다. 그 시점에서 요금제가 자신에게 적합하고 만족한다면 호감도가 늘어 \n",
    "현재 통신사를 계속 이용할 것이다.\n",
    "\n",
    "> 400 전 : 보급형이나 공시지원금 등 할인을 받아 저렴하게 사서 이용했을 수 있다.\n",
    "        자신에게 알맞은 요금제 사용을 했거나,\n",
    "        새로 구입할 시점에 저렴하게 사용했던 경험으로 잔류했을 거라고 생각한다.\n",
    "          \n",
    "          \n",
    "> 400 후 : 기기값 자체가 비싸다 보니 통신사를 옮기면 좀더 할인해주는 제도가 있기에 많이\n",
    "    이탈하지 않을 까 생각한다. 그리고 서비스가 불만족 스러웠거나 맞지않은 요금제를 \n",
    "    사용하여 나쁜 서비스 경험을 했을 때 이탈률이 증가 할 거라고 생각한다."
   ]
  },
  {
   "cell_type": "markdown",
   "metadata": {},
   "source": [
    "* 추가분석\n",
    "400달러 이상의 사용자 중 만족도 비율을 분석해보자."
   ]
  },
  {
   "cell_type": "code",
   "execution_count": 105,
   "metadata": {
    "id": "FFVmR4hXFgaM"
   },
   "outputs": [
    {
     "name": "stdout",
     "output_type": "stream",
     "text": [
      "Optimization terminated successfully.\n",
      "         Current function value: 0.692730\n",
      "         Iterations 3\n",
      "HANDSET_PRICE    0.000107\n",
      "dtype: float64\n"
     ]
    }
   ],
   "source": [
    "model = sm.Logit(mobile[target], mobile[feature])\n",
    "result = model.fit()\n",
    "print(result.pvalues)"
   ]
  },
  {
   "cell_type": "markdown",
   "metadata": {
    "id": "iosQzJv4FgXG"
   },
   "source": [
    "* p-value가 0.05보다 작아 강한 관계라고 볼 수 있다."
   ]
  },
  {
   "cell_type": "markdown",
   "metadata": {
    "id": "wv6nX82-ZIG4"
   },
   "source": [
    "#### 4) LEFTOVER --> CHURN\n"
   ]
  },
  {
   "cell_type": "code",
   "execution_count": 195,
   "metadata": {
    "id": "DNWTAgOAZIG5"
   },
   "outputs": [],
   "source": [
    "feature='LEFTOVER'"
   ]
  },
  {
   "cell_type": "code",
   "execution_count": 193,
   "metadata": {
    "id": "sysFFUnCZIG5"
   },
   "outputs": [
    {
     "data": {
      "image/png": "[encoded data removed]",
      "text/plain": [
       "<Figure size 432x288 with 1 Axes>"
      ]
     },
     "metadata": {
      "needs_background": "light"
     },
     "output_type": "display_data"
    }
   ],
   "source": [
    "sns.histplot(x=feature, data = mobile, hue = target, multiple = 'fill', bins = 18)\n",
    "plt.axhline(target_mean, color = 'r')\n",
    "plt.show()"
   ]
  },
  {
   "cell_type": "code",
   "execution_count": 191,
   "metadata": {
    "id": "vjHOKBRAZIG5"
   },
   "outputs": [
    {
     "data": {
      "image/png": "[encoded data removed]",
      "text/plain": [
       "<Figure size 432x288 with 1 Axes>"
      ]
     },
     "metadata": {
      "needs_background": "light"
     },
     "output_type": "display_data"
    }
   ],
   "source": [
    "sns.kdeplot(x=feature, data = mobile, hue =target, common_norm=False)\n",
    "plt.show()"
   ]
  },
  {
   "cell_type": "markdown",
   "metadata": {},
   "source": [
    "* 그래프 분석\n",
    "> 0% 구간과 25%이상 구간에서 평균보다 이탈률이 높게 나옴\n",
    "-0%는 본인의 요금제보다 더 초과해서 사용했다고 볼 수 있다.\n",
    "-25%이상은 기본 통화시간보다 많이 사용하지 못하여 본인에게 알맞지 않은 요금제라고\n",
    "생각 할 수 있다. \n",
    "\n",
    "> 5% - 25% 구간은 자신의 요금제에 맞게 여유롭게 사용했다고 생각함"
   ]
  },
  {
   "cell_type": "code",
   "execution_count": 196,
   "metadata": {
    "id": "toL7DMIPZIG5"
   },
   "outputs": [
    {
     "name": "stdout",
     "output_type": "stream",
     "text": [
      "Optimization terminated successfully.\n",
      "         Current function value: 0.692532\n",
      "         Iterations 3\n",
      "LEFTOVER    0.000003\n",
      "dtype: float64\n"
     ]
    }
   ],
   "source": [
    "model = sm.Logit(mobile[target], mobile[feature])\n",
    "result = model.fit()\n",
    "print(result.pvalues)"
   ]
  },
  {
   "cell_type": "markdown",
   "metadata": {
    "id": "4_SdzqpmZIG5"
   },
   "source": [
    "* p-value가 0.05보다 작아 관계가 있다고 볼 수 있다."
   ]
  },
  {
   "cell_type": "markdown",
   "metadata": {
    "id": "Jd4WbbU-jqU3"
   },
   "source": [
    "## 4.관계 정리"
   ]
  },
  {
   "cell_type": "markdown",
   "metadata": {
    "id": "bKmN0rtAjto6"
   },
   "source": [
    "### 1) 강한관계의 변수"
   ]
  },
  {
   "cell_type": "code",
   "execution_count": null,
   "metadata": {
    "id": "lx6Np73PL0YS"
   },
   "outputs": [],
   "source": [
    "HANDSET_PRICE, OVERAGE, INCOME, LEFTOVER"
   ]
  },
  {
   "cell_type": "markdown",
   "metadata": {
    "id": "u8B765zNjwp5"
   },
   "source": [
    "### 2) 약한관계의 변수"
   ]
  },
  {
   "cell_type": "code",
   "execution_count": null,
   "metadata": {
    "id": "kg8-QylzL1kE"
   },
   "outputs": [],
   "source": [
    "COLLEGE"
   ]
  },
  {
   "cell_type": "markdown",
   "metadata": {
    "id": "eYiQ9OUijwdq"
   },
   "source": [
    "### 3) 관계 없음"
   ]
  },
  {
   "cell_type": "code",
   "execution_count": null,
   "metadata": {
    "id": "K0o6lwH5L2Wj"
   },
   "outputs": [],
   "source": [
    "REPORTED_SATISFACTION , CONSIDERING_CHANGE_OF_PLAN"
   ]
  },
  {
   "cell_type": "markdown",
   "metadata": {
    "id": "nePF6KE6jlX6"
   },
   "source": [
    "## 5.추가 분석"
   ]
  },
  {
   "cell_type": "markdown",
   "metadata": {
    "id": "B8E9F24bkYTn"
   },
   "source": [
    "**OVERAGE**\n",
    "1. 구간을 0,30-100,150-250 구분해서 분석해 볼 필요 있음"
   ]
  },
  {
   "cell_type": "code",
   "execution_count": 117,
   "metadata": {
    "id": "DUL6jc1SL5QL"
   },
   "outputs": [],
   "source": [
    "bin=[0,30,100,150,250]\n",
    "label = ['L','M1','M2','H']\n",
    "mobile['over_grp']=pd.cut(mobile[feature], bins=bin, labels=label, right=False)"
   ]
  },
  {
   "cell_type": "code",
   "execution_count": 115,
   "metadata": {
    "id": "rW-_G3TiL5HV"
   },
   "outputs": [
    {
     "data": {
      "image/png": "[encoded data removed]",
      "text/plain": [
       "<Figure size 432x288 with 1 Axes>"
      ]
     },
     "metadata": {
      "needs_background": "light"
     },
     "output_type": "display_data"
    }
   ],
   "source": [
    "temp= pd.crosstab(mobile['over_grp'], mobile[target], normalize='index')\n",
    "temp.plot.bar(stacked=True)\n",
    "plt.axhline(1-target_mean, color = 'r')\n",
    "plt.show()"
   ]
  },
  {
   "cell_type": "code",
   "execution_count": 116,
   "metadata": {},
   "outputs": [
    {
     "name": "stdout",
     "output_type": "stream",
     "text": [
      "카이제곱통계량 1054.6832956058158\n",
      "p-value 2.4679966724382166e-228\n",
      "자유도 3\n"
     ]
    }
   ],
   "source": [
    "table=pd.crosstab(mobile[target], mobile['over_grp'])\n",
    "result = spst.chi2_contingency(table)\n",
    "print('카이제곱통계량', result[0])\n",
    "print('p-value', result[1])\n",
    "print('자유도', result[2])\n"
   ]
  },
  {
   "cell_type": "markdown",
   "metadata": {},
   "source": [
    "* 범주를 나눠 카이제곱검정을 했더니 완전 강한 관계를 나타내는 것을 알 수 있음\n",
    "  그래프 상으로도 각 범주에 해당되는 이탈률이 다름\n",
    "  110분 이상 초과하면 이탈률이 많이 증가한다 \n",
    "  > 통화를 많이 하는 사람들에게 합당한 요금제가 없어서 이탈했을 거라고 예상한다."
   ]
  },
  {
   "cell_type": "markdown",
   "metadata": {},
   "source": [
    "2. HANDSET_PRICE"
   ]
  },
  {
   "cell_type": "code",
   "execution_count": 148,
   "metadata": {},
   "outputs": [],
   "source": [
    "feature='HANDSET_PRICE'\n",
    "bin=[0,400, np.inf]\n",
    "label = ['L','H']\n",
    "mobile['price_grp']=pd.cut(mobile[feature], bins=bin, labels=label, right=False)"
   ]
  },
  {
   "cell_type": "code",
   "execution_count": 149,
   "metadata": {
    "scrolled": true
   },
   "outputs": [
    {
     "data": {
      "image/png": "[encoded data removed]",
      "text/plain": [
       "<Figure size 432x288 with 1 Axes>"
      ]
     },
     "metadata": {
      "needs_background": "light"
     },
     "output_type": "display_data"
    }
   ],
   "source": [
    "temp= pd.crosstab(mobile['price_grp'], mobile[target], normalize='index')\n",
    "temp.plot.bar(stacked=True)\n",
    "plt.axhline(1-target_mean, color = 'r')\n",
    "plt.show()"
   ]
  },
  {
   "cell_type": "code",
   "execution_count": 150,
   "metadata": {},
   "outputs": [
    {
     "name": "stdout",
     "output_type": "stream",
     "text": [
      "카이제곱통계량 187.09213970859884\n",
      "p-value 1.3711320809836095e-42\n",
      "자유도 1\n"
     ]
    }
   ],
   "source": [
    "table=pd.crosstab(mobile[target], mobile['price_grp'])\n",
    "result = spst.chi2_contingency(table)\n",
    "print('카이제곱통계량', result[0])\n",
    "print('p-value', result[1])\n",
    "print('자유도', result[2])"
   ]
  },
  {
   "cell_type": "markdown",
   "metadata": {},
   "source": [
    "* 카이제곱검정을 하니  더 강한관계인 것을 알 수 있음"
   ]
  },
  {
   "cell_type": "markdown",
   "metadata": {},
   "source": [
    "400달러 이상의 사용자 중 만족도 비율을 분석해보자."
   ]
  },
  {
   "cell_type": "code",
   "execution_count": 121,
   "metadata": {},
   "outputs": [],
   "source": [
    "feature='HANDSET_PRICE'"
   ]
  },
  {
   "cell_type": "code",
   "execution_count": 126,
   "metadata": {},
   "outputs": [
    {
     "data": {
      "text/plain": [
       "18000"
      ]
     },
     "execution_count": 126,
     "metadata": {},
     "output_type": "execute_result"
    }
   ],
   "source": [
    "mobile['HANDSET_PRICE'].count()"
   ]
  },
  {
   "cell_type": "code",
   "execution_count": 136,
   "metadata": {},
   "outputs": [],
   "source": [
    "tmp=mobile.loc[mobile[feature]>=400]"
   ]
  },
  {
   "cell_type": "markdown",
   "metadata": {},
   "source": [
    "* 총 18000데이터 중 핸드폰 가격이 400달러 넘는 사용자는 6113 >> 약34%\n",
    "  "
   ]
  },
  {
   "cell_type": "code",
   "execution_count": 137,
   "metadata": {},
   "outputs": [
    {
     "data": {
      "text/html": [
       "<div>\n",
       "<style scoped>\n",
       "    .dataframe tbody tr th:only-of-type {\n",
       "        vertical-align: middle;\n",
       "    }\n",
       "\n",
       "    .dataframe tbody tr th {\n",
       "        vertical-align: top;\n",
       "    }\n",
       "\n",
       "    .dataframe thead th {\n",
       "        text-align: right;\n",
       "    }\n",
       "</style>\n",
       "<table border=\"1\" class=\"dataframe\">\n",
       "  <thead>\n",
       "    <tr style=\"text-align: right;\">\n",
       "      <th></th>\n",
       "      <th>max</th>\n",
       "      <th>min</th>\n",
       "      <th>mean</th>\n",
       "    </tr>\n",
       "    <tr>\n",
       "      <th>REPORTED_SATISFACTION</th>\n",
       "      <th></th>\n",
       "      <th></th>\n",
       "      <th></th>\n",
       "    </tr>\n",
       "  </thead>\n",
       "  <tbody>\n",
       "    <tr>\n",
       "      <th>avg</th>\n",
       "      <td>899</td>\n",
       "      <td>400</td>\n",
       "      <td>651.275527</td>\n",
       "    </tr>\n",
       "    <tr>\n",
       "      <th>sat</th>\n",
       "      <td>898</td>\n",
       "      <td>401</td>\n",
       "      <td>660.141176</td>\n",
       "    </tr>\n",
       "    <tr>\n",
       "      <th>unsat</th>\n",
       "      <td>899</td>\n",
       "      <td>400</td>\n",
       "      <td>655.749363</td>\n",
       "    </tr>\n",
       "    <tr>\n",
       "      <th>very_sat</th>\n",
       "      <td>898</td>\n",
       "      <td>400</td>\n",
       "      <td>650.791990</td>\n",
       "    </tr>\n",
       "    <tr>\n",
       "      <th>very_unsat</th>\n",
       "      <td>899</td>\n",
       "      <td>400</td>\n",
       "      <td>645.997931</td>\n",
       "    </tr>\n",
       "  </tbody>\n",
       "</table>\n",
       "</div>"
      ],
      "text/plain": [
       "                       max  min        mean\n",
       "REPORTED_SATISFACTION                      \n",
       "avg                    899  400  651.275527\n",
       "sat                    898  401  660.141176\n",
       "unsat                  899  400  655.749363\n",
       "very_sat               898  400  650.791990\n",
       "very_unsat             899  400  645.997931"
      ]
     },
     "execution_count": 137,
     "metadata": {},
     "output_type": "execute_result"
    }
   ],
   "source": [
    "#unsat, very_unsat 의 수치 중 핸드폰 가격이 비싼지 분석\n",
    "data = tmp.groupby(['REPORTED_SATISFACTION'], as_index=False)[feature].agg(['max',min,'mean'])\n",
    "data"
   ]
  },
  {
   "cell_type": "markdown",
   "metadata": {},
   "source": [
    "3. INCOME -> 범주 세분화해서 카이제곱검정"
   ]
  },
  {
   "cell_type": "code",
   "execution_count": 177,
   "metadata": {},
   "outputs": [],
   "source": [
    "feature='INCOME'\n",
    "bin=[0,100000, np.inf]\n",
    "label = ['L','H']\n",
    "mobile['income_grp']=pd.cut(mobile[feature], bins=bin, labels=label, right=False)"
   ]
  },
  {
   "cell_type": "code",
   "execution_count": 178,
   "metadata": {},
   "outputs": [
    {
     "data": {
      "image/png": "[encoded data removed]",
      "text/plain": [
       "<Figure size 432x288 with 1 Axes>"
      ]
     },
     "metadata": {
      "needs_background": "light"
     },
     "output_type": "display_data"
    }
   ],
   "source": [
    "temp= pd.crosstab(mobile['income_grp'], mobile[target], normalize='index')\n",
    "temp.plot.bar(stacked=True)\n",
    "plt.axhline(1-target_mean, color = 'r')\n",
    "plt.show()"
   ]
  },
  {
   "cell_type": "code",
   "execution_count": 179,
   "metadata": {},
   "outputs": [
    {
     "name": "stdout",
     "output_type": "stream",
     "text": [
      "카이제곱통계량 243.5094787317262\n",
      "p-value 6.753130507282287e-55\n",
      "자유도 1\n"
     ]
    }
   ],
   "source": [
    "table=pd.crosstab(mobile[target], mobile['income_grp'])\n",
    "result = spst.chi2_contingency(table)\n",
    "print('카이제곱통계량', result[0])\n",
    "print('p-value', result[1])\n",
    "print('자유도', result[2])"
   ]
  },
  {
   "cell_type": "markdown",
   "metadata": {},
   "source": [
    "* 10만달러 이전은 평균보다 잔존률이 더 높고 이후는 이탈률이 더 높다.\n",
    "> 경제적으로 여유 \n",
    "* 범주를 나눠 카이제곱검정을 한 결과 수치상으로 더 강한 관계임을 알 수 있다"
   ]
  },
  {
   "cell_type": "markdown",
   "metadata": {},
   "source": [
    "## 2.데이터 전처리 "
   ]
  },
  {
   "cell_type": "code",
   "execution_count": 58,
   "metadata": {},
   "outputs": [],
   "source": [
    "target = 'CHURN'"
   ]
  },
  {
   "cell_type": "markdown",
   "metadata": {},
   "source": [
    "### 2.1 데이터 정리"
   ]
  },
  {
   "cell_type": "code",
   "execution_count": 59,
   "metadata": {},
   "outputs": [],
   "source": [
    "x = mobile.drop(target, axis = 1)\n",
    "y = mobile.loc[:, target]"
   ]
  },
  {
   "cell_type": "markdown",
   "metadata": {},
   "source": [
    "* 불필요한 feature 제거"
   ]
  },
  {
   "cell_type": "code",
   "execution_count": 62,
   "metadata": {},
   "outputs": [
    {
     "data": {
      "text/plain": [
       "id                             0.003499\n",
       "COLLEGE                        0.016748\n",
       "INCOME                         0.094168\n",
       "OVERAGE                        0.237797\n",
       "LEFTOVER                       0.060022\n",
       "HOUSE                         -0.211020\n",
       "HANDSET_PRICE                  0.086517\n",
       "OVER_15MINS_CALLS_PER_MONTH    0.206578\n",
       "AVERAGE_CALL_DURATION         -0.006333\n",
       "CHURN                          1.000000\n",
       "Name: CHURN, dtype: float64"
      ]
     },
     "execution_count": 62,
     "metadata": {},
     "output_type": "execute_result"
    }
   ],
   "source": [
    "mobile.corr()[target]"
   ]
  },
  {
   "cell_type": "code",
   "execution_count": 63,
   "metadata": {},
   "outputs": [],
   "source": [
    "# id는 고유번호이기에 target에 영향을 미치지 않으므로 제거합니다.\n",
    "# AVERAGE_CALL_DURATION는 target과의 상관관계가 작다고 판단하여 제거합니다.\n",
    "cols= ['id','AVERAGE_CALL_DURATION']\n",
    "x.drop(columns=cols, axis=1,inplace = True)"
   ]
  },
  {
   "cell_type": "markdown",
   "metadata": {},
   "source": [
    "### 2.2 NaN에 대한 조치"
   ]
  },
  {
   "cell_type": "code",
   "execution_count": 64,
   "metadata": {},
   "outputs": [
    {
     "data": {
      "text/plain": [
       "COLLEGE                          0\n",
       "INCOME                           0\n",
       "OVERAGE                          0\n",
       "LEFTOVER                         0\n",
       "HOUSE                          215\n",
       "HANDSET_PRICE                    0\n",
       "OVER_15MINS_CALLS_PER_MONTH      0\n",
       "REPORTED_SATISFACTION           38\n",
       "REPORTED_USAGE_LEVEL             0\n",
       "CONSIDERING_CHANGE_OF_PLAN       0\n",
       "dtype: int64"
      ]
     },
     "execution_count": 64,
     "metadata": {},
     "output_type": "execute_result"
    }
   ],
   "source": [
    "x.isna().sum()"
   ]
  },
  {
   "cell_type": "markdown",
   "metadata": {},
   "source": [
    "'HOUSE'"
   ]
  },
  {
   "cell_type": "code",
   "execution_count": 65,
   "metadata": {
    "scrolled": false
   },
   "outputs": [
    {
     "data": {
      "image/png": "[encoded data removed]",
      "text/plain": [
       "<Figure size 432x288 with 1 Axes>"
      ]
     },
     "metadata": {
      "needs_background": "light"
     },
     "output_type": "display_data"
    }
   ],
   "source": [
    "sns.histplot(mobile['HOUSE'])\n",
    "plt.show()"
   ]
  },
  {
   "cell_type": "code",
   "execution_count": 76,
   "metadata": {},
   "outputs": [],
   "source": [
    "x['HOUSE'].fillna(x['HOUSE'].mean(), inplace=True)"
   ]
  },
  {
   "cell_type": "markdown",
   "metadata": {},
   "source": [
    "'REPORTED_SATISFACTION '"
   ]
  },
  {
   "cell_type": "code",
   "execution_count": 77,
   "metadata": {},
   "outputs": [
    {
     "data": {
      "text/plain": [
       "very_unsat    7072\n",
       "very_sat      4562\n",
       "unsat         3590\n",
       "avg           1806\n",
       "sat            932\n",
       "Name: REPORTED_SATISFACTION, dtype: int64"
      ]
     },
     "execution_count": 77,
     "metadata": {},
     "output_type": "execute_result"
    }
   ],
   "source": [
    "mobile['REPORTED_SATISFACTION'].value_counts()"
   ]
  },
  {
   "cell_type": "code",
   "execution_count": 78,
   "metadata": {},
   "outputs": [],
   "source": [
    "# 설문조사 이기때문에 최빈값으로 채움\n",
    "x['REPORTED_SATISFACTION'].fillna('very_unsat', inplace=True)"
   ]
  },
  {
   "cell_type": "code",
   "execution_count": 79,
   "metadata": {},
   "outputs": [
    {
     "data": {
      "text/plain": [
       "COLLEGE                        0\n",
       "INCOME                         0\n",
       "OVERAGE                        0\n",
       "LEFTOVER                       0\n",
       "HOUSE                          0\n",
       "HANDSET_PRICE                  0\n",
       "OVER_15MINS_CALLS_PER_MONTH    0\n",
       "REPORTED_SATISFACTION          0\n",
       "REPORTED_USAGE_LEVEL           0\n",
       "CONSIDERING_CHANGE_OF_PLAN     0\n",
       "dtype: int64"
      ]
     },
     "execution_count": 79,
     "metadata": {},
     "output_type": "execute_result"
    }
   ],
   "source": [
    "x.isna().sum()"
   ]
  },
  {
   "cell_type": "markdown",
   "metadata": {},
   "source": [
    "### 2.3 가변수화"
   ]
  },
  {
   "cell_type": "code",
   "execution_count": 80,
   "metadata": {},
   "outputs": [
    {
     "name": "stdout",
     "output_type": "stream",
     "text": [
      "<class 'pandas.core.frame.DataFrame'>\n",
      "RangeIndex: 18000 entries, 0 to 17999\n",
      "Data columns (total 10 columns):\n",
      " #   Column                       Non-Null Count  Dtype  \n",
      "---  ------                       --------------  -----  \n",
      " 0   COLLEGE                      18000 non-null  int64  \n",
      " 1   INCOME                       18000 non-null  int64  \n",
      " 2   OVERAGE                      18000 non-null  int64  \n",
      " 3   LEFTOVER                     18000 non-null  int64  \n",
      " 4   HOUSE                        18000 non-null  float64\n",
      " 5   HANDSET_PRICE                18000 non-null  int64  \n",
      " 6   OVER_15MINS_CALLS_PER_MONTH  18000 non-null  int64  \n",
      " 7   REPORTED_SATISFACTION        18000 non-null  object \n",
      " 8   REPORTED_USAGE_LEVEL         18000 non-null  object \n",
      " 9   CONSIDERING_CHANGE_OF_PLAN   18000 non-null  object \n",
      "dtypes: float64(1), int64(6), object(3)\n",
      "memory usage: 1.4+ MB\n"
     ]
    }
   ],
   "source": [
    "x.info()"
   ]
  },
  {
   "cell_type": "code",
   "execution_count": 81,
   "metadata": {},
   "outputs": [],
   "source": [
    "cols=['REPORTED_SATISFACTION','REPORTED_USAGE_LEVEL','CONSIDERING_CHANGE_OF_PLAN']\n",
    "x = pd.get_dummies(x, columns=cols, drop_first=True)"
   ]
  },
  {
   "cell_type": "code",
   "execution_count": 82,
   "metadata": {},
   "outputs": [
    {
     "data": {
      "text/plain": [
       "0        730589\n",
       "1        535092\n",
       "2        204004\n",
       "3        281969\n",
       "4        216707\n",
       "          ...  \n",
       "17995    492950\n",
       "17996    492950\n",
       "17997    492950\n",
       "17998    492950\n",
       "17999    492950\n",
       "Name: HOUSE, Length: 18000, dtype: int32"
      ]
     },
     "execution_count": 82,
     "metadata": {},
     "output_type": "execute_result"
    }
   ],
   "source": [
    "x['HOUSE'].astype('int')"
   ]
  },
  {
   "cell_type": "markdown",
   "metadata": {},
   "source": [
    "### 2.4 데이터 분할\n",
    "\n",
    "* test 3000건(test_size = 3000), random_state = 2022\n",
    "* val 3000건(test_size = 3000), random_state = 2022\n",
    "* train 나머지"
   ]
  },
  {
   "cell_type": "code",
   "execution_count": 85,
   "metadata": {},
   "outputs": [],
   "source": [
    "# test데이터는 최종적으로 모델 성능을 도출할 때 사용할 데이터이다.\n",
    "x_train, x_test, y_train, y_test = train_test_split(x,y,test_size=3000, random_state=2022)"
   ]
  },
  {
   "cell_type": "code",
   "execution_count": 86,
   "metadata": {},
   "outputs": [],
   "source": [
    "# val데이터를 통하여 예측하고 성능을 비교할 때 사용할 것이다.\n",
    "x_train, x_val, y_train, y_val = train_test_split(x_train,y_train,test_size=3000, random_state=2022)"
   ]
  },
  {
   "cell_type": "code",
   "execution_count": 87,
   "metadata": {},
   "outputs": [
    {
     "data": {
      "text/plain": [
       "((12000, 19), (3000, 19), (12000,), (3000,), (3000, 19), (3000,))"
      ]
     },
     "execution_count": 87,
     "metadata": {},
     "output_type": "execute_result"
    }
   ],
   "source": [
    "x_train.shape, x_test.shape, y_train.shape, y_test.shape, x_val.shape, y_val.shape"
   ]
  },
  {
   "cell_type": "markdown",
   "metadata": {},
   "source": [
    "### 2.5스케일링 \n",
    "* 스케일링을 필요로 하는 알고리즘 존재(SVM, KNN, DeepLearning)"
   ]
  },
  {
   "cell_type": "code",
   "execution_count": 88,
   "metadata": {},
   "outputs": [],
   "source": [
    "from sklearn.preprocessing import MinMaxScaler"
   ]
  },
  {
   "cell_type": "code",
   "execution_count": 89,
   "metadata": {},
   "outputs": [],
   "source": [
    "scaler = MinMaxScaler()\n",
    "x_train_sc = scaler.fit_transform(x_train)\n",
    "x_val_sc = scaler.transform(x_val)\n",
    "x_test_sc = scaler.transform(x_test)"
   ]
  },
  {
   "cell_type": "markdown",
   "metadata": {},
   "source": [
    "## 3.모델링 : 머신러닝"
   ]
  },
  {
   "cell_type": "code",
   "execution_count": 90,
   "metadata": {},
   "outputs": [],
   "source": [
    "# 사용할 알고리즘\n",
    "from sklearn.linear_model import LogisticRegression\n",
    "from sklearn.tree import DecisionTreeClassifier\n",
    "from sklearn.neighbors import KNeighborsClassifier\n",
    "from sklearn.svm import SVC\n",
    "from xgboost import XGBClassifier\n",
    "\n",
    "# 성능 검증\n",
    "from sklearn.model_selection import GridSearchCV\n",
    "\n",
    "# 성능 평가\n",
    "from sklearn.metrics import accuracy_score, recall_score, precision_score\n",
    "from sklearn.metrics import confusion_matrix, classification_report"
   ]
  },
  {
   "cell_type": "markdown",
   "metadata": {},
   "source": [
    "### 3.1 모델링"
   ]
  },
  {
   "cell_type": "markdown",
   "metadata": {},
   "source": [
    "#### (1) Logistic Regression"
   ]
  },
  {
   "cell_type": "code",
   "execution_count": 91,
   "metadata": {},
   "outputs": [],
   "source": [
    "model = LogisticRegression(max_iter=500)\n",
    "model.fit(x_train, y_train)\n",
    "y_pred = model.predict(x_val)"
   ]
  },
  {
   "cell_type": "code",
   "execution_count": 92,
   "metadata": {},
   "outputs": [],
   "source": [
    "result_report={}\n",
    "result_report['Logistic Regression']=classification_report(y_val, y_pred)"
   ]
  },
  {
   "cell_type": "code",
   "execution_count": 93,
   "metadata": {},
   "outputs": [
    {
     "data": {
      "image/png": "[encoded data removed]",
      "text/plain": [
       "<Figure size 576x720 with 1 Axes>"
      ]
     },
     "metadata": {
      "needs_background": "light"
     },
     "output_type": "display_data"
    }
   ],
   "source": [
    "# 변수 가중치 시각화\n",
    "plt.figure(figsize=(8,10))\n",
    "plt.barh(y=list(x), width=model.coef_.reshape(-1))\n",
    "plt.show()"
   ]
  },
  {
   "cell_type": "markdown",
   "metadata": {},
   "source": [
    "#### (2) Decision Tree"
   ]
  },
  {
   "cell_type": "code",
   "execution_count": 127,
   "metadata": {},
   "outputs": [],
   "source": [
    "model_dt = DecisionTreeClassifier(random_state=2022)\n",
    "param = {'max_depth' : range(1,51) }\n",
    "model= GridSearchCV(model_dt, param, cv=5, scoring='accuracy')"
   ]
  },
  {
   "cell_type": "code",
   "execution_count": 128,
   "metadata": {},
   "outputs": [
    {
     "data": {
      "text/plain": [
       "GridSearchCV(cv=5, estimator=DecisionTreeClassifier(random_state=2022),\n",
       "             param_grid={'max_depth': range(1, 51)}, scoring='accuracy')"
      ]
     },
     "execution_count": 128,
     "metadata": {},
     "output_type": "execute_result"
    }
   ],
   "source": [
    "model.fit(x_train, y_train)"
   ]
  },
  {
   "cell_type": "code",
   "execution_count": 97,
   "metadata": {},
   "outputs": [
    {
     "name": "stdout",
     "output_type": "stream",
     "text": [
      "파라미터:  {'max_depth': 4}\n",
      "성능:  0.6999166666666667\n"
     ]
    }
   ],
   "source": [
    "# 최적의 파라미터 확인\n",
    "print('파라미터: ', model.best_params_)\n",
    "print('성능: ', model.best_score_)"
   ]
  },
  {
   "cell_type": "code",
   "execution_count": 98,
   "metadata": {},
   "outputs": [],
   "source": [
    "y_pred = model.predict(x_val)"
   ]
  },
  {
   "cell_type": "code",
   "execution_count": 99,
   "metadata": {},
   "outputs": [],
   "source": [
    "result_report['Decision Tree']=classification_report(y_val, y_pred)"
   ]
  },
  {
   "cell_type": "code",
   "execution_count": 100,
   "metadata": {},
   "outputs": [
    {
     "name": "stdout",
     "output_type": "stream",
     "text": [
      "              precision    recall  f1-score   support\n",
      "\n",
      "           0       0.76      0.64      0.70      1520\n",
      "           1       0.68      0.79      0.73      1480\n",
      "\n",
      "    accuracy                           0.72      3000\n",
      "   macro avg       0.72      0.72      0.71      3000\n",
      "weighted avg       0.72      0.72      0.71      3000\n",
      "\n"
     ]
    }
   ],
   "source": [
    "print(classification_report(y_val, y_pred))"
   ]
  },
  {
   "cell_type": "code",
   "execution_count": 101,
   "metadata": {},
   "outputs": [
    {
     "data": {
      "image/png": "[encoded data removed]",
      "text/plain": [
       "<Figure size 432x288 with 1 Axes>"
      ]
     },
     "metadata": {
      "needs_background": "light"
     },
     "output_type": "display_data"
    }
   ],
   "source": [
    "# 변수 중요도 시각화\n",
    "IMP = model.best_estimator_.feature_importances_\n",
    "feature_IMP = pd.Series(IMP, x.columns)\n",
    "important = feature_IMP.sort_values(ascending=False)[:5]\n",
    "\n",
    "sns.barplot(x=important, y=important.index)\n",
    "plt.show()"
   ]
  },
  {
   "cell_type": "code",
   "execution_count": 102,
   "metadata": {},
   "outputs": [
    {
     "data": {
      "image/png": "[encoded data removed]",
      "text/plain": [
       "<Figure size 432x288 with 1 Axes>"
      ]
     },
     "metadata": {
      "needs_background": "light"
     },
     "output_type": "display_data"
    }
   ],
   "source": [
    "# 시각화\n",
    "sns.heatmap(confusion_matrix(y_val, y_pred), \n",
    "            annot=True, \n",
    "            cmap=\"Blues\", \n",
    "            cbar=False,\n",
    "            annot_kws={'size':16},\n",
    "            fmt='g'  \n",
    "           )\n",
    "plt.xlabel(\"Predicted\")\n",
    "plt.ylabel(\"Actual\")\n",
    "plt.show()"
   ]
  },
  {
   "cell_type": "code",
   "execution_count": 103,
   "metadata": {},
   "outputs": [
    {
     "data": {
      "image/png": "[encoded data removed]",
      "text/plain": [
       "<Figure size 1584x864 with 1 Axes>"
      ]
     },
     "metadata": {
      "needs_background": "light"
     },
     "output_type": "display_data"
    }
   ],
   "source": [
    "# 시각화\n",
    "from sklearn.tree import plot_tree\n",
    "\n",
    "plt.figure(figsize=(22, 12))\n",
    "plot_tree(model.best_estimator_,\n",
    "         filled=True,\n",
    "         feature_names=list(x),\n",
    "         fontsize=7)\n",
    "plt.show()"
   ]
  },
  {
   "cell_type": "markdown",
   "metadata": {},
   "source": [
    "#### (3) SVM"
   ]
  },
  {
   "cell_type": "code",
   "execution_count": 104,
   "metadata": {},
   "outputs": [],
   "source": [
    "model_svm = SVC(random_state=2022)\n",
    "param ={\n",
    "     'C': [0.1,1,10, 50],\n",
    "    'gamma': [0.01, 0.1]}\n",
    "\n",
    "model = GridSearchCV(model_svm,\n",
    "                    param,\n",
    "                    cv=5,\n",
    "                    scoring='accuracy')"
   ]
  },
  {
   "cell_type": "code",
   "execution_count": 105,
   "metadata": {},
   "outputs": [
    {
     "data": {
      "text/plain": [
       "GridSearchCV(cv=5, estimator=SVC(random_state=2022),\n",
       "             param_grid={'C': [0.1, 1, 10, 50], 'gamma': [0.01, 0.1]},\n",
       "             scoring='accuracy')"
      ]
     },
     "execution_count": 105,
     "metadata": {},
     "output_type": "execute_result"
    }
   ],
   "source": [
    "model.fit(x_train_sc, y_train)"
   ]
  },
  {
   "cell_type": "code",
   "execution_count": 107,
   "metadata": {},
   "outputs": [
    {
     "name": "stdout",
     "output_type": "stream",
     "text": [
      "최적파라미터:  {'C': 10, 'gamma': 0.1}\n",
      "성능:  0.6599999999999999\n"
     ]
    }
   ],
   "source": [
    "# 최적파라미터, 성능 확인\n",
    "print('최적파라미터: ', model.best_params_)\n",
    "print('성능: ', model.best_score_)"
   ]
  },
  {
   "cell_type": "code",
   "execution_count": 106,
   "metadata": {},
   "outputs": [],
   "source": [
    "y_pred = model.predict(x_val_sc)\n",
    "result_report['SVM']=classification_report(y_val, y_pred)"
   ]
  },
  {
   "cell_type": "markdown",
   "metadata": {},
   "source": [
    "#### (4) XGB "
   ]
  },
  {
   "cell_type": "code",
   "execution_count": 108,
   "metadata": {},
   "outputs": [],
   "source": [
    "model_xgb = XGBClassifier(eval_metric='logloss')\n",
    "params={\n",
    "    'max_depth':range(7,11),\n",
    "    'n_estimators':range(100,120,10)\n",
    "}\n",
    "model=GridSearchCV(model_xgb,params,cv=5,scoring='accuracy')"
   ]
  },
  {
   "cell_type": "code",
   "execution_count": 109,
   "metadata": {},
   "outputs": [
    {
     "data": {
      "text/plain": [
       "GridSearchCV(cv=5,\n",
       "             estimator=XGBClassifier(base_score=None, booster=None,\n",
       "                                     colsample_bylevel=None,\n",
       "                                     colsample_bynode=None,\n",
       "                                     colsample_bytree=None,\n",
       "                                     enable_categorical=False,\n",
       "                                     eval_metric='logloss', gamma=None,\n",
       "                                     gpu_id=None, importance_type=None,\n",
       "                                     interaction_constraints=None,\n",
       "                                     learning_rate=None, max_delta_step=None,\n",
       "                                     max_depth=None, min_child_weight=None,\n",
       "                                     missing=nan, monotone_constraints=None,\n",
       "                                     n_estimators=100, n_jobs=None,\n",
       "                                     num_parallel_tree=None, predictor=None,\n",
       "                                     random_state=None, reg_alpha=None,\n",
       "                                     reg_lambda=None, scale_pos_weight=None,\n",
       "                                     subsample=None, tree_method=None,\n",
       "                                     validate_parameters=None, verbosity=None),\n",
       "             param_grid={'max_depth': range(7, 11),\n",
       "                         'n_estimators': range(100, 120, 10)},\n",
       "             scoring='accuracy')"
      ]
     },
     "execution_count": 109,
     "metadata": {},
     "output_type": "execute_result"
    }
   ],
   "source": [
    "model.fit(x_train,y_train)"
   ]
  },
  {
   "cell_type": "code",
   "execution_count": 110,
   "metadata": {},
   "outputs": [
    {
     "name": "stdout",
     "output_type": "stream",
     "text": [
      "최적파라미터:  {'max_depth': 8, 'n_estimators': 100}\n",
      "성능:  0.675\n"
     ]
    }
   ],
   "source": [
    "# 최적파라미터, 성능 확인\n",
    "print('최적파라미터: ', model.best_params_)\n",
    "print('성능: ', model.best_score_)"
   ]
  },
  {
   "cell_type": "code",
   "execution_count": 111,
   "metadata": {},
   "outputs": [],
   "source": [
    "y_pred = model.predict(x_val)\n",
    "result_report['XGB']=classification_report(y_val, y_pred)"
   ]
  },
  {
   "cell_type": "markdown",
   "metadata": {},
   "source": [
    "## 4.모델링 : DL"
   ]
  },
  {
   "cell_type": "code",
   "execution_count": 113,
   "metadata": {},
   "outputs": [],
   "source": [
    "import tensorflow as tf\n",
    "from tensorflow import keras\n",
    "from tensorflow.keras.utils import plot_model\n",
    "from tensorflow.keras.callbacks import EarlyStopping"
   ]
  },
  {
   "cell_type": "code",
   "execution_count": 114,
   "metadata": {},
   "outputs": [
    {
     "data": {
      "text/plain": [
       "((12000, 19), (12000,))"
      ]
     },
     "execution_count": 114,
     "metadata": {},
     "output_type": "execute_result"
    }
   ],
   "source": [
    "x_train.shape, y_train.shape"
   ]
  },
  {
   "cell_type": "markdown",
   "metadata": {},
   "source": [
    "#### (1) Sequential API 1"
   ]
  },
  {
   "cell_type": "code",
   "execution_count": 115,
   "metadata": {},
   "outputs": [
    {
     "name": "stdout",
     "output_type": "stream",
     "text": [
      "Model: \"sequential\"\n",
      "_________________________________________________________________\n",
      " Layer (type)                Output Shape              Param #   \n",
      "=================================================================\n",
      " dense (Dense)               (None, 128)               2560      \n",
      "                                                                 \n",
      " dense_1 (Dense)             (None, 64)                8256      \n",
      "                                                                 \n",
      " dense_2 (Dense)             (None, 32)                2080      \n",
      "                                                                 \n",
      " dense_3 (Dense)             (None, 1)                 33        \n",
      "                                                                 \n",
      "=================================================================\n",
      "Total params: 12,929\n",
      "Trainable params: 12,929\n",
      "Non-trainable params: 0\n",
      "_________________________________________________________________\n"
     ]
    }
   ],
   "source": [
    "#히든레이어 3개를 사용(128, 64, 32) 노드수를 크게 주지 않았다\n",
    "\n",
    "keras.backend.clear_session()\n",
    "\n",
    "DL1 = keras.models.Sequential()\n",
    "DL1.add(keras.layers.Input(shape=(19,)))\n",
    "DL1.add(keras.layers.Dense(128, activation='relu')) \n",
    "DL1.add(keras.layers.Dense(64, activation='relu'))\n",
    "DL1.add(keras.layers.Dense(32, activation='relu'))\n",
    "DL1.add(keras.layers.Dense(1, activation='sigmoid'))\n",
    "\n",
    "DL1.compile(loss=keras.losses.binary_crossentropy, \n",
    "            optimizer='adam', metrics=['accuracy'])\n",
    "DL1.summary()"
   ]
  },
  {
   "cell_type": "code",
   "execution_count": 116,
   "metadata": {},
   "outputs": [],
   "source": [
    "es = EarlyStopping(monitor='val_loss', min_delta=0, patience=5, verbose=1, restore_best_weights=True)"
   ]
  },
  {
   "cell_type": "code",
   "execution_count": 117,
   "metadata": {},
   "outputs": [
    {
     "name": "stdout",
     "output_type": "stream",
     "text": [
      "Epoch 1/1000\n",
      "600/600 [==============================] - 2s 2ms/step - loss: 0.6436 - accuracy: 0.6277 - val_loss: 0.6434 - val_accuracy: 0.6429\n",
      "Epoch 2/1000\n",
      "600/600 [==============================] - 1s 2ms/step - loss: 0.6234 - accuracy: 0.6491 - val_loss: 0.6336 - val_accuracy: 0.6538\n",
      "Epoch 3/1000\n",
      "600/600 [==============================] - 1s 2ms/step - loss: 0.6149 - accuracy: 0.6582 - val_loss: 0.6343 - val_accuracy: 0.6488\n",
      "Epoch 4/1000\n",
      "600/600 [==============================] - 1s 2ms/step - loss: 0.6115 - accuracy: 0.6644 - val_loss: 0.6275 - val_accuracy: 0.6654\n",
      "Epoch 5/1000\n",
      "600/600 [==============================] - 1s 2ms/step - loss: 0.6071 - accuracy: 0.6701 - val_loss: 0.6287 - val_accuracy: 0.6550\n",
      "Epoch 6/1000\n",
      "600/600 [==============================] - 1s 2ms/step - loss: 0.6019 - accuracy: 0.6784 - val_loss: 0.6242 - val_accuracy: 0.6575\n",
      "Epoch 7/1000\n",
      "600/600 [==============================] - 1s 2ms/step - loss: 0.5988 - accuracy: 0.6776 - val_loss: 0.6237 - val_accuracy: 0.6637\n",
      "Epoch 8/1000\n",
      "600/600 [==============================] - 1s 2ms/step - loss: 0.5924 - accuracy: 0.6855 - val_loss: 0.6225 - val_accuracy: 0.6629\n",
      "Epoch 9/1000\n",
      "600/600 [==============================] - 1s 2ms/step - loss: 0.5890 - accuracy: 0.6905 - val_loss: 0.6310 - val_accuracy: 0.6646\n",
      "Epoch 10/1000\n",
      "600/600 [==============================] - 1s 2ms/step - loss: 0.5847 - accuracy: 0.6956 - val_loss: 0.6327 - val_accuracy: 0.6679\n",
      "Epoch 11/1000\n",
      "600/600 [==============================] - 1s 2ms/step - loss: 0.5797 - accuracy: 0.6995 - val_loss: 0.6226 - val_accuracy: 0.6721\n",
      "Epoch 12/1000\n",
      "600/600 [==============================] - 1s 2ms/step - loss: 0.5751 - accuracy: 0.7053 - val_loss: 0.6286 - val_accuracy: 0.6700\n",
      "Epoch 13/1000\n",
      "581/600 [============================>.] - ETA: 0s - loss: 0.5693 - accuracy: 0.7070Restoring model weights from the end of the best epoch: 8.\n",
      "600/600 [==============================] - 1s 2ms/step - loss: 0.5698 - accuracy: 0.7059 - val_loss: 0.6232 - val_accuracy: 0.6600\n",
      "Epoch 13: early stopping\n"
     ]
    }
   ],
   "source": [
    "hist1 = DL1.fit(x_train_sc, y_train, epochs=1000, verbose=1, callbacks=[es],\n",
    "        validation_split=0.2, batch_size=16)"
   ]
  },
  {
   "cell_type": "code",
   "execution_count": 118,
   "metadata": {},
   "outputs": [],
   "source": [
    "y_pred = DL1.predict(x_val)"
   ]
  },
  {
   "cell_type": "code",
   "execution_count": 119,
   "metadata": {},
   "outputs": [
    {
     "name": "stdout",
     "output_type": "stream",
     "text": [
      "              precision    recall  f1-score   support\n",
      "\n",
      "           0       0.51      1.00      0.67      1520\n",
      "           1       0.00      0.00      0.00      1480\n",
      "\n",
      "    accuracy                           0.51      3000\n",
      "   macro avg       0.25      0.50      0.34      3000\n",
      "weighted avg       0.26      0.51      0.34      3000\n",
      "\n"
     ]
    }
   ],
   "source": [
    "result_report['DL1']=classification_report(y_val, y_pred)\n",
    "print(classification_report (y_val, y_pred))"
   ]
  },
  {
   "cell_type": "code",
   "execution_count": 120,
   "metadata": {},
   "outputs": [
    {
     "data": {
      "image/png": "[encoded data removed]",
      "text/plain": [
       "<Figure size 720x360 with 2 Axes>"
      ]
     },
     "metadata": {
      "needs_background": "light"
     },
     "output_type": "display_data"
    }
   ],
   "source": [
    "plt.figure(figsize=(10,5))\n",
    "loss_ax = plt.subplot(1,2,1)\n",
    "acc_ax =plt.subplot(1,2,2)\n",
    "\n",
    "\n",
    "loss_ax.plot(hist1.history['loss'], 'r', label = 'train loss')\n",
    "loss_ax.plot(hist1.history['val_loss'], 'y', label = 'val loss')\n",
    "\n",
    "acc_ax.plot(hist1.history['accuracy'], 'b', label = 'train mae')\n",
    "acc_ax.plot(hist1.history['val_accuracy'], 'g', label = 'val mae')\n",
    "\n",
    "loss_ax.set_xlabel('epoch')\n",
    "loss_ax.set_ylabel('loss')\n",
    "acc_ax.set_xlabel('epoch')\n",
    "acc_ax.set_ylabel('mae')\n",
    "\n",
    "loss_ax.legend(loc='upper right')\n",
    "acc_ax.legend(loc='upper right')\n",
    "\n",
    "plt.show()"
   ]
  },
  {
   "cell_type": "markdown",
   "metadata": {},
   "source": [
    "#### (2) Funtional API"
   ]
  },
  {
   "cell_type": "code",
   "execution_count": 121,
   "metadata": {},
   "outputs": [
    {
     "name": "stdout",
     "output_type": "stream",
     "text": [
      "Model: \"model\"\n",
      "_________________________________________________________________\n",
      " Layer (type)                Output Shape              Param #   \n",
      "=================================================================\n",
      " input_1 (InputLayer)        [(None, 19)]              0         \n",
      "                                                                 \n",
      " dense (Dense)               (None, 512)               10240     \n",
      "                                                                 \n",
      " dense_1 (Dense)             (None, 512)               262656    \n",
      "                                                                 \n",
      " dense_2 (Dense)             (None, 256)               131328    \n",
      "                                                                 \n",
      " dense_3 (Dense)             (None, 128)               32896     \n",
      "                                                                 \n",
      " dense_4 (Dense)             (None, 64)                8256      \n",
      "                                                                 \n",
      " dense_5 (Dense)             (None, 1)                 65        \n",
      "                                                                 \n",
      "=================================================================\n",
      "Total params: 445,441\n",
      "Trainable params: 445,441\n",
      "Non-trainable params: 0\n",
      "_________________________________________________________________\n"
     ]
    }
   ],
   "source": [
    "#히든레이어 5개를 사용(512,512,256, 128, 64) \n",
    "# 노드수와 히든레이어를 앞모델에 비해 크게 줘보도록 하였다\n",
    "keras.backend.clear_session()\n",
    "\n",
    "il = keras.layers.Input(shape=(19,))\n",
    "hl = keras.layers.Dense(512, activation='relu')(il)\n",
    "hl = keras.layers.Dense(512, activation='relu')(hl)\n",
    "hl = keras.layers.Dense(256, activation='relu')(hl)\n",
    "hl = keras.layers.Dense(128, activation='relu')(hl)\n",
    "hl = keras.layers.Dense(64, activation='relu')(hl)\n",
    "ol = keras.layers.Dense(1, activation='sigmoid')(hl)\n",
    "\n",
    "DL2 = keras.models.Model(il,ol)\n",
    "DL2.compile(loss=keras.losses.binary_crossentropy, optimizer='adam',metrics=['accuracy'])\n",
    "DL2.summary()"
   ]
  },
  {
   "cell_type": "code",
   "execution_count": 122,
   "metadata": {},
   "outputs": [
    {
     "name": "stdout",
     "output_type": "stream",
     "text": [
      "Epoch 1/1000\n",
      "600/600 [==============================] - 4s 5ms/step - loss: 0.6468 - accuracy: 0.6202 - val_loss: 0.6341 - val_accuracy: 0.6421\n",
      "Epoch 2/1000\n",
      "600/600 [==============================] - 3s 6ms/step - loss: 0.6272 - accuracy: 0.6527 - val_loss: 0.6313 - val_accuracy: 0.6583\n",
      "Epoch 3/1000\n",
      "600/600 [==============================] - 4s 6ms/step - loss: 0.6196 - accuracy: 0.6574 - val_loss: 0.6265 - val_accuracy: 0.6587\n",
      "Epoch 4/1000\n",
      "600/600 [==============================] - 4s 6ms/step - loss: 0.6135 - accuracy: 0.6604 - val_loss: 0.6325 - val_accuracy: 0.6675\n",
      "Epoch 5/1000\n",
      "600/600 [==============================] - 3s 5ms/step - loss: 0.6097 - accuracy: 0.6725 - val_loss: 0.6323 - val_accuracy: 0.6596\n",
      "Epoch 6/1000\n",
      "600/600 [==============================] - 3s 5ms/step - loss: 0.6033 - accuracy: 0.6798 - val_loss: 0.6237 - val_accuracy: 0.6612\n",
      "Epoch 7/1000\n",
      "600/600 [==============================] - 3s 5ms/step - loss: 0.6001 - accuracy: 0.6815 - val_loss: 0.6235 - val_accuracy: 0.6679\n",
      "Epoch 8/1000\n",
      "600/600 [==============================] - 3s 5ms/step - loss: 0.5969 - accuracy: 0.6833 - val_loss: 0.6167 - val_accuracy: 0.6667\n",
      "Epoch 9/1000\n",
      "600/600 [==============================] - 3s 5ms/step - loss: 0.5897 - accuracy: 0.6906 - val_loss: 0.6241 - val_accuracy: 0.6662\n",
      "Epoch 10/1000\n",
      "600/600 [==============================] - 3s 5ms/step - loss: 0.5833 - accuracy: 0.6960 - val_loss: 0.6335 - val_accuracy: 0.6504\n",
      "Epoch 11/1000\n",
      "600/600 [==============================] - 3s 5ms/step - loss: 0.5777 - accuracy: 0.7016 - val_loss: 0.6445 - val_accuracy: 0.6575\n",
      "Epoch 12/1000\n",
      "600/600 [==============================] - 3s 5ms/step - loss: 0.5713 - accuracy: 0.7045 - val_loss: 0.6348 - val_accuracy: 0.6438\n",
      "Epoch 13/1000\n",
      "594/600 [============================>.] - ETA: 0s - loss: 0.5617 - accuracy: 0.7114Restoring model weights from the end of the best epoch: 8.\n",
      "600/600 [==============================] - 3s 5ms/step - loss: 0.5615 - accuracy: 0.7115 - val_loss: 0.6352 - val_accuracy: 0.6662\n",
      "Epoch 13: early stopping\n"
     ]
    }
   ],
   "source": [
    "hist2 = DL2.fit(x_train_sc, y_train, epochs=1000, verbose=1, callbacks=[es],\n",
    "        validation_split=0.2, batch_size=16)"
   ]
  },
  {
   "cell_type": "code",
   "execution_count": 123,
   "metadata": {},
   "outputs": [],
   "source": [
    "y_pred = DL2.predict(x_val)"
   ]
  },
  {
   "cell_type": "code",
   "execution_count": 124,
   "metadata": {},
   "outputs": [
    {
     "name": "stdout",
     "output_type": "stream",
     "text": [
      "              precision    recall  f1-score   support\n",
      "\n",
      "           0       0.51      1.00      0.67      1520\n",
      "           1       0.00      0.00      0.00      1480\n",
      "\n",
      "    accuracy                           0.51      3000\n",
      "   macro avg       0.25      0.50      0.34      3000\n",
      "weighted avg       0.26      0.51      0.34      3000\n",
      "\n"
     ]
    }
   ],
   "source": [
    "result_report['DL2']=classification_report(y_val, y_pred)\n",
    "print(classification_report (y_val, y_pred))"
   ]
  },
  {
   "cell_type": "code",
   "execution_count": 125,
   "metadata": {},
   "outputs": [
    {
     "name": "stdout",
     "output_type": "stream",
     "text": [
      "              precision    recall  f1-score   support\n",
      "\n",
      "           0       0.51      1.00      0.67      1520\n",
      "           1       0.00      0.00      0.00      1480\n",
      "\n",
      "    accuracy                           0.51      3000\n",
      "   macro avg       0.25      0.50      0.34      3000\n",
      "weighted avg       0.26      0.51      0.34      3000\n",
      "\n"
     ]
    }
   ],
   "source": [
    "result_report['DL2']=classification_report(y_val, y_pred)\n",
    "print(classification_report (y_val, y_pred))"
   ]
  },
  {
   "cell_type": "markdown",
   "metadata": {},
   "source": [
    "#### (3) ANN\n",
    "변수 중요도를 통하여 높은 수치의 피쳐 4개와 조금 관련이 있는 피쳐 3개를 Concatenate()\n",
    "함수를 통하여 모델을 만들었다."
   ]
  },
  {
   "cell_type": "code",
   "execution_count": 129,
   "metadata": {},
   "outputs": [
    {
     "data": {
      "image/png": "[encoded data removed]",
      "text/plain": [
       "<Figure size 360x864 with 1 Axes>"
      ]
     },
     "metadata": {
      "needs_background": "light"
     },
     "output_type": "display_data"
    }
   ],
   "source": [
    "# 변수 중요도 시각화 : 그나마 정확도 높은 모델인 Decision Tree Model\n",
    "plt.figure(figsize=(5, 12))\n",
    "plt.barh(y=list(x), width=model.best_estimator_.feature_importances_)\n",
    "plt.show()"
   ]
  },
  {
   "cell_type": "code",
   "execution_count": 130,
   "metadata": {},
   "outputs": [],
   "source": [
    "x_train_split_1 = x_train[['INCOME','OVERAGE','LEFTOVER','HOUSE']]\n",
    "x_train_split_2 = x_train[['HANDSET_PRICE','OVER_15MINS_CALLS_PER_MONTH','REPORTED_USAGE_LEVEL_high']]\n",
    "\n",
    "x_val_split_1 = x_val[['INCOME','OVERAGE','LEFTOVER','HOUSE']]\n",
    "x_val_split_2 = x_val[['HANDSET_PRICE','OVER_15MINS_CALLS_PER_MONTH','REPORTED_USAGE_LEVEL_high']]\n",
    "\n",
    "x_test_split_1 = x_test[['INCOME','OVERAGE','LEFTOVER','HOUSE']]\n",
    "x_test_split_2 = x_test[['HANDSET_PRICE','OVER_15MINS_CALLS_PER_MONTH','REPORTED_USAGE_LEVEL_high']]"
   ]
  },
  {
   "cell_type": "code",
   "execution_count": 131,
   "metadata": {},
   "outputs": [
    {
     "data": {
      "text/plain": [
       "((12000, 4), (12000, 3))"
      ]
     },
     "execution_count": 131,
     "metadata": {},
     "output_type": "execute_result"
    }
   ],
   "source": [
    "x_train_split_1.shape, x_train_split_2.shape"
   ]
  },
  {
   "cell_type": "code",
   "execution_count": 132,
   "metadata": {},
   "outputs": [
    {
     "name": "stdout",
     "output_type": "stream",
     "text": [
      "Model: \"model\"\n",
      "__________________________________________________________________________________________________\n",
      " Layer (type)                   Output Shape         Param #     Connected to                     \n",
      "==================================================================================================\n",
      " input_1 (InputLayer)           [(None, 4)]          0           []                               \n",
      "                                                                                                  \n",
      " input_2 (InputLayer)           [(None, 3)]          0           []                               \n",
      "                                                                                                  \n",
      " dense (Dense)                  (None, 128)          640         ['input_1[0][0]']                \n",
      "                                                                                                  \n",
      " dense_1 (Dense)                (None, 128)          512         ['input_2[0][0]']                \n",
      "                                                                                                  \n",
      " concatenate (Concatenate)      (None, 256)          0           ['dense[0][0]',                  \n",
      "                                                                  'dense_1[0][0]']                \n",
      "                                                                                                  \n",
      " dense_2 (Dense)                (None, 1)            257         ['concatenate[0][0]']            \n",
      "                                                                                                  \n",
      "==================================================================================================\n",
      "Total params: 1,409\n",
      "Trainable params: 1,409\n",
      "Non-trainable params: 0\n",
      "__________________________________________________________________________________________________\n"
     ]
    }
   ],
   "source": [
    "keras.backend.clear_session()\n",
    "\n",
    "il1 = keras.layers.Input(shape=(4,))\n",
    "hl1 = keras.layers.Dense(128, activation='relu')(il1)\n",
    "\n",
    "il2 = keras.layers.Input(shape=(3,))\n",
    "hl2 = keras.layers.Dense(128, activation='relu')(il2)\n",
    "\n",
    "cl = keras.layers.Concatenate()([hl1, hl2])\n",
    "ol = keras.layers.Dense(1, activation='sigmoid')(cl)\n",
    "\n",
    "DL3= keras.models.Model([il1, il2], ol)\n",
    "\n",
    "DL3.compile(loss=keras.losses.binary_crossentropy, optimizer=keras.optimizers.Adam())\n",
    "\n",
    "DL3.summary()"
   ]
  },
  {
   "cell_type": "code",
   "execution_count": 133,
   "metadata": {},
   "outputs": [
    {
     "name": "stdout",
     "output_type": "stream",
     "text": [
      "Epoch 1/1000\n",
      "600/600 [==============================] - 1s 2ms/step - loss: 423.8217 - val_loss: 357.2673\n",
      "Epoch 2/1000\n",
      "600/600 [==============================] - 1s 2ms/step - loss: 340.1477 - val_loss: 119.1461\n",
      "Epoch 3/1000\n",
      "600/600 [==============================] - 1s 2ms/step - loss: 329.0331 - val_loss: 387.5458\n",
      "Epoch 4/1000\n",
      "600/600 [==============================] - 1s 2ms/step - loss: 365.4109 - val_loss: 141.0757\n",
      "Epoch 5/1000\n",
      "600/600 [==============================] - 1s 2ms/step - loss: 285.6780 - val_loss: 85.5293\n",
      "Epoch 6/1000\n",
      "600/600 [==============================] - 1s 2ms/step - loss: 313.8445 - val_loss: 203.5456\n",
      "Epoch 7/1000\n",
      "600/600 [==============================] - 1s 2ms/step - loss: 261.6686 - val_loss: 338.4625\n",
      "Epoch 8/1000\n",
      "600/600 [==============================] - 1s 2ms/step - loss: 242.1591 - val_loss: 231.1611\n",
      "Epoch 9/1000\n",
      "600/600 [==============================] - 1s 2ms/step - loss: 232.3865 - val_loss: 322.4207\n",
      "Epoch 10/1000\n",
      "563/600 [===========================>..] - ETA: 0s - loss: 306.3420Restoring model weights from the end of the best epoch: 5.\n",
      "600/600 [==============================] - 1s 1ms/step - loss: 297.3746 - val_loss: 103.4047\n",
      "Epoch 10: early stopping\n"
     ]
    }
   ],
   "source": [
    "hist3 = DL3.fit([x_train_split_1, x_train_split_2], y_train, epochs=1000, verbose=1, callbacks=[es],\n",
    "        validation_split=0.2, batch_size=16)"
   ]
  },
  {
   "cell_type": "code",
   "execution_count": 134,
   "metadata": {},
   "outputs": [],
   "source": [
    "y_pred = DL3.predict([x_val_split_1, x_val_split_2])"
   ]
  },
  {
   "cell_type": "code",
   "execution_count": 135,
   "metadata": {},
   "outputs": [
    {
     "data": {
      "text/plain": [
       "array([[1.0000000e+00],\n",
       "       [1.0000000e+00],\n",
       "       [0.0000000e+00],\n",
       "       ...,\n",
       "       [0.0000000e+00],\n",
       "       [3.4406408e-13],\n",
       "       [1.0000000e+00]], dtype=float32)"
      ]
     },
     "execution_count": 135,
     "metadata": {},
     "output_type": "execute_result"
    }
   ],
   "source": [
    "y_pred"
   ]
  },
  {
   "cell_type": "code",
   "execution_count": 136,
   "metadata": {},
   "outputs": [],
   "source": [
    "for idx, val in enumerate(y_pred):\n",
    "    if y_pred[idx] >=0.5:\n",
    "        y_pred[idx] = 1\n",
    "    else:\n",
    "        y_pred[idx] = 0"
   ]
  },
  {
   "cell_type": "code",
   "execution_count": 137,
   "metadata": {},
   "outputs": [
    {
     "name": "stdout",
     "output_type": "stream",
     "text": [
      "              precision    recall  f1-score   support\n",
      "\n",
      "           0       0.64      0.70      0.67      1520\n",
      "           1       0.66      0.60      0.63      1480\n",
      "\n",
      "    accuracy                           0.65      3000\n",
      "   macro avg       0.65      0.65      0.65      3000\n",
      "weighted avg       0.65      0.65      0.65      3000\n",
      "\n"
     ]
    }
   ],
   "source": [
    "result_report['DL3']=classification_report(y_val, y_pred)\n",
    "print(classification_report (y_val, y_pred))"
   ]
  },
  {
   "cell_type": "markdown",
   "metadata": {},
   "source": [
    "## 5.성능 비교"
   ]
  },
  {
   "cell_type": "markdown",
   "metadata": {},
   "source": [
    "### 5.1 평가지표 결정\n",
    ">프로젝트의 목표는 현재 고객수를 유지하기 위하여 고객 이탈율을 줄이기 위한 모델을 만들고 예측하여 \n",
    "문제를 해결하는것 입니다. 실제 이탈을 한 사람들의 통화 패턴이나 사용량, 그 외에 외부적으로 주는 요인에 대한 특징을 파악하고 문제를 해결해야 한다고 판단하였습니다.\n",
    "따라서 실제 이탈고객이 이탈을 했는지에 관한 성능인 **recall**로 성능을 비교하겠습니다."
   ]
  },
  {
   "cell_type": "markdown",
   "metadata": {},
   "source": [
    "### 5.2 성능 비교"
   ]
  },
  {
   "cell_type": "code",
   "execution_count": 138,
   "metadata": {},
   "outputs": [
    {
     "name": "stdout",
     "output_type": "stream",
     "text": [
      "========================================\n",
      "Logistic Regression\n",
      "              precision    recall  f1-score   support\n",
      "\n",
      "           0       0.64      0.65      0.65      1520\n",
      "           1       0.64      0.62      0.63      1480\n",
      "\n",
      "    accuracy                           0.64      3000\n",
      "   macro avg       0.64      0.64      0.64      3000\n",
      "weighted avg       0.64      0.64      0.64      3000\n",
      "\n",
      "========================================\n",
      "Decision Tree\n",
      "              precision    recall  f1-score   support\n",
      "\n",
      "           0       0.76      0.64      0.70      1520\n",
      "           1       0.68      0.79      0.73      1480\n",
      "\n",
      "    accuracy                           0.72      3000\n",
      "   macro avg       0.72      0.72      0.71      3000\n",
      "weighted avg       0.72      0.72      0.71      3000\n",
      "\n",
      "========================================\n",
      "SVM\n",
      "              precision    recall  f1-score   support\n",
      "\n",
      "           0       0.65      0.75      0.70      1520\n",
      "           1       0.70      0.59      0.64      1480\n",
      "\n",
      "    accuracy                           0.67      3000\n",
      "   macro avg       0.68      0.67      0.67      3000\n",
      "weighted avg       0.68      0.67      0.67      3000\n",
      "\n",
      "========================================\n",
      "XGB\n",
      "              precision    recall  f1-score   support\n",
      "\n",
      "           0       0.70      0.67      0.68      1520\n",
      "           1       0.67      0.70      0.69      1480\n",
      "\n",
      "    accuracy                           0.69      3000\n",
      "   macro avg       0.69      0.69      0.69      3000\n",
      "weighted avg       0.69      0.69      0.69      3000\n",
      "\n",
      "========================================\n",
      "DL1\n",
      "              precision    recall  f1-score   support\n",
      "\n",
      "           0       0.51      1.00      0.67      1520\n",
      "           1       0.00      0.00      0.00      1480\n",
      "\n",
      "    accuracy                           0.51      3000\n",
      "   macro avg       0.25      0.50      0.34      3000\n",
      "weighted avg       0.26      0.51      0.34      3000\n",
      "\n",
      "========================================\n",
      "DL2\n",
      "              precision    recall  f1-score   support\n",
      "\n",
      "           0       0.51      1.00      0.67      1520\n",
      "           1       0.00      0.00      0.00      1480\n",
      "\n",
      "    accuracy                           0.51      3000\n",
      "   macro avg       0.25      0.50      0.34      3000\n",
      "weighted avg       0.26      0.51      0.34      3000\n",
      "\n",
      "========================================\n",
      "DL3\n",
      "              precision    recall  f1-score   support\n",
      "\n",
      "           0       0.64      0.70      0.67      1520\n",
      "           1       0.66      0.60      0.63      1480\n",
      "\n",
      "    accuracy                           0.65      3000\n",
      "   macro avg       0.65      0.65      0.65      3000\n",
      "weighted avg       0.65      0.65      0.65      3000\n",
      "\n"
     ]
    }
   ],
   "source": [
    "for m_name, score in result_report.items():\n",
    "    print('=' * 40)\n",
    "    print(m_name)\n",
    "    print(score)"
   ]
  },
  {
   "cell_type": "markdown",
   "metadata": {},
   "source": [
    "#### 비교해 봤을 때 Decision Tree 모델이 가장 성능이 좋기 때문에 최종모델로 선정하게 되었다. "
   ]
  },
  {
   "cell_type": "markdown",
   "metadata": {},
   "source": [
    "# 비즈니스 인사이트"
   ]
  },
  {
   "cell_type": "markdown",
   "metadata": {},
   "source": [
    "1. 요금제 선택 폭 확대\n",
    "- 잔여 통화량이나 초과 사용량을 보면 사람마다 통화시간이 다소 남거나 부족한 경우가 보인다. 이는 요금제의 다양성이 부족하여 생긴 문제로 예상된다.\n",
    "> 다양한 요금제의 출시가 필요해보임"
   ]
  },
  {
   "cell_type": "markdown",
   "metadata": {},
   "source": [
    "2. 다양한 서비스 제공\n",
    "- 요금제 다양화뿐만 아니라 사용 연차에 따른 멤버십 혜택 제공 및 통신 할인율, 부가서비스 등을 증가시킴으로써 불만을 개선시켜야 한다."
   ]
  },
  {
   "cell_type": "markdown",
   "metadata": {},
   "source": [
    "3. 추천 서비스 도입\n",
    "- 고객의 사용량을 분석하여 이에 따른 요금제 추천 서비스를 도입하면 이탈률 감소를 예상된다."
   ]
  },
  {
   "cell_type": "markdown",
   "metadata": {},
   "source": [
    "4. 차별 없는 서비스\n",
    "- 시골 지역의 고객들이 상대적으로 이탈률이 높다. 이것은 통화 품질 및 인터넷 속도 차이에서 발생하는 이탈률로 예상된다.\n",
    "> 시골 지역에 통신 인프라를 구축함으로써 도시 지역과 차별 첪는 서비스를 제공할 필요해 보임"
   ]
  },
  {
   "cell_type": "markdown",
   "metadata": {},
   "source": [
    "5. 좋은 서비스 경험 제공\n",
    "- 기존 고객유지에 힘쓰기 위하여 기기 값을 경쟁력 있는 가격으로 판매하거나 소비자의 서비스나 제품에 대한 컴플레인을 적극 수용하는 자세가 필요할 것 같다."
   ]
  }
 ],
 "metadata": {
  "colab": {
   "collapsed_sections": [
    "bdWZCugILZAz",
    "6ks7Mts5ZOIO",
    "KkyjTXOqLsyK",
    "wv6nX82-ZIG4"
   ],
   "name": "과제2. Mobile 고객 이탈 분석.ipynb",
   "provenance": []
  },
  "kernelspec": {
   "display_name": "Python 3 (ipykernel)",
   "language": "python",
   "name": "python3"
  },
  "language_info": {
   "codemirror_mode": {
    "name": "ipython",
    "version": 3
   },
   "file_extension": ".py",
   "mimetype": "text/x-python",
   "name": "python",
   "nbconvert_exporter": "python",
   "pygments_lexer": "ipython3",
   "version": "3.9.7"
  }
 },
 "nbformat": 4,
 "nbformat_minor": 1
}
