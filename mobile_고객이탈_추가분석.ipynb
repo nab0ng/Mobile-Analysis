{
 "cells": [
  {
   "cell_type": "code",
   "execution_count": 1,
   "id": "e526d1b6",
   "metadata": {},
   "outputs": [],
   "source": [
    "import pandas as pd\n",
    "import numpy as np\n",
    "import matplotlib.pyplot as plt\n",
    "import seaborn as sns\n",
    "\n",
    "from statsmodels.graphics.mosaicplot import mosaic\n",
    "from scipy import stats as spst\n",
    "import statsmodels.api as sm\n",
    "\n",
    "import warnings\n",
    "warnings.filterwarnings('ignore')"
   ]
  },
  {
   "cell_type": "code",
   "execution_count": 2,
   "id": "10280206",
   "metadata": {},
   "outputs": [
    {
     "data": {
      "text/html": [
       "<div>\n",
       "<style scoped>\n",
       "    .dataframe tbody tr th:only-of-type {\n",
       "        vertical-align: middle;\n",
       "    }\n",
       "\n",
       "    .dataframe tbody tr th {\n",
       "        vertical-align: top;\n",
       "    }\n",
       "\n",
       "    .dataframe thead th {\n",
       "        text-align: right;\n",
       "    }\n",
       "</style>\n",
       "<table border=\"1\" class=\"dataframe\">\n",
       "  <thead>\n",
       "    <tr style=\"text-align: right;\">\n",
       "      <th></th>\n",
       "      <th>id</th>\n",
       "      <th>COLLEGE</th>\n",
       "      <th>INCOME</th>\n",
       "      <th>OVERAGE</th>\n",
       "      <th>LEFTOVER</th>\n",
       "      <th>HOUSE</th>\n",
       "      <th>HANDSET_PRICE</th>\n",
       "      <th>OVER_15MINS_CALLS_PER_MONTH</th>\n",
       "      <th>AVERAGE_CALL_DURATION</th>\n",
       "      <th>REPORTED_SATISFACTION</th>\n",
       "      <th>REPORTED_USAGE_LEVEL</th>\n",
       "      <th>CONSIDERING_CHANGE_OF_PLAN</th>\n",
       "      <th>CHURN</th>\n",
       "    </tr>\n",
       "  </thead>\n",
       "  <tbody>\n",
       "    <tr>\n",
       "      <th>0</th>\n",
       "      <td>544</td>\n",
       "      <td>1</td>\n",
       "      <td>47711</td>\n",
       "      <td>183</td>\n",
       "      <td>17</td>\n",
       "      <td>730589.0</td>\n",
       "      <td>192</td>\n",
       "      <td>19</td>\n",
       "      <td>5</td>\n",
       "      <td>unsat</td>\n",
       "      <td>little</td>\n",
       "      <td>considering</td>\n",
       "      <td>0</td>\n",
       "    </tr>\n",
       "    <tr>\n",
       "      <th>1</th>\n",
       "      <td>689</td>\n",
       "      <td>0</td>\n",
       "      <td>74132</td>\n",
       "      <td>191</td>\n",
       "      <td>43</td>\n",
       "      <td>535092.0</td>\n",
       "      <td>349</td>\n",
       "      <td>15</td>\n",
       "      <td>2</td>\n",
       "      <td>unsat</td>\n",
       "      <td>very_little</td>\n",
       "      <td>no</td>\n",
       "      <td>1</td>\n",
       "    </tr>\n",
       "    <tr>\n",
       "      <th>2</th>\n",
       "      <td>3134</td>\n",
       "      <td>1</td>\n",
       "      <td>150419</td>\n",
       "      <td>0</td>\n",
       "      <td>14</td>\n",
       "      <td>204004.0</td>\n",
       "      <td>682</td>\n",
       "      <td>0</td>\n",
       "      <td>6</td>\n",
       "      <td>unsat</td>\n",
       "      <td>very_high</td>\n",
       "      <td>considering</td>\n",
       "      <td>0</td>\n",
       "    </tr>\n",
       "    <tr>\n",
       "      <th>3</th>\n",
       "      <td>12523</td>\n",
       "      <td>0</td>\n",
       "      <td>159567</td>\n",
       "      <td>0</td>\n",
       "      <td>58</td>\n",
       "      <td>281969.0</td>\n",
       "      <td>634</td>\n",
       "      <td>1</td>\n",
       "      <td>1</td>\n",
       "      <td>very_unsat</td>\n",
       "      <td>very_high</td>\n",
       "      <td>never_thought</td>\n",
       "      <td>0</td>\n",
       "    </tr>\n",
       "    <tr>\n",
       "      <th>4</th>\n",
       "      <td>2374</td>\n",
       "      <td>1</td>\n",
       "      <td>23392</td>\n",
       "      <td>0</td>\n",
       "      <td>0</td>\n",
       "      <td>216707.0</td>\n",
       "      <td>233</td>\n",
       "      <td>0</td>\n",
       "      <td>15</td>\n",
       "      <td>unsat</td>\n",
       "      <td>very_little</td>\n",
       "      <td>no</td>\n",
       "      <td>1</td>\n",
       "    </tr>\n",
       "  </tbody>\n",
       "</table>\n",
       "</div>"
      ],
      "text/plain": [
       "      id  COLLEGE  INCOME  OVERAGE  LEFTOVER     HOUSE  HANDSET_PRICE  \\\n",
       "0    544        1   47711      183        17  730589.0            192   \n",
       "1    689        0   74132      191        43  535092.0            349   \n",
       "2   3134        1  150419        0        14  204004.0            682   \n",
       "3  12523        0  159567        0        58  281969.0            634   \n",
       "4   2374        1   23392        0         0  216707.0            233   \n",
       "\n",
       "   OVER_15MINS_CALLS_PER_MONTH  AVERAGE_CALL_DURATION REPORTED_SATISFACTION  \\\n",
       "0                           19                      5                 unsat   \n",
       "1                           15                      2                 unsat   \n",
       "2                            0                      6                 unsat   \n",
       "3                            1                      1            very_unsat   \n",
       "4                            0                     15                 unsat   \n",
       "\n",
       "  REPORTED_USAGE_LEVEL CONSIDERING_CHANGE_OF_PLAN  CHURN  \n",
       "0               little                considering      0  \n",
       "1          very_little                         no      1  \n",
       "2            very_high                considering      0  \n",
       "3            very_high              never_thought      0  \n",
       "4          very_little                         no      1  "
      ]
     },
     "execution_count": 2,
     "metadata": {},
     "output_type": "execute_result"
    }
   ],
   "source": [
    "# mobile data\n",
    "data_path = \"https://raw.githubusercontent.com/DA4BAM/dataset/master/mobile_NA2.csv\"\n",
    "mobile = pd.read_csv(data_path)\n",
    "mobile.head()"
   ]
  },
  {
   "cell_type": "markdown",
   "id": "ca7e8ace",
   "metadata": {},
   "source": [
    "|변수 명|내용|구분|\n",
    "|\t----\t|\t----\t|\t----\t|\n",
    "|\tCOLLEGE\t|\t대학졸업 여부(1,0) - 범주\t|\t\t|\n",
    "|\tINCOME\t|\t연 수입액(달러)\t|\t\t|\n",
    "|\tOVERAGE\t|\t월 초과사용 시간(분)\t|\t\t|\n",
    "|\tLEFTOVER\t|\t월 사용 잔여시간비율(%)\t|\t\t|\n",
    "|\tHOUSE\t|\t집 가격(달러)\t|\t\t|\n",
    "|\tHANDSET_PRICE\t|\t핸드폰 가격(달러)\t|\t\t|\n",
    "|\tOVER_15MINS_CALLS_PER_MONTH\t|\t 평균 장기통화(15분 이상) 횟수\t|\t\t|\n",
    "|\tAVERAGE_CALL_DURATION\t|\t평균 통화시간(분)\t|\t\t|\n",
    "|\tREPORTED_SATISFACTION\t|\t만족도 설문('very_unsat', 'unsat', 'avg', 'sat', 'very_sat' ) - 범주\t|\t\t|\n",
    "|\tREPORTED_USAGE_LEVEL\t|\t사용 수준 설문('very_little', 'little', 'avg', 'high', 'very_high') - 범주\t|\t\t|\n",
    "|\tCONSIDERING_CHANGE_OF_PLAN\t|\t변경 계획 설문('never_thought', 'no', 'perhaps', 'considering',   'actively_looking_into_it') - 범주\t|\t\t|\n",
    "|\t**CHURN**\t|\t이탈여부(1 : 이탈, 0 : 잔류)\t|\t**Target**\t|\n"
   ]
  },
  {
   "cell_type": "code",
   "execution_count": 3,
   "id": "f4ca8b19",
   "metadata": {},
   "outputs": [],
   "source": [
    "df = mobile.copy()"
   ]
  },
  {
   "cell_type": "code",
   "execution_count": 4,
   "id": "5183dcac",
   "metadata": {},
   "outputs": [
    {
     "data": {
      "text/html": [
       "<div>\n",
       "<style scoped>\n",
       "    .dataframe tbody tr th:only-of-type {\n",
       "        vertical-align: middle;\n",
       "    }\n",
       "\n",
       "    .dataframe tbody tr th {\n",
       "        vertical-align: top;\n",
       "    }\n",
       "\n",
       "    .dataframe thead th {\n",
       "        text-align: right;\n",
       "    }\n",
       "</style>\n",
       "<table border=\"1\" class=\"dataframe\">\n",
       "  <thead>\n",
       "    <tr style=\"text-align: right;\">\n",
       "      <th></th>\n",
       "      <th>id</th>\n",
       "      <th>COLLEGE</th>\n",
       "      <th>INCOME</th>\n",
       "      <th>OVERAGE</th>\n",
       "      <th>LEFTOVER</th>\n",
       "      <th>HOUSE</th>\n",
       "      <th>HANDSET_PRICE</th>\n",
       "      <th>OVER_15MINS_CALLS_PER_MONTH</th>\n",
       "      <th>AVERAGE_CALL_DURATION</th>\n",
       "      <th>REPORTED_SATISFACTION</th>\n",
       "      <th>REPORTED_USAGE_LEVEL</th>\n",
       "      <th>CONSIDERING_CHANGE_OF_PLAN</th>\n",
       "      <th>CHURN</th>\n",
       "    </tr>\n",
       "  </thead>\n",
       "  <tbody>\n",
       "    <tr>\n",
       "      <th>17997</th>\n",
       "      <td>13354</td>\n",
       "      <td>0</td>\n",
       "      <td>82931</td>\n",
       "      <td>0</td>\n",
       "      <td>77</td>\n",
       "      <td>NaN</td>\n",
       "      <td>232</td>\n",
       "      <td>0</td>\n",
       "      <td>2</td>\n",
       "      <td>very_unsat</td>\n",
       "      <td>very_little</td>\n",
       "      <td>never_thought</td>\n",
       "      <td>0</td>\n",
       "    </tr>\n",
       "    <tr>\n",
       "      <th>17998</th>\n",
       "      <td>2421</td>\n",
       "      <td>0</td>\n",
       "      <td>124391</td>\n",
       "      <td>0</td>\n",
       "      <td>19</td>\n",
       "      <td>NaN</td>\n",
       "      <td>862</td>\n",
       "      <td>0</td>\n",
       "      <td>2</td>\n",
       "      <td>unsat</td>\n",
       "      <td>very_high</td>\n",
       "      <td>no</td>\n",
       "      <td>0</td>\n",
       "    </tr>\n",
       "    <tr>\n",
       "      <th>17999</th>\n",
       "      <td>2553</td>\n",
       "      <td>0</td>\n",
       "      <td>104849</td>\n",
       "      <td>223</td>\n",
       "      <td>5</td>\n",
       "      <td>NaN</td>\n",
       "      <td>463</td>\n",
       "      <td>21</td>\n",
       "      <td>5</td>\n",
       "      <td>very_unsat</td>\n",
       "      <td>little</td>\n",
       "      <td>considering</td>\n",
       "      <td>1</td>\n",
       "    </tr>\n",
       "  </tbody>\n",
       "</table>\n",
       "</div>"
      ],
      "text/plain": [
       "          id  COLLEGE  INCOME  OVERAGE  LEFTOVER  HOUSE  HANDSET_PRICE  \\\n",
       "17997  13354        0   82931        0        77    NaN            232   \n",
       "17998   2421        0  124391        0        19    NaN            862   \n",
       "17999   2553        0  104849      223         5    NaN            463   \n",
       "\n",
       "       OVER_15MINS_CALLS_PER_MONTH  AVERAGE_CALL_DURATION  \\\n",
       "17997                            0                      2   \n",
       "17998                            0                      2   \n",
       "17999                           21                      5   \n",
       "\n",
       "      REPORTED_SATISFACTION REPORTED_USAGE_LEVEL CONSIDERING_CHANGE_OF_PLAN  \\\n",
       "17997            very_unsat          very_little              never_thought   \n",
       "17998                 unsat            very_high                         no   \n",
       "17999            very_unsat               little                considering   \n",
       "\n",
       "       CHURN  \n",
       "17997      0  \n",
       "17998      0  \n",
       "17999      1  "
      ]
     },
     "execution_count": 4,
     "metadata": {},
     "output_type": "execute_result"
    }
   ],
   "source": [
    "df.tail(3)"
   ]
  },
  {
   "cell_type": "code",
   "execution_count": 5,
   "id": "819ede86",
   "metadata": {},
   "outputs": [
    {
     "name": "stdout",
     "output_type": "stream",
     "text": [
      "<class 'pandas.core.frame.DataFrame'>\n",
      "RangeIndex: 18000 entries, 0 to 17999\n",
      "Data columns (total 13 columns):\n",
      " #   Column                       Non-Null Count  Dtype  \n",
      "---  ------                       --------------  -----  \n",
      " 0   id                           18000 non-null  int64  \n",
      " 1   COLLEGE                      18000 non-null  int64  \n",
      " 2   INCOME                       18000 non-null  int64  \n",
      " 3   OVERAGE                      18000 non-null  int64  \n",
      " 4   LEFTOVER                     18000 non-null  int64  \n",
      " 5   HOUSE                        17785 non-null  float64\n",
      " 6   HANDSET_PRICE                18000 non-null  int64  \n",
      " 7   OVER_15MINS_CALLS_PER_MONTH  18000 non-null  int64  \n",
      " 8   AVERAGE_CALL_DURATION        18000 non-null  int64  \n",
      " 9   REPORTED_SATISFACTION        17962 non-null  object \n",
      " 10  REPORTED_USAGE_LEVEL         18000 non-null  object \n",
      " 11  CONSIDERING_CHANGE_OF_PLAN   18000 non-null  object \n",
      " 12  CHURN                        18000 non-null  int64  \n",
      "dtypes: float64(1), int64(9), object(3)\n",
      "memory usage: 1.8+ MB\n"
     ]
    }
   ],
   "source": [
    "df.info()"
   ]
  },
  {
   "cell_type": "code",
   "execution_count": 6,
   "id": "9ad749a7",
   "metadata": {},
   "outputs": [],
   "source": [
    "#결측치 처리\n",
    "df['HOUSE'].fillna(df['HOUSE'].mean(), inplace=True)\n",
    "# 설문조사 이기때문에 최빈값으로 채움\n",
    "df['REPORTED_SATISFACTION'].fillna('very_unsat', inplace=True)"
   ]
  },
  {
   "cell_type": "code",
   "execution_count": 7,
   "id": "644950ca",
   "metadata": {},
   "outputs": [
    {
     "data": {
      "text/plain": [
       "id                             0\n",
       "COLLEGE                        0\n",
       "INCOME                         0\n",
       "OVERAGE                        0\n",
       "LEFTOVER                       0\n",
       "HOUSE                          0\n",
       "HANDSET_PRICE                  0\n",
       "OVER_15MINS_CALLS_PER_MONTH    0\n",
       "AVERAGE_CALL_DURATION          0\n",
       "REPORTED_SATISFACTION          0\n",
       "REPORTED_USAGE_LEVEL           0\n",
       "CONSIDERING_CHANGE_OF_PLAN     0\n",
       "CHURN                          0\n",
       "dtype: int64"
      ]
     },
     "execution_count": 7,
     "metadata": {},
     "output_type": "execute_result"
    }
   ],
   "source": [
    "df.isna().sum()"
   ]
  },
  {
   "cell_type": "code",
   "execution_count": 8,
   "id": "eb77932d",
   "metadata": {},
   "outputs": [],
   "source": [
    "target='CHURN'"
   ]
  },
  {
   "cell_type": "markdown",
   "id": "7ddb4dc4",
   "metadata": {},
   "source": [
    "변경계획설문(CONSIDERING_CHANGE_OF_PLAN)과 다른 컬럼"
   ]
  },
  {
   "cell_type": "code",
   "execution_count": 9,
   "id": "4589014c",
   "metadata": {},
   "outputs": [],
   "source": [
    "feature='CONSIDERING_CHANGE_OF_PLAN'"
   ]
  },
  {
   "cell_type": "code",
   "execution_count": 10,
   "id": "7c10f54e",
   "metadata": {},
   "outputs": [
    {
     "data": {
      "text/plain": [
       "considering                 7141\n",
       "actively_looking_into_it    4453\n",
       "no                          3644\n",
       "never_thought               1804\n",
       "perhaps                      958\n",
       "Name: CONSIDERING_CHANGE_OF_PLAN, dtype: int64"
      ]
     },
     "execution_count": 10,
     "metadata": {},
     "output_type": "execute_result"
    }
   ],
   "source": [
    "df[feature].value_counts()"
   ]
  },
  {
   "cell_type": "code",
   "execution_count": 11,
   "id": "3913e1b6",
   "metadata": {},
   "outputs": [
    {
     "data": {
      "text/plain": [
       "18000"
      ]
     },
     "execution_count": 11,
     "metadata": {},
     "output_type": "execute_result"
    }
   ],
   "source": [
    "all=df[feature].count()\n",
    "all"
   ]
  },
  {
   "cell_type": "code",
   "execution_count": 12,
   "id": "accc404d",
   "metadata": {},
   "outputs": [
    {
     "data": {
      "text/plain": [
       "11594"
      ]
     },
     "execution_count": 12,
     "metadata": {},
     "output_type": "execute_result"
    }
   ],
   "source": [
    "change=df[feature].loc[(df[feature]=='considering') | (df[feature]=='actively_looking_into_it')].count()\n",
    "change"
   ]
  },
  {
   "cell_type": "code",
   "execution_count": 13,
   "id": "7315f306",
   "metadata": {},
   "outputs": [
    {
     "name": "stdout",
     "output_type": "stream",
     "text": [
      "0.64\n"
     ]
    }
   ],
   "source": [
    "print(round(change/all,2))"
   ]
  },
  {
   "cell_type": "markdown",
   "id": "44b386c9",
   "metadata": {},
   "source": [
    "변경계획설문에서 긍정적으로 변경한다는 비율은 64%로 절반 이상의 고객이 변경을 염두해둠"
   ]
  },
  {
   "cell_type": "markdown",
   "id": "9e8c9f10",
   "metadata": {},
   "source": [
    "### real집단 = 변경의사가 있고 실제 변경한 사람들\n",
    "### fake집단 = 변경의사는 있지만 변경하지 않은 사람들"
   ]
  },
  {
   "cell_type": "code",
   "execution_count": 14,
   "id": "ad4e6d83",
   "metadata": {},
   "outputs": [
    {
     "data": {
      "text/html": [
       "<div>\n",
       "<style scoped>\n",
       "    .dataframe tbody tr th:only-of-type {\n",
       "        vertical-align: middle;\n",
       "    }\n",
       "\n",
       "    .dataframe tbody tr th {\n",
       "        vertical-align: top;\n",
       "    }\n",
       "\n",
       "    .dataframe thead th {\n",
       "        text-align: right;\n",
       "    }\n",
       "</style>\n",
       "<table border=\"1\" class=\"dataframe\">\n",
       "  <thead>\n",
       "    <tr style=\"text-align: right;\">\n",
       "      <th></th>\n",
       "      <th>id</th>\n",
       "      <th>COLLEGE</th>\n",
       "      <th>INCOME</th>\n",
       "      <th>OVERAGE</th>\n",
       "      <th>LEFTOVER</th>\n",
       "      <th>HOUSE</th>\n",
       "      <th>HANDSET_PRICE</th>\n",
       "      <th>OVER_15MINS_CALLS_PER_MONTH</th>\n",
       "      <th>AVERAGE_CALL_DURATION</th>\n",
       "      <th>REPORTED_SATISFACTION</th>\n",
       "      <th>REPORTED_USAGE_LEVEL</th>\n",
       "      <th>CONSIDERING_CHANGE_OF_PLAN</th>\n",
       "      <th>CHURN</th>\n",
       "    </tr>\n",
       "  </thead>\n",
       "  <tbody>\n",
       "    <tr>\n",
       "      <th>6</th>\n",
       "      <td>6337</td>\n",
       "      <td>1</td>\n",
       "      <td>99548</td>\n",
       "      <td>235</td>\n",
       "      <td>0</td>\n",
       "      <td>238561.000000</td>\n",
       "      <td>294</td>\n",
       "      <td>15</td>\n",
       "      <td>6</td>\n",
       "      <td>very_unsat</td>\n",
       "      <td>little</td>\n",
       "      <td>actively_looking_into_it</td>\n",
       "      <td>1</td>\n",
       "    </tr>\n",
       "    <tr>\n",
       "      <th>8</th>\n",
       "      <td>11134</td>\n",
       "      <td>1</td>\n",
       "      <td>133496</td>\n",
       "      <td>163</td>\n",
       "      <td>11</td>\n",
       "      <td>166179.000000</td>\n",
       "      <td>864</td>\n",
       "      <td>10</td>\n",
       "      <td>5</td>\n",
       "      <td>very_unsat</td>\n",
       "      <td>little</td>\n",
       "      <td>actively_looking_into_it</td>\n",
       "      <td>1</td>\n",
       "    </tr>\n",
       "    <tr>\n",
       "      <th>13</th>\n",
       "      <td>14755</td>\n",
       "      <td>0</td>\n",
       "      <td>125511</td>\n",
       "      <td>0</td>\n",
       "      <td>0</td>\n",
       "      <td>162564.000000</td>\n",
       "      <td>619</td>\n",
       "      <td>0</td>\n",
       "      <td>1</td>\n",
       "      <td>very_sat</td>\n",
       "      <td>high</td>\n",
       "      <td>considering</td>\n",
       "      <td>1</td>\n",
       "    </tr>\n",
       "    <tr>\n",
       "      <th>16</th>\n",
       "      <td>5294</td>\n",
       "      <td>0</td>\n",
       "      <td>116680</td>\n",
       "      <td>189</td>\n",
       "      <td>0</td>\n",
       "      <td>212073.000000</td>\n",
       "      <td>611</td>\n",
       "      <td>28</td>\n",
       "      <td>10</td>\n",
       "      <td>very_unsat</td>\n",
       "      <td>very_high</td>\n",
       "      <td>considering</td>\n",
       "      <td>1</td>\n",
       "    </tr>\n",
       "    <tr>\n",
       "      <th>23</th>\n",
       "      <td>555</td>\n",
       "      <td>0</td>\n",
       "      <td>42564</td>\n",
       "      <td>174</td>\n",
       "      <td>0</td>\n",
       "      <td>270823.000000</td>\n",
       "      <td>209</td>\n",
       "      <td>25</td>\n",
       "      <td>13</td>\n",
       "      <td>unsat</td>\n",
       "      <td>very_little</td>\n",
       "      <td>considering</td>\n",
       "      <td>1</td>\n",
       "    </tr>\n",
       "    <tr>\n",
       "      <th>...</th>\n",
       "      <td>...</td>\n",
       "      <td>...</td>\n",
       "      <td>...</td>\n",
       "      <td>...</td>\n",
       "      <td>...</td>\n",
       "      <td>...</td>\n",
       "      <td>...</td>\n",
       "      <td>...</td>\n",
       "      <td>...</td>\n",
       "      <td>...</td>\n",
       "      <td>...</td>\n",
       "      <td>...</td>\n",
       "      <td>...</td>\n",
       "    </tr>\n",
       "    <tr>\n",
       "      <th>17981</th>\n",
       "      <td>19860</td>\n",
       "      <td>0</td>\n",
       "      <td>42235</td>\n",
       "      <td>260</td>\n",
       "      <td>19</td>\n",
       "      <td>492950.532696</td>\n",
       "      <td>146</td>\n",
       "      <td>12</td>\n",
       "      <td>6</td>\n",
       "      <td>avg</td>\n",
       "      <td>very_little</td>\n",
       "      <td>considering</td>\n",
       "      <td>1</td>\n",
       "    </tr>\n",
       "    <tr>\n",
       "      <th>17984</th>\n",
       "      <td>11568</td>\n",
       "      <td>0</td>\n",
       "      <td>103469</td>\n",
       "      <td>230</td>\n",
       "      <td>0</td>\n",
       "      <td>492950.532696</td>\n",
       "      <td>565</td>\n",
       "      <td>22</td>\n",
       "      <td>13</td>\n",
       "      <td>avg</td>\n",
       "      <td>little</td>\n",
       "      <td>actively_looking_into_it</td>\n",
       "      <td>1</td>\n",
       "    </tr>\n",
       "    <tr>\n",
       "      <th>17987</th>\n",
       "      <td>17077</td>\n",
       "      <td>1</td>\n",
       "      <td>44611</td>\n",
       "      <td>56</td>\n",
       "      <td>13</td>\n",
       "      <td>492950.532696</td>\n",
       "      <td>202</td>\n",
       "      <td>3</td>\n",
       "      <td>5</td>\n",
       "      <td>sat</td>\n",
       "      <td>little</td>\n",
       "      <td>actively_looking_into_it</td>\n",
       "      <td>1</td>\n",
       "    </tr>\n",
       "    <tr>\n",
       "      <th>17993</th>\n",
       "      <td>17217</td>\n",
       "      <td>1</td>\n",
       "      <td>72824</td>\n",
       "      <td>53</td>\n",
       "      <td>42</td>\n",
       "      <td>492950.532696</td>\n",
       "      <td>370</td>\n",
       "      <td>4</td>\n",
       "      <td>1</td>\n",
       "      <td>very_unsat</td>\n",
       "      <td>very_little</td>\n",
       "      <td>considering</td>\n",
       "      <td>1</td>\n",
       "    </tr>\n",
       "    <tr>\n",
       "      <th>17999</th>\n",
       "      <td>2553</td>\n",
       "      <td>0</td>\n",
       "      <td>104849</td>\n",
       "      <td>223</td>\n",
       "      <td>5</td>\n",
       "      <td>492950.532696</td>\n",
       "      <td>463</td>\n",
       "      <td>21</td>\n",
       "      <td>5</td>\n",
       "      <td>very_unsat</td>\n",
       "      <td>little</td>\n",
       "      <td>considering</td>\n",
       "      <td>1</td>\n",
       "    </tr>\n",
       "  </tbody>\n",
       "</table>\n",
       "<p>5668 rows × 13 columns</p>\n",
       "</div>"
      ],
      "text/plain": [
       "          id  COLLEGE  INCOME  OVERAGE  LEFTOVER          HOUSE  \\\n",
       "6       6337        1   99548      235         0  238561.000000   \n",
       "8      11134        1  133496      163        11  166179.000000   \n",
       "13     14755        0  125511        0         0  162564.000000   \n",
       "16      5294        0  116680      189         0  212073.000000   \n",
       "23       555        0   42564      174         0  270823.000000   \n",
       "...      ...      ...     ...      ...       ...            ...   \n",
       "17981  19860        0   42235      260        19  492950.532696   \n",
       "17984  11568        0  103469      230         0  492950.532696   \n",
       "17987  17077        1   44611       56        13  492950.532696   \n",
       "17993  17217        1   72824       53        42  492950.532696   \n",
       "17999   2553        0  104849      223         5  492950.532696   \n",
       "\n",
       "       HANDSET_PRICE  OVER_15MINS_CALLS_PER_MONTH  AVERAGE_CALL_DURATION  \\\n",
       "6                294                           15                      6   \n",
       "8                864                           10                      5   \n",
       "13               619                            0                      1   \n",
       "16               611                           28                     10   \n",
       "23               209                           25                     13   \n",
       "...              ...                          ...                    ...   \n",
       "17981            146                           12                      6   \n",
       "17984            565                           22                     13   \n",
       "17987            202                            3                      5   \n",
       "17993            370                            4                      1   \n",
       "17999            463                           21                      5   \n",
       "\n",
       "      REPORTED_SATISFACTION REPORTED_USAGE_LEVEL CONSIDERING_CHANGE_OF_PLAN  \\\n",
       "6                very_unsat               little   actively_looking_into_it   \n",
       "8                very_unsat               little   actively_looking_into_it   \n",
       "13                 very_sat                 high                considering   \n",
       "16               very_unsat            very_high                considering   \n",
       "23                    unsat          very_little                considering   \n",
       "...                     ...                  ...                        ...   \n",
       "17981                   avg          very_little                considering   \n",
       "17984                   avg               little   actively_looking_into_it   \n",
       "17987                   sat               little   actively_looking_into_it   \n",
       "17993            very_unsat          very_little                considering   \n",
       "17999            very_unsat               little                considering   \n",
       "\n",
       "       CHURN  \n",
       "6          1  \n",
       "8          1  \n",
       "13         1  \n",
       "16         1  \n",
       "23         1  \n",
       "...      ...  \n",
       "17981      1  \n",
       "17984      1  \n",
       "17987      1  \n",
       "17993      1  \n",
       "17999      1  \n",
       "\n",
       "[5668 rows x 13 columns]"
      ]
     },
     "execution_count": 14,
     "metadata": {},
     "output_type": "execute_result"
    }
   ],
   "source": [
    "# 변경 의사가 있고 실제로 변경한 사람들 = real\n",
    "real=df.loc[((df[feature]=='considering') | (df[feature]=='actively_looking_into_it'))&df[target]==1]\n",
    "real"
   ]
  },
  {
   "cell_type": "code",
   "execution_count": 15,
   "id": "444fd925",
   "metadata": {},
   "outputs": [
    {
     "name": "stdout",
     "output_type": "stream",
     "text": [
      "49.0\n"
     ]
    }
   ],
   "source": [
    "print(round(5668/11594,2)*100)"
   ]
  },
  {
   "cell_type": "markdown",
   "id": "38485e96",
   "metadata": {},
   "source": [
    "변경을 염두하던 11594명 중 실제로 변경한 사람은 5668명\n",
    "> 49%로 반도 안되는 인원이 변경하지 않음"
   ]
  },
  {
   "cell_type": "markdown",
   "id": "438d5530",
   "metadata": {},
   "source": [
    "그럼 변경을 생각했지만 변경하지 않은 사람(fake)들을 더 세밀분석해보자"
   ]
  },
  {
   "cell_type": "markdown",
   "id": "85d75c43",
   "metadata": {},
   "source": [
    "만족도 설문 ('REPORTED_SATISFACTION')"
   ]
  },
  {
   "cell_type": "code",
   "execution_count": 16,
   "id": "36a3d964",
   "metadata": {},
   "outputs": [
    {
     "data": {
      "text/html": [
       "<div>\n",
       "<style scoped>\n",
       "    .dataframe tbody tr th:only-of-type {\n",
       "        vertical-align: middle;\n",
       "    }\n",
       "\n",
       "    .dataframe tbody tr th {\n",
       "        vertical-align: top;\n",
       "    }\n",
       "\n",
       "    .dataframe thead th {\n",
       "        text-align: right;\n",
       "    }\n",
       "</style>\n",
       "<table border=\"1\" class=\"dataframe\">\n",
       "  <thead>\n",
       "    <tr style=\"text-align: right;\">\n",
       "      <th></th>\n",
       "      <th>id</th>\n",
       "      <th>COLLEGE</th>\n",
       "      <th>INCOME</th>\n",
       "      <th>OVERAGE</th>\n",
       "      <th>LEFTOVER</th>\n",
       "      <th>HOUSE</th>\n",
       "      <th>HANDSET_PRICE</th>\n",
       "      <th>OVER_15MINS_CALLS_PER_MONTH</th>\n",
       "      <th>AVERAGE_CALL_DURATION</th>\n",
       "      <th>REPORTED_SATISFACTION</th>\n",
       "      <th>REPORTED_USAGE_LEVEL</th>\n",
       "      <th>CONSIDERING_CHANGE_OF_PLAN</th>\n",
       "      <th>CHURN</th>\n",
       "    </tr>\n",
       "  </thead>\n",
       "  <tbody>\n",
       "    <tr>\n",
       "      <th>0</th>\n",
       "      <td>544</td>\n",
       "      <td>1</td>\n",
       "      <td>47711</td>\n",
       "      <td>183</td>\n",
       "      <td>17</td>\n",
       "      <td>730589.000000</td>\n",
       "      <td>192</td>\n",
       "      <td>19</td>\n",
       "      <td>5</td>\n",
       "      <td>unsat</td>\n",
       "      <td>little</td>\n",
       "      <td>considering</td>\n",
       "      <td>0</td>\n",
       "    </tr>\n",
       "    <tr>\n",
       "      <th>2</th>\n",
       "      <td>3134</td>\n",
       "      <td>1</td>\n",
       "      <td>150419</td>\n",
       "      <td>0</td>\n",
       "      <td>14</td>\n",
       "      <td>204004.000000</td>\n",
       "      <td>682</td>\n",
       "      <td>0</td>\n",
       "      <td>6</td>\n",
       "      <td>unsat</td>\n",
       "      <td>very_high</td>\n",
       "      <td>considering</td>\n",
       "      <td>0</td>\n",
       "    </tr>\n",
       "    <tr>\n",
       "      <th>5</th>\n",
       "      <td>17708</td>\n",
       "      <td>1</td>\n",
       "      <td>119591</td>\n",
       "      <td>0</td>\n",
       "      <td>43</td>\n",
       "      <td>231309.000000</td>\n",
       "      <td>714</td>\n",
       "      <td>1</td>\n",
       "      <td>1</td>\n",
       "      <td>very_sat</td>\n",
       "      <td>little</td>\n",
       "      <td>considering</td>\n",
       "      <td>0</td>\n",
       "    </tr>\n",
       "    <tr>\n",
       "      <th>9</th>\n",
       "      <td>11959</td>\n",
       "      <td>1</td>\n",
       "      <td>155145</td>\n",
       "      <td>29</td>\n",
       "      <td>18</td>\n",
       "      <td>717451.000000</td>\n",
       "      <td>671</td>\n",
       "      <td>4</td>\n",
       "      <td>4</td>\n",
       "      <td>unsat</td>\n",
       "      <td>high</td>\n",
       "      <td>considering</td>\n",
       "      <td>0</td>\n",
       "    </tr>\n",
       "    <tr>\n",
       "      <th>10</th>\n",
       "      <td>465</td>\n",
       "      <td>0</td>\n",
       "      <td>117558</td>\n",
       "      <td>40</td>\n",
       "      <td>6</td>\n",
       "      <td>403254.000000</td>\n",
       "      <td>263</td>\n",
       "      <td>3</td>\n",
       "      <td>6</td>\n",
       "      <td>very_unsat</td>\n",
       "      <td>very_high</td>\n",
       "      <td>considering</td>\n",
       "      <td>0</td>\n",
       "    </tr>\n",
       "    <tr>\n",
       "      <th>...</th>\n",
       "      <td>...</td>\n",
       "      <td>...</td>\n",
       "      <td>...</td>\n",
       "      <td>...</td>\n",
       "      <td>...</td>\n",
       "      <td>...</td>\n",
       "      <td>...</td>\n",
       "      <td>...</td>\n",
       "      <td>...</td>\n",
       "      <td>...</td>\n",
       "      <td>...</td>\n",
       "      <td>...</td>\n",
       "      <td>...</td>\n",
       "    </tr>\n",
       "    <tr>\n",
       "      <th>17985</th>\n",
       "      <td>170</td>\n",
       "      <td>0</td>\n",
       "      <td>95617</td>\n",
       "      <td>197</td>\n",
       "      <td>32</td>\n",
       "      <td>492950.532696</td>\n",
       "      <td>315</td>\n",
       "      <td>19</td>\n",
       "      <td>2</td>\n",
       "      <td>avg</td>\n",
       "      <td>avg</td>\n",
       "      <td>considering</td>\n",
       "      <td>0</td>\n",
       "    </tr>\n",
       "    <tr>\n",
       "      <th>17986</th>\n",
       "      <td>19429</td>\n",
       "      <td>1</td>\n",
       "      <td>124818</td>\n",
       "      <td>62</td>\n",
       "      <td>0</td>\n",
       "      <td>492950.532696</td>\n",
       "      <td>662</td>\n",
       "      <td>4</td>\n",
       "      <td>14</td>\n",
       "      <td>sat</td>\n",
       "      <td>very_high</td>\n",
       "      <td>considering</td>\n",
       "      <td>0</td>\n",
       "    </tr>\n",
       "    <tr>\n",
       "      <th>17990</th>\n",
       "      <td>11557</td>\n",
       "      <td>0</td>\n",
       "      <td>83753</td>\n",
       "      <td>0</td>\n",
       "      <td>0</td>\n",
       "      <td>492950.532696</td>\n",
       "      <td>252</td>\n",
       "      <td>1</td>\n",
       "      <td>8</td>\n",
       "      <td>very_sat</td>\n",
       "      <td>very_high</td>\n",
       "      <td>considering</td>\n",
       "      <td>0</td>\n",
       "    </tr>\n",
       "    <tr>\n",
       "      <th>17994</th>\n",
       "      <td>18334</td>\n",
       "      <td>0</td>\n",
       "      <td>48773</td>\n",
       "      <td>0</td>\n",
       "      <td>0</td>\n",
       "      <td>492950.532696</td>\n",
       "      <td>231</td>\n",
       "      <td>0</td>\n",
       "      <td>10</td>\n",
       "      <td>avg</td>\n",
       "      <td>little</td>\n",
       "      <td>actively_looking_into_it</td>\n",
       "      <td>0</td>\n",
       "    </tr>\n",
       "    <tr>\n",
       "      <th>17995</th>\n",
       "      <td>18614</td>\n",
       "      <td>0</td>\n",
       "      <td>31079</td>\n",
       "      <td>200</td>\n",
       "      <td>40</td>\n",
       "      <td>492950.532696</td>\n",
       "      <td>181</td>\n",
       "      <td>20</td>\n",
       "      <td>11</td>\n",
       "      <td>unsat</td>\n",
       "      <td>little</td>\n",
       "      <td>actively_looking_into_it</td>\n",
       "      <td>0</td>\n",
       "    </tr>\n",
       "  </tbody>\n",
       "</table>\n",
       "<p>5926 rows × 13 columns</p>\n",
       "</div>"
      ],
      "text/plain": [
       "          id  COLLEGE  INCOME  OVERAGE  LEFTOVER          HOUSE  \\\n",
       "0        544        1   47711      183        17  730589.000000   \n",
       "2       3134        1  150419        0        14  204004.000000   \n",
       "5      17708        1  119591        0        43  231309.000000   \n",
       "9      11959        1  155145       29        18  717451.000000   \n",
       "10       465        0  117558       40         6  403254.000000   \n",
       "...      ...      ...     ...      ...       ...            ...   \n",
       "17985    170        0   95617      197        32  492950.532696   \n",
       "17986  19429        1  124818       62         0  492950.532696   \n",
       "17990  11557        0   83753        0         0  492950.532696   \n",
       "17994  18334        0   48773        0         0  492950.532696   \n",
       "17995  18614        0   31079      200        40  492950.532696   \n",
       "\n",
       "       HANDSET_PRICE  OVER_15MINS_CALLS_PER_MONTH  AVERAGE_CALL_DURATION  \\\n",
       "0                192                           19                      5   \n",
       "2                682                            0                      6   \n",
       "5                714                            1                      1   \n",
       "9                671                            4                      4   \n",
       "10               263                            3                      6   \n",
       "...              ...                          ...                    ...   \n",
       "17985            315                           19                      2   \n",
       "17986            662                            4                     14   \n",
       "17990            252                            1                      8   \n",
       "17994            231                            0                     10   \n",
       "17995            181                           20                     11   \n",
       "\n",
       "      REPORTED_SATISFACTION REPORTED_USAGE_LEVEL CONSIDERING_CHANGE_OF_PLAN  \\\n",
       "0                     unsat               little                considering   \n",
       "2                     unsat            very_high                considering   \n",
       "5                  very_sat               little                considering   \n",
       "9                     unsat                 high                considering   \n",
       "10               very_unsat            very_high                considering   \n",
       "...                     ...                  ...                        ...   \n",
       "17985                   avg                  avg                considering   \n",
       "17986                   sat            very_high                considering   \n",
       "17990              very_sat            very_high                considering   \n",
       "17994                   avg               little   actively_looking_into_it   \n",
       "17995                 unsat               little   actively_looking_into_it   \n",
       "\n",
       "       CHURN  \n",
       "0          0  \n",
       "2          0  \n",
       "5          0  \n",
       "9          0  \n",
       "10         0  \n",
       "...      ...  \n",
       "17985      0  \n",
       "17986      0  \n",
       "17990      0  \n",
       "17994      0  \n",
       "17995      0  \n",
       "\n",
       "[5926 rows x 13 columns]"
      ]
     },
     "execution_count": 16,
     "metadata": {},
     "output_type": "execute_result"
    }
   ],
   "source": [
    "# 변경 의사가 있지만 실제로 변경하지 않은 사람들 = fake\n",
    "fake=df.loc[((df[feature]=='considering') | (df[feature]=='actively_looking_into_it'))&~(df[target]==1)]\n",
    "fake"
   ]
  },
  {
   "cell_type": "markdown",
   "id": "9c0dad56",
   "metadata": {},
   "source": [
    "왜 변경하지 않았는지에 대해 조사해본다\n",
    "#### 만족도 조사"
   ]
  },
  {
   "cell_type": "code",
   "execution_count": 17,
   "id": "8457496c",
   "metadata": {
    "scrolled": true
   },
   "outputs": [
    {
     "data": {
      "text/plain": [
       "very_unsat    2307\n",
       "very_sat      1489\n",
       "unsat         1181\n",
       "avg            626\n",
       "sat            323\n",
       "Name: REPORTED_SATISFACTION, dtype: int64"
      ]
     },
     "execution_count": 17,
     "metadata": {},
     "output_type": "execute_result"
    }
   ],
   "source": [
    "fake_rating=fake['REPORTED_SATISFACTION'].value_counts()\n",
    "fake_rating"
   ]
  },
  {
   "cell_type": "code",
   "execution_count": 18,
   "id": "002d25f1",
   "metadata": {},
   "outputs": [
    {
     "data": {
      "image/png": "[encoded data removed]",
      "text/plain": [
       "<Figure size 432x288 with 1 Axes>"
      ]
     },
     "metadata": {},
     "output_type": "display_data"
    }
   ],
   "source": [
    "plt.title(\"satisfaction\", fontsize=15)\n",
    "plt.pie(fake_rating.values, labels = fake_rating.index, \n",
    "        autopct = '%.2f%%',\n",
    "        shadow=True, # 그림자 표시 여부\n",
    "        colors = ['#ff9999', '#ffc000', '#8fd9b6', '#aee4ff','#d395d0'],\n",
    "        wedgeprops = {'width':0.7,'edgecolor':'w','linewidth':3}\n",
    "        #width: 부채꼴 영역 너비,edgecolor: 테두리 색 , linewidth : 라인 두께\n",
    "       )\n",
    "plt.show()"
   ]
  },
  {
   "cell_type": "markdown",
   "id": "11cfcd4c",
   "metadata": {},
   "source": [
    "매우 불만족, 불만족인 사람은 5926명 중 3488로 반이 넘는다.\n",
    "하지만 매우 만족인 사람의 수도 적진 않다.(특정)"
   ]
  },
  {
   "cell_type": "markdown",
   "id": "6f7c9b7f",
   "metadata": {},
   "source": [
    "불만족인 사람이 많지만 굳이 변경하지 않았다 어떤이유일까"
   ]
  },
  {
   "cell_type": "markdown",
   "id": "86c86e15",
   "metadata": {},
   "source": [
    "#### 1. 연수입"
   ]
  },
  {
   "cell_type": "code",
   "execution_count": 19,
   "id": "23c18d9b",
   "metadata": {},
   "outputs": [],
   "source": [
    "feature='INCOME'"
   ]
  },
  {
   "cell_type": "code",
   "execution_count": 20,
   "id": "16b4d9e1",
   "metadata": {
    "scrolled": true
   },
   "outputs": [
    {
     "name": "stdout",
     "output_type": "stream",
     "text": [
      "76572.106479919\n",
      "83886.85903316867\n"
     ]
    }
   ],
   "source": [
    "print(fake[feature].mean())\n",
    "print(real[feature].mean())"
   ]
  },
  {
   "cell_type": "markdown",
   "id": "535dc1de",
   "metadata": {},
   "source": [
    "- 두 집단의 연수입 평균 차는 약 7300달러 차이, 한화로는 950만원 정도 차이가 난다\n",
    "- fake집단의 연봉이 상대적으로 적은 편이다\n",
    "- 경제적으로 여유가 있지 않은 사람들의 경우 변경의사가 있다해도 현실적인 상황을 따져봤을 때 쉽게 바꾸지 못했을 것 같다. 금전적인 부담으로 바꾸지 못할 확률이 있음"
   ]
  },
  {
   "cell_type": "markdown",
   "id": "8f5db9d9",
   "metadata": {},
   "source": [
    "#### 2. 대학 졸업 여부"
   ]
  },
  {
   "cell_type": "code",
   "execution_count": 21,
   "id": "3ad46161",
   "metadata": {},
   "outputs": [
    {
     "name": "stdout",
     "output_type": "stream",
     "text": [
      "0    0.50945\n",
      "1    0.49055\n",
      "Name: COLLEGE, dtype: float64\n"
     ]
    }
   ],
   "source": [
    "feature='COLLEGE'\n",
    "tmp=fake[feature].value_counts()/len(fake[feature])\n",
    "tmp1=fake[feature].value_counts()\n",
    "print(tmp)"
   ]
  },
  {
   "cell_type": "markdown",
   "id": "a094644a",
   "metadata": {},
   "source": [
    "미졸업자가 50.9%로 졸업하지 않은 학생신분이다. 부모님께서 통신비를 지원해주셔서 통신사에는 불만족스럽지만 쉽사리 바꾸지 못한 상황들이 존재할 것으로 예상한다"
   ]
  },
  {
   "cell_type": "markdown",
   "id": "9d87cf43",
   "metadata": {},
   "source": [
    "#### 3. 월 초과사용 시간"
   ]
  },
  {
   "cell_type": "code",
   "execution_count": 22,
   "id": "f3711340",
   "metadata": {},
   "outputs": [],
   "source": [
    "feature='OVERAGE'"
   ]
  },
  {
   "cell_type": "code",
   "execution_count": 23,
   "id": "58cbace0",
   "metadata": {},
   "outputs": [
    {
     "data": {
      "text/plain": [
       "count    5926.000000\n",
       "mean       66.569524\n",
       "std        79.563984\n",
       "min        -2.000000\n",
       "25%         0.000000\n",
       "50%        47.000000\n",
       "75%        82.000000\n",
       "max       301.000000\n",
       "Name: OVERAGE, dtype: float64"
      ]
     },
     "execution_count": 23,
     "metadata": {},
     "output_type": "execute_result"
    }
   ],
   "source": [
    "fake[feature].describe()"
   ]
  },
  {
   "cell_type": "code",
   "execution_count": 24,
   "id": "25438a98",
   "metadata": {},
   "outputs": [
    {
     "data": {
      "text/plain": [
       "count    5668.000000\n",
       "mean      107.133204\n",
       "std        88.021538\n",
       "min         0.000000\n",
       "25%        18.750000\n",
       "50%        74.000000\n",
       "75%       194.000000\n",
       "max       296.000000\n",
       "Name: OVERAGE, dtype: float64"
      ]
     },
     "execution_count": 24,
     "metadata": {},
     "output_type": "execute_result"
    }
   ],
   "source": [
    "real[feature].describe()"
   ]
  },
  {
   "cell_type": "code",
   "execution_count": 25,
   "id": "4666166f",
   "metadata": {},
   "outputs": [
    {
     "data": {
      "image/png": "[encoded data removed]",
      "text/plain": [
       "<Figure size 936x936 with 4 Axes>"
      ]
     },
     "metadata": {
      "needs_background": "light"
     },
     "output_type": "display_data"
    }
   ],
   "source": [
    "plt.figure(figsize=(13,13))\n",
    "plt.subplot(4,2,1)\n",
    "sns.histplot(fake[feature], bins=50)\n",
    "plt.title(\"< OVERAGE >\", fontsize=20)\n",
    "\n",
    "plt.subplot(4,2,2)\n",
    "sns.boxplot(fake[feature])\n",
    "plt.title(\"fake\", fontsize=20)\n",
    "\n",
    "plt.subplot(4,2,3)\n",
    "sns.histplot(real[feature], bins=50)\n",
    "\n",
    "plt.subplot(4,2,4)\n",
    "sns.boxplot(real[feature])\n",
    "plt.title(\"real\", fontsize=20)\n",
    "\n",
    "plt.tight_layout()\n",
    "plt.show()"
   ]
  },
  {
   "cell_type": "markdown",
   "id": "c3f364b5",
   "metadata": {},
   "source": [
    "fake vs real\n",
    "\n",
    "1. real집단보다 fake집단의 통화 초과량이 전체적으로 더 낮음\n",
    "+ IQR 범위(25% ~ 75% 구간)가 차이가 많이남\n",
    "> real집단은 통화 초과량과 추가 요금이 비례해 더 이탈 할 이유가 크다\n",
    "\n",
    "2. fake 집단의 0 구간인 사람이 **두배**로 더 많은걸 알 수 있다 -> 자신의 요금제 안에서 사용하는 비율이 크다는 뜻이다.\n",
    "> 자신의 요금제를 잘 사용하기 때문에 실제로 이탈하지 않을 가능성이 커보임\n",
    "\n",
    "3. 유독 40 ~ 80구간과 150 ~ 240 구간에 초과량이 큰 지  분석해봐야 할 필요가 있다\n",
    "> 이벤트나 프로모션의 영향을 받아 저런 형상의 그래프가 형성 됬을 것 같다"
   ]
  },
  {
   "cell_type": "markdown",
   "id": "65ee8f3d",
   "metadata": {},
   "source": [
    "#### 4. 월 사용 잔여시간(%)"
   ]
  },
  {
   "cell_type": "code",
   "execution_count": 26,
   "id": "5c3b7e57",
   "metadata": {},
   "outputs": [],
   "source": [
    "feature = 'LEFTOVER'"
   ]
  },
  {
   "cell_type": "code",
   "execution_count": 27,
   "id": "6b6db3f1",
   "metadata": {},
   "outputs": [
    {
     "data": {
      "image/png": "[encoded data removed]",
      "text/plain": [
       "<Figure size 936x936 with 4 Axes>"
      ]
     },
     "metadata": {
      "needs_background": "light"
     },
     "output_type": "display_data"
    }
   ],
   "source": [
    "plt.figure(figsize=(13,13))\n",
    "plt.subplot(4,2,1)\n",
    "sns.histplot(fake[feature], bins=50)\n",
    "plt.title(\"< LEFTOVER >\", fontsize=20)\n",
    "\n",
    "plt.subplot(4,2,2)\n",
    "sns.boxplot(fake[feature])\n",
    "plt.title(\"fake\", fontsize=20)\n",
    "\n",
    "plt.subplot(4,2,3)\n",
    "sns.histplot(real[feature], bins=50)\n",
    "\n",
    "plt.subplot(4,2,4)\n",
    "sns.boxplot(real[feature])\n",
    "plt.title(\"real\", fontsize=20)\n",
    "\n",
    "plt.tight_layout()\n",
    "plt.show()"
   ]
  },
  {
   "cell_type": "markdown",
   "id": "17d08fea",
   "metadata": {},
   "source": [
    "#### 5. 평균 통화 시간(분)"
   ]
  },
  {
   "cell_type": "markdown",
   "id": "09f26c8e",
   "metadata": {},
   "source": [
    "fake집단의 잔여 시간이 5~25%정도로 밀집하게 모여있음"
   ]
  },
  {
   "cell_type": "code",
   "execution_count": 28,
   "id": "eec1f40a",
   "metadata": {},
   "outputs": [],
   "source": [
    "feature='AVERAGE_CALL_DURATION'"
   ]
  },
  {
   "cell_type": "code",
   "execution_count": 29,
   "id": "740b69a9",
   "metadata": {},
   "outputs": [
    {
     "data": {
      "image/png": "[encoded data removed]",
      "text/plain": [
       "<Figure size 936x936 with 4 Axes>"
      ]
     },
     "metadata": {
      "needs_background": "light"
     },
     "output_type": "display_data"
    }
   ],
   "source": [
    "plt.figure(figsize=(13,13))\n",
    "plt.subplot(4,2,1)\n",
    "sns.histplot(fake[feature], bins=50)\n",
    "plt.title(\"< AVERAGE_CALL_DURATION >\", fontsize=20)\n",
    "\n",
    "plt.subplot(4,2,2)\n",
    "sns.boxplot(fake[feature])\n",
    "plt.title(\"fake\", fontsize=20)\n",
    "\n",
    "plt.subplot(4,2,3)\n",
    "sns.histplot(real[feature], bins=50)\n",
    "\n",
    "plt.subplot(4,2,4)\n",
    "sns.boxplot(real[feature])\n",
    "plt.title(\"real\", fontsize=20)\n",
    "\n",
    "\n",
    "plt.tight_layout()\n",
    "plt.show()"
   ]
  },
  {
   "cell_type": "markdown",
   "id": "97ec41a4",
   "metadata": {},
   "source": [
    "#### 6. 핸드폰 가격(달러)"
   ]
  },
  {
   "cell_type": "code",
   "execution_count": 30,
   "id": "a287cef9",
   "metadata": {},
   "outputs": [],
   "source": [
    "feature='HANDSET_PRICE'"
   ]
  },
  {
   "cell_type": "code",
   "execution_count": 31,
   "id": "4483fe32",
   "metadata": {},
   "outputs": [
    {
     "data": {
      "image/png": "[encoded data removed]",
      "text/plain": [
       "<Figure size 936x936 with 4 Axes>"
      ]
     },
     "metadata": {
      "needs_background": "light"
     },
     "output_type": "display_data"
    }
   ],
   "source": [
    "plt.figure(figsize=(13,13))\n",
    "plt.subplot(4,2,1)\n",
    "sns.histplot(fake[feature], bins=50)\n",
    "plt.title(\"< HANDSET_PRICE >\", fontsize=20)\n",
    "\n",
    "plt.subplot(4,2,2)\n",
    "sns.boxplot(fake[feature])\n",
    "plt.title(\"fake\", fontsize=20)\n",
    "\n",
    "plt.subplot(4,2,3)\n",
    "sns.histplot(real[feature], bins=50)\n",
    "\n",
    "plt.subplot(4,2,4)\n",
    "sns.boxplot(real[feature])\n",
    "plt.title(\"real\", fontsize=20)\n",
    "\n",
    "plt.tight_layout()\n",
    "plt.show()"
   ]
  },
  {
   "cell_type": "markdown",
   "id": "8fe0544e",
   "metadata": {},
   "source": [
    "#### 7. 평균 장기통화(15분 이상) 횟수"
   ]
  },
  {
   "cell_type": "code",
   "execution_count": 32,
   "id": "d10aa36c",
   "metadata": {},
   "outputs": [],
   "source": [
    "feature='OVER_15MINS_CALLS_PER_MONTH'"
   ]
  },
  {
   "cell_type": "code",
   "execution_count": 33,
   "id": "5ae2cf84",
   "metadata": {},
   "outputs": [
    {
     "data": {
      "image/png": "[encoded data removed]",
      "text/plain": [
       "<Figure size 936x936 with 4 Axes>"
      ]
     },
     "metadata": {
      "needs_background": "light"
     },
     "output_type": "display_data"
    }
   ],
   "source": [
    "plt.figure(figsize=(13,13))\n",
    "plt.subplot(4,2,1)\n",
    "sns.histplot(fake[feature], bins=50)\n",
    "plt.title(\"< OVER_15MINS_CALLS_PER_MONTH >\", fontsize=20)\n",
    "\n",
    "plt.subplot(4,2,2)\n",
    "sns.boxplot(fake[feature])\n",
    "plt.title(\"fake\", fontsize=20)\n",
    "\n",
    "plt.subplot(4,2,3)\n",
    "sns.histplot(real[feature], bins=50)\n",
    "\n",
    "plt.subplot(4,2,4)\n",
    "sns.boxplot(real[feature])\n",
    "plt.title(\"real\", fontsize=20)\n",
    "\n",
    "plt.tight_layout()\n",
    "plt.show()"
   ]
  },
  {
   "cell_type": "markdown",
   "id": "c71b7d91",
   "metadata": {},
   "source": [
    "유독 다른 변수보다 fake와 real 집단의 차이가 심하다\n",
    "- 실제 이탈한 집단(real)에서는 장기 통화 횟수가 상당히 많은 편이다"
   ]
  },
  {
   "cell_type": "markdown",
   "id": "d968be3e",
   "metadata": {},
   "source": [
    "#### 8. 사용 수준 설문"
   ]
  },
  {
   "cell_type": "code",
   "execution_count": 34,
   "id": "674a33f8",
   "metadata": {},
   "outputs": [],
   "source": [
    "feature='REPORTED_USAGE_LEVEL'"
   ]
  },
  {
   "cell_type": "code",
   "execution_count": 35,
   "id": "d507ed94",
   "metadata": {},
   "outputs": [
    {
     "data": {
      "text/plain": [
       "little         7076\n",
       "very_high      4636\n",
       "very_little    3594\n",
       "high           1812\n",
       "avg             882\n",
       "Name: REPORTED_USAGE_LEVEL, dtype: int64"
      ]
     },
     "execution_count": 35,
     "metadata": {},
     "output_type": "execute_result"
    }
   ],
   "source": [
    "m_rating=mobile[feature].value_counts()\n",
    "m_rating"
   ]
  },
  {
   "cell_type": "code",
   "execution_count": 36,
   "id": "87a42023",
   "metadata": {},
   "outputs": [
    {
     "data": {
      "image/png": "[encoded data removed]",
      "text/plain": [
       "<Figure size 432x288 with 1 Axes>"
      ]
     },
     "metadata": {},
     "output_type": "display_data"
    }
   ],
   "source": [
    "plt.title(\"REPORTED_USAGE_LEVEL\", fontsize=15)\n",
    "plt.pie(m_rating.values, labels = m_rating.index, \n",
    "        autopct = '%.2f%%',\n",
    "        shadow=True, # 그림자 표시 여부\n",
    "        colors = ['#ff9999', '#ffc000', '#8fd9b6', '#aee4ff','#d395d0'],\n",
    "        wedgeprops = {'width':0.7,'edgecolor':'w','linewidth':3}\n",
    "        #width: 부채꼴 영역 너비,edgecolor: 테두리 색 , linewidth : 라인 두께\n",
    "       )\n",
    "plt.show()"
   ]
  },
  {
   "cell_type": "markdown",
   "id": "a4b7261c",
   "metadata": {},
   "source": [
    "little 관련된 설문이 50%로 핸드폰 사용 수준이 많지 않다\n",
    "\n",
    "그래서 통화/문자/데이터 기본적인 제공에 대해 만족을 하지 않으면 이탈할 가능성이 크다고 본다."
   ]
  },
  {
   "cell_type": "code",
   "execution_count": 37,
   "id": "e05d00a2",
   "metadata": {},
   "outputs": [
    {
     "data": {
      "text/html": [
       "<div>\n",
       "<style scoped>\n",
       "    .dataframe tbody tr th:only-of-type {\n",
       "        vertical-align: middle;\n",
       "    }\n",
       "\n",
       "    .dataframe tbody tr th {\n",
       "        vertical-align: top;\n",
       "    }\n",
       "\n",
       "    .dataframe thead th {\n",
       "        text-align: right;\n",
       "    }\n",
       "</style>\n",
       "<table border=\"1\" class=\"dataframe\">\n",
       "  <thead>\n",
       "    <tr style=\"text-align: right;\">\n",
       "      <th></th>\n",
       "      <th>id</th>\n",
       "      <th>COLLEGE</th>\n",
       "      <th>INCOME</th>\n",
       "      <th>OVERAGE</th>\n",
       "      <th>LEFTOVER</th>\n",
       "      <th>HOUSE</th>\n",
       "      <th>HANDSET_PRICE</th>\n",
       "      <th>OVER_15MINS_CALLS_PER_MONTH</th>\n",
       "      <th>AVERAGE_CALL_DURATION</th>\n",
       "      <th>REPORTED_SATISFACTION</th>\n",
       "      <th>REPORTED_USAGE_LEVEL</th>\n",
       "      <th>CONSIDERING_CHANGE_OF_PLAN</th>\n",
       "      <th>CHURN</th>\n",
       "    </tr>\n",
       "  </thead>\n",
       "  <tbody>\n",
       "    <tr>\n",
       "      <th>6</th>\n",
       "      <td>6337</td>\n",
       "      <td>1</td>\n",
       "      <td>99548</td>\n",
       "      <td>235</td>\n",
       "      <td>0</td>\n",
       "      <td>238561.000000</td>\n",
       "      <td>294</td>\n",
       "      <td>15</td>\n",
       "      <td>6</td>\n",
       "      <td>very_unsat</td>\n",
       "      <td>little</td>\n",
       "      <td>actively_looking_into_it</td>\n",
       "      <td>1</td>\n",
       "    </tr>\n",
       "    <tr>\n",
       "      <th>8</th>\n",
       "      <td>11134</td>\n",
       "      <td>1</td>\n",
       "      <td>133496</td>\n",
       "      <td>163</td>\n",
       "      <td>11</td>\n",
       "      <td>166179.000000</td>\n",
       "      <td>864</td>\n",
       "      <td>10</td>\n",
       "      <td>5</td>\n",
       "      <td>very_unsat</td>\n",
       "      <td>little</td>\n",
       "      <td>actively_looking_into_it</td>\n",
       "      <td>1</td>\n",
       "    </tr>\n",
       "    <tr>\n",
       "      <th>23</th>\n",
       "      <td>555</td>\n",
       "      <td>0</td>\n",
       "      <td>42564</td>\n",
       "      <td>174</td>\n",
       "      <td>0</td>\n",
       "      <td>270823.000000</td>\n",
       "      <td>209</td>\n",
       "      <td>25</td>\n",
       "      <td>13</td>\n",
       "      <td>unsat</td>\n",
       "      <td>very_little</td>\n",
       "      <td>considering</td>\n",
       "      <td>1</td>\n",
       "    </tr>\n",
       "    <tr>\n",
       "      <th>26</th>\n",
       "      <td>15152</td>\n",
       "      <td>0</td>\n",
       "      <td>80273</td>\n",
       "      <td>218</td>\n",
       "      <td>32</td>\n",
       "      <td>916662.000000</td>\n",
       "      <td>318</td>\n",
       "      <td>19</td>\n",
       "      <td>15</td>\n",
       "      <td>very_unsat</td>\n",
       "      <td>little</td>\n",
       "      <td>considering</td>\n",
       "      <td>1</td>\n",
       "    </tr>\n",
       "    <tr>\n",
       "      <th>28</th>\n",
       "      <td>1160</td>\n",
       "      <td>0</td>\n",
       "      <td>69417</td>\n",
       "      <td>52</td>\n",
       "      <td>88</td>\n",
       "      <td>686029.000000</td>\n",
       "      <td>331</td>\n",
       "      <td>3</td>\n",
       "      <td>2</td>\n",
       "      <td>very_unsat</td>\n",
       "      <td>little</td>\n",
       "      <td>actively_looking_into_it</td>\n",
       "      <td>1</td>\n",
       "    </tr>\n",
       "    <tr>\n",
       "      <th>...</th>\n",
       "      <td>...</td>\n",
       "      <td>...</td>\n",
       "      <td>...</td>\n",
       "      <td>...</td>\n",
       "      <td>...</td>\n",
       "      <td>...</td>\n",
       "      <td>...</td>\n",
       "      <td>...</td>\n",
       "      <td>...</td>\n",
       "      <td>...</td>\n",
       "      <td>...</td>\n",
       "      <td>...</td>\n",
       "      <td>...</td>\n",
       "    </tr>\n",
       "    <tr>\n",
       "      <th>17981</th>\n",
       "      <td>19860</td>\n",
       "      <td>0</td>\n",
       "      <td>42235</td>\n",
       "      <td>260</td>\n",
       "      <td>19</td>\n",
       "      <td>492950.532696</td>\n",
       "      <td>146</td>\n",
       "      <td>12</td>\n",
       "      <td>6</td>\n",
       "      <td>avg</td>\n",
       "      <td>very_little</td>\n",
       "      <td>considering</td>\n",
       "      <td>1</td>\n",
       "    </tr>\n",
       "    <tr>\n",
       "      <th>17984</th>\n",
       "      <td>11568</td>\n",
       "      <td>0</td>\n",
       "      <td>103469</td>\n",
       "      <td>230</td>\n",
       "      <td>0</td>\n",
       "      <td>492950.532696</td>\n",
       "      <td>565</td>\n",
       "      <td>22</td>\n",
       "      <td>13</td>\n",
       "      <td>avg</td>\n",
       "      <td>little</td>\n",
       "      <td>actively_looking_into_it</td>\n",
       "      <td>1</td>\n",
       "    </tr>\n",
       "    <tr>\n",
       "      <th>17987</th>\n",
       "      <td>17077</td>\n",
       "      <td>1</td>\n",
       "      <td>44611</td>\n",
       "      <td>56</td>\n",
       "      <td>13</td>\n",
       "      <td>492950.532696</td>\n",
       "      <td>202</td>\n",
       "      <td>3</td>\n",
       "      <td>5</td>\n",
       "      <td>sat</td>\n",
       "      <td>little</td>\n",
       "      <td>actively_looking_into_it</td>\n",
       "      <td>1</td>\n",
       "    </tr>\n",
       "    <tr>\n",
       "      <th>17993</th>\n",
       "      <td>17217</td>\n",
       "      <td>1</td>\n",
       "      <td>72824</td>\n",
       "      <td>53</td>\n",
       "      <td>42</td>\n",
       "      <td>492950.532696</td>\n",
       "      <td>370</td>\n",
       "      <td>4</td>\n",
       "      <td>1</td>\n",
       "      <td>very_unsat</td>\n",
       "      <td>very_little</td>\n",
       "      <td>considering</td>\n",
       "      <td>1</td>\n",
       "    </tr>\n",
       "    <tr>\n",
       "      <th>17999</th>\n",
       "      <td>2553</td>\n",
       "      <td>0</td>\n",
       "      <td>104849</td>\n",
       "      <td>223</td>\n",
       "      <td>5</td>\n",
       "      <td>492950.532696</td>\n",
       "      <td>463</td>\n",
       "      <td>21</td>\n",
       "      <td>5</td>\n",
       "      <td>very_unsat</td>\n",
       "      <td>little</td>\n",
       "      <td>considering</td>\n",
       "      <td>1</td>\n",
       "    </tr>\n",
       "  </tbody>\n",
       "</table>\n",
       "<p>3391 rows × 13 columns</p>\n",
       "</div>"
      ],
      "text/plain": [
       "          id  COLLEGE  INCOME  OVERAGE  LEFTOVER          HOUSE  \\\n",
       "6       6337        1   99548      235         0  238561.000000   \n",
       "8      11134        1  133496      163        11  166179.000000   \n",
       "23       555        0   42564      174         0  270823.000000   \n",
       "26     15152        0   80273      218        32  916662.000000   \n",
       "28      1160        0   69417       52        88  686029.000000   \n",
       "...      ...      ...     ...      ...       ...            ...   \n",
       "17981  19860        0   42235      260        19  492950.532696   \n",
       "17984  11568        0  103469      230         0  492950.532696   \n",
       "17987  17077        1   44611       56        13  492950.532696   \n",
       "17993  17217        1   72824       53        42  492950.532696   \n",
       "17999   2553        0  104849      223         5  492950.532696   \n",
       "\n",
       "       HANDSET_PRICE  OVER_15MINS_CALLS_PER_MONTH  AVERAGE_CALL_DURATION  \\\n",
       "6                294                           15                      6   \n",
       "8                864                           10                      5   \n",
       "23               209                           25                     13   \n",
       "26               318                           19                     15   \n",
       "28               331                            3                      2   \n",
       "...              ...                          ...                    ...   \n",
       "17981            146                           12                      6   \n",
       "17984            565                           22                     13   \n",
       "17987            202                            3                      5   \n",
       "17993            370                            4                      1   \n",
       "17999            463                           21                      5   \n",
       "\n",
       "      REPORTED_SATISFACTION REPORTED_USAGE_LEVEL CONSIDERING_CHANGE_OF_PLAN  \\\n",
       "6                very_unsat               little   actively_looking_into_it   \n",
       "8                very_unsat               little   actively_looking_into_it   \n",
       "23                    unsat          very_little                considering   \n",
       "26               very_unsat               little                considering   \n",
       "28               very_unsat               little   actively_looking_into_it   \n",
       "...                     ...                  ...                        ...   \n",
       "17981                   avg          very_little                considering   \n",
       "17984                   avg               little   actively_looking_into_it   \n",
       "17987                   sat               little   actively_looking_into_it   \n",
       "17993            very_unsat          very_little                considering   \n",
       "17999            very_unsat               little                considering   \n",
       "\n",
       "       CHURN  \n",
       "6          1  \n",
       "8          1  \n",
       "23         1  \n",
       "26         1  \n",
       "28         1  \n",
       "...      ...  \n",
       "17981      1  \n",
       "17984      1  \n",
       "17987      1  \n",
       "17993      1  \n",
       "17999      1  \n",
       "\n",
       "[3391 rows x 13 columns]"
      ]
     },
     "execution_count": 37,
     "metadata": {},
     "output_type": "execute_result"
    }
   ],
   "source": [
    "little_grp = real.loc[(real[feature]=='little') | (real[feature]=='very_little')]\n",
    "little_grp"
   ]
  },
  {
   "cell_type": "markdown",
   "id": "66dfbfa7",
   "metadata": {},
   "source": [
    "real 집단 5668 명 중 3391명, 즉 59.8%의 고객이 핸드폰 사용수준이 많지 않음을 나타냄\n",
    "\n",
    "-> 그래서 초과사용에 대한 피쳐들만 조사해봄"
   ]
  },
  {
   "cell_type": "code",
   "execution_count": 38,
   "id": "89ef6fb0",
   "metadata": {},
   "outputs": [
    {
     "data": {
      "text/plain": [
       "count    3391.000000\n",
       "mean      108.028900\n",
       "std        87.489362\n",
       "min         0.000000\n",
       "25%        33.000000\n",
       "50%        76.000000\n",
       "75%       194.000000\n",
       "max       288.000000\n",
       "Name: OVERAGE, dtype: float64"
      ]
     },
     "execution_count": 38,
     "metadata": {},
     "output_type": "execute_result"
    }
   ],
   "source": [
    "# 월 초과사용 시간(분)\n",
    "feature='OVERAGE'\n",
    "little_grp[feature].describe()"
   ]
  },
  {
   "cell_type": "code",
   "execution_count": 39,
   "id": "db620963",
   "metadata": {},
   "outputs": [
    {
     "data": {
      "image/png": "[encoded data removed]",
      "text/plain": [
       "<Figure size 936x504 with 2 Axes>"
      ]
     },
     "metadata": {
      "needs_background": "light"
     },
     "output_type": "display_data"
    }
   ],
   "source": [
    "plt.figure(figsize=(13,7))\n",
    "plt.subplot(2,2,1)\n",
    "sns.histplot(little_grp[feature], bins=50)\n",
    "\n",
    "plt.subplot(2,2,2)\n",
    "sns.boxplot(little_grp[feature])\n",
    "\n",
    "plt.tight_layout()\n",
    "plt.show()"
   ]
  },
  {
   "cell_type": "code",
   "execution_count": 41,
   "id": "3bb8bd21",
   "metadata": {},
   "outputs": [
    {
     "name": "stdout",
     "output_type": "stream",
     "text": [
      "OVER_15MINS_CALLS_PER_MONTH     8.012778\n",
      "OVERAGE                        86.014833\n",
      "dtype: float64\n"
     ]
    }
   ],
   "source": [
    "# 전체 인원의 평균 장기통화, 평균 초과 통화량\n",
    "print(df[['OVER_15MINS_CALLS_PER_MONTH','OVERAGE']].mean())"
   ]
  },
  {
   "cell_type": "code",
   "execution_count": 44,
   "id": "d3f68cb8",
   "metadata": {},
   "outputs": [
    {
     "data": {
      "text/html": [
       "<div>\n",
       "<style scoped>\n",
       "    .dataframe tbody tr th:only-of-type {\n",
       "        vertical-align: middle;\n",
       "    }\n",
       "\n",
       "    .dataframe tbody tr th {\n",
       "        vertical-align: top;\n",
       "    }\n",
       "\n",
       "    .dataframe thead th {\n",
       "        text-align: right;\n",
       "    }\n",
       "</style>\n",
       "<table border=\"1\" class=\"dataframe\">\n",
       "  <thead>\n",
       "    <tr style=\"text-align: right;\">\n",
       "      <th></th>\n",
       "      <th>OVERAGE</th>\n",
       "      <th>OVER_15MINS_CALLS_PER_MONTH</th>\n",
       "    </tr>\n",
       "  </thead>\n",
       "  <tbody>\n",
       "    <tr>\n",
       "      <th>6</th>\n",
       "      <td>235</td>\n",
       "      <td>15</td>\n",
       "    </tr>\n",
       "    <tr>\n",
       "      <th>8</th>\n",
       "      <td>163</td>\n",
       "      <td>10</td>\n",
       "    </tr>\n",
       "    <tr>\n",
       "      <th>23</th>\n",
       "      <td>174</td>\n",
       "      <td>25</td>\n",
       "    </tr>\n",
       "    <tr>\n",
       "      <th>26</th>\n",
       "      <td>218</td>\n",
       "      <td>19</td>\n",
       "    </tr>\n",
       "    <tr>\n",
       "      <th>40</th>\n",
       "      <td>158</td>\n",
       "      <td>28</td>\n",
       "    </tr>\n",
       "    <tr>\n",
       "      <th>...</th>\n",
       "      <td>...</td>\n",
       "      <td>...</td>\n",
       "    </tr>\n",
       "    <tr>\n",
       "      <th>17978</th>\n",
       "      <td>240</td>\n",
       "      <td>22</td>\n",
       "    </tr>\n",
       "    <tr>\n",
       "      <th>17980</th>\n",
       "      <td>87</td>\n",
       "      <td>5</td>\n",
       "    </tr>\n",
       "    <tr>\n",
       "      <th>17981</th>\n",
       "      <td>260</td>\n",
       "      <td>12</td>\n",
       "    </tr>\n",
       "    <tr>\n",
       "      <th>17984</th>\n",
       "      <td>230</td>\n",
       "      <td>22</td>\n",
       "    </tr>\n",
       "    <tr>\n",
       "      <th>17999</th>\n",
       "      <td>223</td>\n",
       "      <td>21</td>\n",
       "    </tr>\n",
       "  </tbody>\n",
       "</table>\n",
       "<p>1683 rows × 2 columns</p>\n",
       "</div>"
      ],
      "text/plain": [
       "       OVERAGE  OVER_15MINS_CALLS_PER_MONTH\n",
       "6          235                           15\n",
       "8          163                           10\n",
       "23         174                           25\n",
       "26         218                           19\n",
       "40         158                           28\n",
       "...        ...                          ...\n",
       "17978      240                           22\n",
       "17980       87                            5\n",
       "17981      260                           12\n",
       "17984      230                           22\n",
       "17999      223                           21\n",
       "\n",
       "[1683 rows x 2 columns]"
      ]
     },
     "execution_count": 44,
     "metadata": {},
     "output_type": "execute_result"
    }
   ],
   "source": [
    "col = ['OVERAGE','OVER_15MINS_CALLS_PER_MONTH']\n",
    "over_little_grp=little_grp[col].loc[(little_grp['OVER_15MINS_CALLS_PER_MONTH']>df['OVER_15MINS_CALLS_PER_MONTH'].mean()) | \n",
    "                                   (little_grp['OVERAGE']>df['OVERAGE'].mean())]\n",
    "over_little_grp"
   ]
  },
  {
   "cell_type": "code",
   "execution_count": 45,
   "id": "33f83063",
   "metadata": {},
   "outputs": [
    {
     "name": "stdout",
     "output_type": "stream",
     "text": [
      "49.63137717487467\n"
     ]
    }
   ],
   "source": [
    "print(len(over_little_grp)/3391*100)"
   ]
  },
  {
   "cell_type": "markdown",
   "id": "362b41d3",
   "metadata": {},
   "source": [
    "little_grp 총 3391명 중 초과사용량과 장기 통화량의 평균보다 큰 사람들은 1683명\n",
    "\n",
    "즉, 49.6%\n",
    "\n",
    "> real 집단(실제 이탈집단)에서 사용량이 적다고 설문 해던 사람들 중  월 초과사용량과 장기 통화량이 평균보다 많은 사람들이 49.6%로 나왔다\n",
    "\n",
    "> 이것을 보았을 때 설문과 데이터의 모순점이라고 생각된다."
   ]
  }
 ],
 "metadata": {
  "kernelspec": {
   "display_name": "Python 3 (ipykernel)",
   "language": "python",
   "name": "python3"
  },
  "language_info": {
   "codemirror_mode": {
    "name": "ipython",
    "version": 3
   },
   "file_extension": ".py",
   "mimetype": "text/x-python",
   "name": "python",
   "nbconvert_exporter": "python",
   "pygments_lexer": "ipython3",
   "version": "3.9.7"
  }
 },
 "nbformat": 4,
 "nbformat_minor": 5
}
